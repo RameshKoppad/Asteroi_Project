{
 "cells": [
  {
   "cell_type": "markdown",
   "id": "particular-hanging",
   "metadata": {},
   "source": [
    "# Modelling and Error Analysis"
   ]
  },
  {
   "cell_type": "code",
   "execution_count": 14,
   "id": "numerous-award",
   "metadata": {},
   "outputs": [],
   "source": [
    "# libraries required are imported\n",
    "import pandas as pd\n",
    "import numpy as np\n",
    "import matplotlib.pyplot as plt\n",
    "import seaborn as sns\n",
    "from scipy import stats\n",
    "from random import sample\n",
    "import warnings # alert the user of some condition in program\n",
    "warnings.filterwarnings('ignore') # There is warning if there are some absolete of\n",
    "                                  # certain programming elements such as keywords or class, etc"
   ]
  },
  {
   "cell_type": "code",
   "execution_count": 15,
   "id": "dc7028d9",
   "metadata": {},
   "outputs": [],
   "source": [
    "#To see all the columns of dataset\n",
    "pd.set_option('display.max_columns', 50)"
   ]
  },
  {
   "cell_type": "markdown",
   "id": "14cb4635",
   "metadata": {},
   "source": [
    "### Import Dataset \n",
    "\n",
    "Import cleaned dataset"
   ]
  },
  {
   "cell_type": "code",
   "execution_count": 16,
   "id": "4413f2d7",
   "metadata": {},
   "outputs": [
    {
     "name": "stdout",
     "output_type": "stream",
     "text": [
      "        Unnamed: 0         a         e          i          om           w  \\\n",
      "0                0  2.769165  0.076009  10.594067   80.305532   73.597694   \n",
      "1                1  2.772466  0.230337  26.577378  173.080063  310.048857   \n",
      "2                2  2.669150  0.256942  12.988919  169.852760  248.138626   \n",
      "3                3  2.361418  0.088721   7.141771  103.810804  150.728541   \n",
      "4                4  2.574249  0.191095   5.366988  141.576605  358.687607   \n",
      "...            ...       ...       ...        ...         ...         ...   \n",
      "136401      797835  3.155975  0.343178  26.577378  115.532995  136.849398   \n",
      "136402      797860  3.171225  0.159119  26.577378  309.036573   19.746812   \n",
      "136403      798077  2.548410  0.076071  11.593237  246.298656  170.090810   \n",
      "136404      799752  3.051336  0.287449  14.456779  343.917822  342.614839   \n",
      "136405      810375  2.417477  0.109001   4.525668  148.244819   31.949854   \n",
      "\n",
      "               q        ad     per_y  data_arc  condition_code  n_obs_used  \\\n",
      "0       2.558684  2.979647  4.608202    8822.0               0      1002.0   \n",
      "1       2.133865  3.411067  4.616444   14947.5               0      2145.0   \n",
      "2       1.983332  3.354967  4.360814   14947.5               0      2145.0   \n",
      "3       2.151909  2.570926  3.628837   14947.5               0      2145.0   \n",
      "4       2.082324  3.066174  4.130323   14947.5               0      2145.0   \n",
      "...          ...       ...       ...       ...             ...         ...   \n",
      "136401  1.797805  4.372047  5.606716    2250.0               2        47.0   \n",
      "136402  2.666623  3.675826  5.647402    2373.0               1        50.0   \n",
      "136403  2.354549  2.742270  4.068291    3297.0               2        33.0   \n",
      "136404  2.174231  3.928440  5.330196    2208.0               2        27.0   \n",
      "136405  2.153970  2.680984  3.758822    3458.0               3        25.0   \n",
      "\n",
      "            H neo pha  albedo      moid class         n          per  \\\n",
      "0       11.85   N   N  0.0900  1.594780   MBA  0.213885  1683.145708   \n",
      "1       11.85   N   N  0.1010  1.233240   MBA  0.213503  1686.155999   \n",
      "2       11.85   N   N  0.2140  1.034540   MBA  0.226019  1592.787285   \n",
      "3       11.85   N   N  0.3905  1.139480   MBA  0.271609  1325.432765   \n",
      "4       11.85   N   N  0.2740  1.095890   MBA  0.238632  1508.600458   \n",
      "...       ...  ..  ..     ...       ...   ...       ...          ...   \n",
      "136401  18.20   N   N  0.1160  0.854315   MBA  0.175794  2047.852953   \n",
      "136402  16.20   N   N  0.0210  1.663010   MBA  0.174527  2062.713583   \n",
      "136403  17.30   N   N  0.0610  1.367330   MBA  0.242270  1485.943371   \n",
      "136404  17.20   N   N  0.0720  1.166840   MBA  0.184914  1946.853973   \n",
      "136405  18.40   N   N  0.0230  1.159420   MBA  0.262217  1372.909600   \n",
      "\n",
      "                ma  Diameter  \n",
      "0        77.372096    10.240  \n",
      "1        59.699133    10.240  \n",
      "2        34.925016    10.240  \n",
      "3        95.861936    10.240  \n",
      "4       282.366289    10.240  \n",
      "...            ...       ...  \n",
      "136401  195.737632     1.077  \n",
      "136402  164.999439     3.793  \n",
      "136403  145.319581     2.696  \n",
      "136404  175.708508     3.271  \n",
      "136405  170.888415     1.600  \n",
      "\n",
      "[136406 rows x 22 columns]\n"
     ]
    }
   ],
   "source": [
    "# Read dataset cleaned\n",
    "dataset = pd.read_csv('Clean_Dataset.csv')\n",
    "print(dataset)"
   ]
  },
  {
   "cell_type": "code",
   "execution_count": 17,
   "id": "dc279a86",
   "metadata": {},
   "outputs": [
    {
     "data": {
      "text/html": [
       "<div>\n",
       "<style scoped>\n",
       "    .dataframe tbody tr th:only-of-type {\n",
       "        vertical-align: middle;\n",
       "    }\n",
       "\n",
       "    .dataframe tbody tr th {\n",
       "        vertical-align: top;\n",
       "    }\n",
       "\n",
       "    .dataframe thead th {\n",
       "        text-align: right;\n",
       "    }\n",
       "</style>\n",
       "<table border=\"1\" class=\"dataframe\">\n",
       "  <thead>\n",
       "    <tr style=\"text-align: right;\">\n",
       "      <th></th>\n",
       "      <th>Unnamed: 0</th>\n",
       "      <th>a</th>\n",
       "      <th>e</th>\n",
       "      <th>i</th>\n",
       "      <th>om</th>\n",
       "      <th>w</th>\n",
       "      <th>q</th>\n",
       "      <th>ad</th>\n",
       "      <th>per_y</th>\n",
       "      <th>data_arc</th>\n",
       "      <th>condition_code</th>\n",
       "      <th>n_obs_used</th>\n",
       "      <th>H</th>\n",
       "      <th>neo</th>\n",
       "      <th>pha</th>\n",
       "      <th>albedo</th>\n",
       "      <th>moid</th>\n",
       "      <th>class</th>\n",
       "      <th>n</th>\n",
       "      <th>per</th>\n",
       "      <th>ma</th>\n",
       "      <th>Diameter</th>\n",
       "    </tr>\n",
       "  </thead>\n",
       "  <tbody>\n",
       "    <tr>\n",
       "      <th>0</th>\n",
       "      <td>0</td>\n",
       "      <td>2.769165</td>\n",
       "      <td>0.076009</td>\n",
       "      <td>10.594067</td>\n",
       "      <td>80.305532</td>\n",
       "      <td>73.597694</td>\n",
       "      <td>2.558684</td>\n",
       "      <td>2.979647</td>\n",
       "      <td>4.608202</td>\n",
       "      <td>8822.0</td>\n",
       "      <td>0</td>\n",
       "      <td>1002.0</td>\n",
       "      <td>11.85</td>\n",
       "      <td>N</td>\n",
       "      <td>N</td>\n",
       "      <td>0.0900</td>\n",
       "      <td>1.59478</td>\n",
       "      <td>MBA</td>\n",
       "      <td>0.213885</td>\n",
       "      <td>1683.145708</td>\n",
       "      <td>77.372096</td>\n",
       "      <td>10.24</td>\n",
       "    </tr>\n",
       "    <tr>\n",
       "      <th>1</th>\n",
       "      <td>1</td>\n",
       "      <td>2.772466</td>\n",
       "      <td>0.230337</td>\n",
       "      <td>26.577378</td>\n",
       "      <td>173.080063</td>\n",
       "      <td>310.048857</td>\n",
       "      <td>2.133865</td>\n",
       "      <td>3.411067</td>\n",
       "      <td>4.616444</td>\n",
       "      <td>14947.5</td>\n",
       "      <td>0</td>\n",
       "      <td>2145.0</td>\n",
       "      <td>11.85</td>\n",
       "      <td>N</td>\n",
       "      <td>N</td>\n",
       "      <td>0.1010</td>\n",
       "      <td>1.23324</td>\n",
       "      <td>MBA</td>\n",
       "      <td>0.213503</td>\n",
       "      <td>1686.155999</td>\n",
       "      <td>59.699133</td>\n",
       "      <td>10.24</td>\n",
       "    </tr>\n",
       "    <tr>\n",
       "      <th>2</th>\n",
       "      <td>2</td>\n",
       "      <td>2.669150</td>\n",
       "      <td>0.256942</td>\n",
       "      <td>12.988919</td>\n",
       "      <td>169.852760</td>\n",
       "      <td>248.138626</td>\n",
       "      <td>1.983332</td>\n",
       "      <td>3.354967</td>\n",
       "      <td>4.360814</td>\n",
       "      <td>14947.5</td>\n",
       "      <td>0</td>\n",
       "      <td>2145.0</td>\n",
       "      <td>11.85</td>\n",
       "      <td>N</td>\n",
       "      <td>N</td>\n",
       "      <td>0.2140</td>\n",
       "      <td>1.03454</td>\n",
       "      <td>MBA</td>\n",
       "      <td>0.226019</td>\n",
       "      <td>1592.787285</td>\n",
       "      <td>34.925016</td>\n",
       "      <td>10.24</td>\n",
       "    </tr>\n",
       "    <tr>\n",
       "      <th>3</th>\n",
       "      <td>3</td>\n",
       "      <td>2.361418</td>\n",
       "      <td>0.088721</td>\n",
       "      <td>7.141771</td>\n",
       "      <td>103.810804</td>\n",
       "      <td>150.728541</td>\n",
       "      <td>2.151909</td>\n",
       "      <td>2.570926</td>\n",
       "      <td>3.628837</td>\n",
       "      <td>14947.5</td>\n",
       "      <td>0</td>\n",
       "      <td>2145.0</td>\n",
       "      <td>11.85</td>\n",
       "      <td>N</td>\n",
       "      <td>N</td>\n",
       "      <td>0.3905</td>\n",
       "      <td>1.13948</td>\n",
       "      <td>MBA</td>\n",
       "      <td>0.271609</td>\n",
       "      <td>1325.432765</td>\n",
       "      <td>95.861936</td>\n",
       "      <td>10.24</td>\n",
       "    </tr>\n",
       "    <tr>\n",
       "      <th>4</th>\n",
       "      <td>4</td>\n",
       "      <td>2.574249</td>\n",
       "      <td>0.191095</td>\n",
       "      <td>5.366988</td>\n",
       "      <td>141.576605</td>\n",
       "      <td>358.687607</td>\n",
       "      <td>2.082324</td>\n",
       "      <td>3.066174</td>\n",
       "      <td>4.130323</td>\n",
       "      <td>14947.5</td>\n",
       "      <td>0</td>\n",
       "      <td>2145.0</td>\n",
       "      <td>11.85</td>\n",
       "      <td>N</td>\n",
       "      <td>N</td>\n",
       "      <td>0.2740</td>\n",
       "      <td>1.09589</td>\n",
       "      <td>MBA</td>\n",
       "      <td>0.238632</td>\n",
       "      <td>1508.600458</td>\n",
       "      <td>282.366289</td>\n",
       "      <td>10.24</td>\n",
       "    </tr>\n",
       "  </tbody>\n",
       "</table>\n",
       "</div>"
      ],
      "text/plain": [
       "   Unnamed: 0         a         e          i          om           w  \\\n",
       "0           0  2.769165  0.076009  10.594067   80.305532   73.597694   \n",
       "1           1  2.772466  0.230337  26.577378  173.080063  310.048857   \n",
       "2           2  2.669150  0.256942  12.988919  169.852760  248.138626   \n",
       "3           3  2.361418  0.088721   7.141771  103.810804  150.728541   \n",
       "4           4  2.574249  0.191095   5.366988  141.576605  358.687607   \n",
       "\n",
       "          q        ad     per_y  data_arc  condition_code  n_obs_used      H  \\\n",
       "0  2.558684  2.979647  4.608202    8822.0               0      1002.0  11.85   \n",
       "1  2.133865  3.411067  4.616444   14947.5               0      2145.0  11.85   \n",
       "2  1.983332  3.354967  4.360814   14947.5               0      2145.0  11.85   \n",
       "3  2.151909  2.570926  3.628837   14947.5               0      2145.0  11.85   \n",
       "4  2.082324  3.066174  4.130323   14947.5               0      2145.0  11.85   \n",
       "\n",
       "  neo pha  albedo     moid class         n          per          ma  Diameter  \n",
       "0   N   N  0.0900  1.59478   MBA  0.213885  1683.145708   77.372096     10.24  \n",
       "1   N   N  0.1010  1.23324   MBA  0.213503  1686.155999   59.699133     10.24  \n",
       "2   N   N  0.2140  1.03454   MBA  0.226019  1592.787285   34.925016     10.24  \n",
       "3   N   N  0.3905  1.13948   MBA  0.271609  1325.432765   95.861936     10.24  \n",
       "4   N   N  0.2740  1.09589   MBA  0.238632  1508.600458  282.366289     10.24  "
      ]
     },
     "execution_count": 17,
     "metadata": {},
     "output_type": "execute_result"
    }
   ],
   "source": [
    "# dataset.head() prints/shows first 5 rows of dataset\n",
    "dataset.head()"
   ]
  },
  {
   "cell_type": "code",
   "execution_count": 18,
   "id": "e313417f",
   "metadata": {},
   "outputs": [
    {
     "data": {
      "text/html": [
       "<div>\n",
       "<style scoped>\n",
       "    .dataframe tbody tr th:only-of-type {\n",
       "        vertical-align: middle;\n",
       "    }\n",
       "\n",
       "    .dataframe tbody tr th {\n",
       "        vertical-align: top;\n",
       "    }\n",
       "\n",
       "    .dataframe thead th {\n",
       "        text-align: right;\n",
       "    }\n",
       "</style>\n",
       "<table border=\"1\" class=\"dataframe\">\n",
       "  <thead>\n",
       "    <tr style=\"text-align: right;\">\n",
       "      <th></th>\n",
       "      <th>a</th>\n",
       "      <th>e</th>\n",
       "      <th>i</th>\n",
       "      <th>om</th>\n",
       "      <th>w</th>\n",
       "      <th>q</th>\n",
       "      <th>ad</th>\n",
       "      <th>per_y</th>\n",
       "      <th>data_arc</th>\n",
       "      <th>condition_code</th>\n",
       "      <th>n_obs_used</th>\n",
       "      <th>H</th>\n",
       "      <th>neo</th>\n",
       "      <th>pha</th>\n",
       "      <th>albedo</th>\n",
       "      <th>moid</th>\n",
       "      <th>class</th>\n",
       "      <th>n</th>\n",
       "      <th>per</th>\n",
       "      <th>ma</th>\n",
       "      <th>Diameter</th>\n",
       "    </tr>\n",
       "  </thead>\n",
       "  <tbody>\n",
       "    <tr>\n",
       "      <th>0</th>\n",
       "      <td>2.769165</td>\n",
       "      <td>0.076009</td>\n",
       "      <td>10.594067</td>\n",
       "      <td>80.305532</td>\n",
       "      <td>73.597694</td>\n",
       "      <td>2.558684</td>\n",
       "      <td>2.979647</td>\n",
       "      <td>4.608202</td>\n",
       "      <td>8822.0</td>\n",
       "      <td>0</td>\n",
       "      <td>1002.0</td>\n",
       "      <td>11.85</td>\n",
       "      <td>N</td>\n",
       "      <td>N</td>\n",
       "      <td>0.0900</td>\n",
       "      <td>1.59478</td>\n",
       "      <td>MBA</td>\n",
       "      <td>0.213885</td>\n",
       "      <td>1683.145708</td>\n",
       "      <td>77.372096</td>\n",
       "      <td>10.24</td>\n",
       "    </tr>\n",
       "    <tr>\n",
       "      <th>1</th>\n",
       "      <td>2.772466</td>\n",
       "      <td>0.230337</td>\n",
       "      <td>26.577378</td>\n",
       "      <td>173.080063</td>\n",
       "      <td>310.048857</td>\n",
       "      <td>2.133865</td>\n",
       "      <td>3.411067</td>\n",
       "      <td>4.616444</td>\n",
       "      <td>14947.5</td>\n",
       "      <td>0</td>\n",
       "      <td>2145.0</td>\n",
       "      <td>11.85</td>\n",
       "      <td>N</td>\n",
       "      <td>N</td>\n",
       "      <td>0.1010</td>\n",
       "      <td>1.23324</td>\n",
       "      <td>MBA</td>\n",
       "      <td>0.213503</td>\n",
       "      <td>1686.155999</td>\n",
       "      <td>59.699133</td>\n",
       "      <td>10.24</td>\n",
       "    </tr>\n",
       "    <tr>\n",
       "      <th>2</th>\n",
       "      <td>2.669150</td>\n",
       "      <td>0.256942</td>\n",
       "      <td>12.988919</td>\n",
       "      <td>169.852760</td>\n",
       "      <td>248.138626</td>\n",
       "      <td>1.983332</td>\n",
       "      <td>3.354967</td>\n",
       "      <td>4.360814</td>\n",
       "      <td>14947.5</td>\n",
       "      <td>0</td>\n",
       "      <td>2145.0</td>\n",
       "      <td>11.85</td>\n",
       "      <td>N</td>\n",
       "      <td>N</td>\n",
       "      <td>0.2140</td>\n",
       "      <td>1.03454</td>\n",
       "      <td>MBA</td>\n",
       "      <td>0.226019</td>\n",
       "      <td>1592.787285</td>\n",
       "      <td>34.925016</td>\n",
       "      <td>10.24</td>\n",
       "    </tr>\n",
       "    <tr>\n",
       "      <th>3</th>\n",
       "      <td>2.361418</td>\n",
       "      <td>0.088721</td>\n",
       "      <td>7.141771</td>\n",
       "      <td>103.810804</td>\n",
       "      <td>150.728541</td>\n",
       "      <td>2.151909</td>\n",
       "      <td>2.570926</td>\n",
       "      <td>3.628837</td>\n",
       "      <td>14947.5</td>\n",
       "      <td>0</td>\n",
       "      <td>2145.0</td>\n",
       "      <td>11.85</td>\n",
       "      <td>N</td>\n",
       "      <td>N</td>\n",
       "      <td>0.3905</td>\n",
       "      <td>1.13948</td>\n",
       "      <td>MBA</td>\n",
       "      <td>0.271609</td>\n",
       "      <td>1325.432765</td>\n",
       "      <td>95.861936</td>\n",
       "      <td>10.24</td>\n",
       "    </tr>\n",
       "    <tr>\n",
       "      <th>4</th>\n",
       "      <td>2.574249</td>\n",
       "      <td>0.191095</td>\n",
       "      <td>5.366988</td>\n",
       "      <td>141.576605</td>\n",
       "      <td>358.687607</td>\n",
       "      <td>2.082324</td>\n",
       "      <td>3.066174</td>\n",
       "      <td>4.130323</td>\n",
       "      <td>14947.5</td>\n",
       "      <td>0</td>\n",
       "      <td>2145.0</td>\n",
       "      <td>11.85</td>\n",
       "      <td>N</td>\n",
       "      <td>N</td>\n",
       "      <td>0.2740</td>\n",
       "      <td>1.09589</td>\n",
       "      <td>MBA</td>\n",
       "      <td>0.238632</td>\n",
       "      <td>1508.600458</td>\n",
       "      <td>282.366289</td>\n",
       "      <td>10.24</td>\n",
       "    </tr>\n",
       "  </tbody>\n",
       "</table>\n",
       "</div>"
      ],
      "text/plain": [
       "          a         e          i          om           w         q        ad  \\\n",
       "0  2.769165  0.076009  10.594067   80.305532   73.597694  2.558684  2.979647   \n",
       "1  2.772466  0.230337  26.577378  173.080063  310.048857  2.133865  3.411067   \n",
       "2  2.669150  0.256942  12.988919  169.852760  248.138626  1.983332  3.354967   \n",
       "3  2.361418  0.088721   7.141771  103.810804  150.728541  2.151909  2.570926   \n",
       "4  2.574249  0.191095   5.366988  141.576605  358.687607  2.082324  3.066174   \n",
       "\n",
       "      per_y  data_arc  condition_code  n_obs_used      H neo pha  albedo  \\\n",
       "0  4.608202    8822.0               0      1002.0  11.85   N   N  0.0900   \n",
       "1  4.616444   14947.5               0      2145.0  11.85   N   N  0.1010   \n",
       "2  4.360814   14947.5               0      2145.0  11.85   N   N  0.2140   \n",
       "3  3.628837   14947.5               0      2145.0  11.85   N   N  0.3905   \n",
       "4  4.130323   14947.5               0      2145.0  11.85   N   N  0.2740   \n",
       "\n",
       "      moid class         n          per          ma  Diameter  \n",
       "0  1.59478   MBA  0.213885  1683.145708   77.372096     10.24  \n",
       "1  1.23324   MBA  0.213503  1686.155999   59.699133     10.24  \n",
       "2  1.03454   MBA  0.226019  1592.787285   34.925016     10.24  \n",
       "3  1.13948   MBA  0.271609  1325.432765   95.861936     10.24  \n",
       "4  1.09589   MBA  0.238632  1508.600458  282.366289     10.24  "
      ]
     },
     "execution_count": 18,
     "metadata": {},
     "output_type": "execute_result"
    }
   ],
   "source": [
    "# dropped Unnamed column's\n",
    "dataset.drop('Unnamed: 0', axis=1, inplace=True)\n",
    "dataset.head()"
   ]
  },
  {
   "cell_type": "code",
   "execution_count": 19,
   "id": "a6fdb776",
   "metadata": {},
   "outputs": [
    {
     "name": "stdout",
     "output_type": "stream",
     "text": [
      "Categorical Data :  ['neo', 'pha', 'class']\n",
      "Numeric Data :  ['a', 'e', 'i', 'om', 'w', 'q', 'ad', 'per_y', 'data_arc', 'condition_code', 'n_obs_used', 'H', 'albedo', 'moid', 'n', 'per', 'ma', 'Diameter']\n"
     ]
    }
   ],
   "source": [
    "# Segregate/Separate the data into Numeric and Catergorical ones\n",
    "categorical, numeric = [], []\n",
    "for ele in dataset.columns:\n",
    "    if dataset[ele].dtype == 'object':\n",
    "        categorical.append(ele)\n",
    "    else:\n",
    "        numeric.append(ele)\n",
    "print(\"Categorical Data : \", categorical)\n",
    "print(\"Numeric Data : \", numeric)"
   ]
  },
  {
   "cell_type": "markdown",
   "id": "c9c4aaa9",
   "metadata": {},
   "source": [
    "## Converting Categorical Data into Numerical "
   ]
  },
  {
   "cell_type": "markdown",
   "id": "5c11f5ce",
   "metadata": {},
   "source": [
    "### Creating Dummy Variables \n",
    "\n",
    "You can go through converting categorical data into numerical using dummy variables here: https://www.geeksforgeeks.org/convert-a-categorical-variable-into-dummy-variables/"
   ]
  },
  {
   "cell_type": "code",
   "execution_count": 20,
   "id": "02da7063",
   "metadata": {},
   "outputs": [],
   "source": [
    "#print(\"Categorical Data : \", categorical)"
   ]
  },
  {
   "cell_type": "code",
   "execution_count": 21,
   "id": "135e7003",
   "metadata": {},
   "outputs": [],
   "source": [
    "# one-hot encoding columns using 'get_dummies'\n",
    "# 'Dummies': a binary variable that indicates whether a separate categorical variable takes on a specific value.\n",
    "# get_dummies is used for data manipulation.\n",
    "# drop_first = True :--> reduces the extra column created during dummy variable creation(Hence it reduces the correlations\n",
    "# created among dummy variables).\n",
    "#dummy_neo = pd.get_dummies(dataset['neo'], drop_first = True)\n",
    "#dummy_neo.head()"
   ]
  },
  {
   "cell_type": "code",
   "execution_count": 22,
   "id": "142f4db7",
   "metadata": {},
   "outputs": [],
   "source": [
    "#dummy_pha = pd.get_dummies(dataset['pha'], drop_first = True)\n",
    "#dummy_pha.head()"
   ]
  },
  {
   "cell_type": "code",
   "execution_count": 23,
   "id": "c4c327ee",
   "metadata": {},
   "outputs": [],
   "source": [
    "#dummy_class = pd.get_dummies(dataset['class'], drop_first = True)\n",
    "#dummy_class.head()"
   ]
  },
  {
   "cell_type": "code",
   "execution_count": 24,
   "id": "31cb4b34",
   "metadata": {},
   "outputs": [],
   "source": [
    "#new_data = pd.concat([dataset, dummy_neo, dummy_pha, dummy_class], axis=1)\n",
    "#new_data.drop(['neo', 'pha', 'class'], axis=1, inplace=True)\n",
    "#new_data"
   ]
  },
  {
   "cell_type": "code",
   "execution_count": 25,
   "id": "d345b507",
   "metadata": {},
   "outputs": [],
   "source": [
    "#new_data.head()"
   ]
  },
  {
   "cell_type": "markdown",
   "id": "ca3ae5a6",
   "metadata": {},
   "source": [
    "## Split data into Train and Test Data \n",
    "\n",
    "from sklearn.model_selection import train_test_split\n",
    "\n",
    "you can go through this here: https://scikit-learn.org/stable/modules/generated/sklearn.model_selection.train_test_split.html"
   ]
  },
  {
   "cell_type": "code",
   "execution_count": 26,
   "id": "6269287d",
   "metadata": {},
   "outputs": [],
   "source": [
    "# importing and defining the model\n",
    "# \"sklearn.model_selection.train_test_split\": Split arrays or matrices into random train and test subsets\n",
    "from sklearn.model_selection import train_test_split\n",
    "X_train, X_test, y_train, y_test = train_test_split(new_data.drop('Diameter', axis=1), new_data['Diameter'], test_size=0.2, random_state=1)"
   ]
  },
  {
   "cell_type": "markdown",
   "id": "038d06da",
   "metadata": {},
   "source": [
    "### Scaling the data "
   ]
  },
  {
   "cell_type": "code",
   "execution_count": 27,
   "id": "ad2b09cc",
   "metadata": {},
   "outputs": [],
   "source": [
    "# importing and defining model\n",
    "# \"sklearn.preprocessing import StandardScaler\": Standardize features by removing the mean and scaling to unit variance\n",
    "from sklearn.preprocessing import StandardScaler\n",
    "scale = StandardScaler()\n",
    "\n",
    "# \"scale.fit_transform\" \n",
    "X_train = scale.fit_transform(X_train)\n",
    "\n",
    "#\"scale.transform\"\n",
    "X_test = scale.transform(X_test)"
   ]
  },
  {
   "cell_type": "markdown",
   "id": "c4fcf72f",
   "metadata": {},
   "source": [
    "### Evaluation \n",
    "\n",
    "You can go through all these here:\n",
    "\n",
    "\"from sklearn.metrics import mean_absolute_error\": https://scikit-learn.org/stable/modules/generated/sklearn.metrics.mean_absolute_error.html\n",
    "\n",
    "\"from sklearn.metrics import mean_squared_error\": https://scikit-learn.org/stable/modules/generated/sklearn.metrics.mean_squared_error.html\n",
    "\n",
    "\"from sklearn.metrics import r2_score\": https://scikit-learn.org/stable/modules/generated/sklearn.metrics.r2_score.html\n",
    "\n",
    "\"from math import sqrt\": https://www.geeksforgeeks.org/python-math-function-sqrt/\n",
    " "
   ]
  },
  {
   "cell_type": "code",
   "execution_count": 28,
   "id": "d460b4ca",
   "metadata": {},
   "outputs": [],
   "source": [
    "# importing modules\n",
    "from sklearn.metrics import mean_absolute_error\n",
    "from sklearn.metrics import mean_squared_error\n",
    "from sklearn.metrics import r2_score\n",
    "from math import sqrt\n",
    "import seaborn as sns"
   ]
  },
  {
   "cell_type": "code",
   "execution_count": 29,
   "id": "dba06e52",
   "metadata": {},
   "outputs": [],
   "source": [
    "def evaluate(y_pred, y_actual):\n",
    "    mae = mean_absolute_error(y_actual, y_pred)\n",
    "    mse = mean_squared_error(y_actual, y_pred)\n",
    "    rmse = sqrt(mse)\n",
    "    r2 = r2_score(y_actual, y_pred)\n",
    "    \n",
    "    print(\"Mean Absolute Error :->\", mae)\n",
    "    print(\"Mean Squared Error :->\", mse)\n",
    "    print(\"Root Mean Squared Error :->\", rmse)\n",
    "    print(\"R2_Score :->\", r2)\n",
    "    \n",
    "    return mae, mse, rmse, r2"
   ]
  },
  {
   "cell_type": "code",
   "execution_count": 30,
   "id": "b9202596",
   "metadata": {},
   "outputs": [],
   "source": [
    "# \"Applying Algorithms\"\n",
    "# for storing algorithms name and it's performanace\n",
    "algo_score = {}"
   ]
  },
  {
   "cell_type": "markdown",
   "id": "a436e79d",
   "metadata": {},
   "source": [
    "## Random Forest Regressor\n",
    "\n",
    "sklearn.ensemble.RandomForestRegressor\n",
    "\n",
    "you can go through this here: https://scikit-learn.org/stable/modules/generated/sklearn.ensemble.RandomForestRegressor.html"
   ]
  },
  {
   "cell_type": "code",
   "execution_count": 31,
   "id": "43a01f48",
   "metadata": {},
   "outputs": [
    {
     "data": {
      "text/plain": [
       "RandomForestRegressor()"
      ]
     },
     "execution_count": 31,
     "metadata": {},
     "output_type": "execute_result"
    }
   ],
   "source": [
    "# training the random forest regressor model on the whole dataset\n",
    "from sklearn.ensemble import RandomForestRegressor\n",
    "RF_regressor = RandomForestRegressor()\n",
    "RF_regressor.fit(X_train, y_train)"
   ]
  },
  {
   "cell_type": "code",
   "execution_count": 32,
   "id": "65e0d680",
   "metadata": {},
   "outputs": [
    {
     "name": "stdout",
     "output_type": "stream",
     "text": [
      "Mean Absolute Error :-> 0.26880090902426895\n",
      "Mean Squared Error :-> 0.17606453451299758\n",
      "Root Mean Squared Error :-> 0.419600446273592\n",
      "R2_Score :-> 0.9696602221807307\n"
     ]
    }
   ],
   "source": [
    "# predicting the test set results\n",
    "y_pred_RF = RF_regressor.predict(X_test)\n",
    "mae, mse, rmse, r2 = evaluate(y_test, y_pred_RF)"
   ]
  },
  {
   "cell_type": "code",
   "execution_count": 33,
   "id": "b4c145ab",
   "metadata": {},
   "outputs": [],
   "source": [
    "# saved calculated score of algorithm\n",
    "algo_score['Random Forest Regressor'] = r2"
   ]
  },
  {
   "cell_type": "markdown",
   "id": "359c2a47",
   "metadata": {},
   "source": [
    "## K Nearest Neighbor Regressor "
   ]
  },
  {
   "cell_type": "code",
   "execution_count": 34,
   "id": "1fb67390",
   "metadata": {},
   "outputs": [
    {
     "data": {
      "text/plain": [
       "KNeighborsRegressor(n_neighbors=4)"
      ]
     },
     "execution_count": 34,
     "metadata": {},
     "output_type": "execute_result"
    }
   ],
   "source": [
    "from sklearn.neighbors import KNeighborsRegressor\n",
    "KNN = KNeighborsRegressor(n_neighbors = 4)\n",
    "KNN.fit(X_train, y_train)"
   ]
  },
  {
   "cell_type": "code",
   "execution_count": 35,
   "id": "f3d5c782",
   "metadata": {},
   "outputs": [
    {
     "name": "stdout",
     "output_type": "stream",
     "text": [
      "Mean Absolute Error :-> 0.4779474103804707\n",
      "Mean Squared Error :-> 0.4730649601683345\n",
      "Root Mean Squared Error :-> 0.6877971795292087\n",
      "R2_Score :-> 0.9116504039294485\n"
     ]
    }
   ],
   "source": [
    "# predicting the test set results\n",
    "y_pred_KNN = KNN.predict(X_test)\n",
    "mae, mse, rmse, r2 = evaluate(y_test, y_pred_KNN)"
   ]
  },
  {
   "cell_type": "code",
   "execution_count": 36,
   "id": "a17b9df0",
   "metadata": {},
   "outputs": [],
   "source": [
    "# saved calculated score of algorithm\n",
    "algo_score['K Nearest Neighbor Regressor'] = r2"
   ]
  },
  {
   "cell_type": "markdown",
   "id": "f32f1141",
   "metadata": {},
   "source": [
    "## Linear Regression \n",
    "\n",
    "from sklearn.linear_model import LinearRegression\n",
    "\n",
    "you can go through this here: https://scikit-learn.org/stable/modules/generated/sklearn.linear_model.LinearRegression.html"
   ]
  },
  {
   "cell_type": "code",
   "execution_count": 37,
   "id": "43efcb08",
   "metadata": {},
   "outputs": [
    {
     "data": {
      "text/plain": [
       "LinearRegression()"
      ]
     },
     "execution_count": 37,
     "metadata": {},
     "output_type": "execute_result"
    }
   ],
   "source": [
    "# training the linear regressor model on the whole dataset\n",
    "from sklearn.linear_model import LinearRegression\n",
    "linear_regression = LinearRegression()\n",
    "\n",
    "# training\n",
    "linear_regression.fit(X_train, y_train)"
   ]
  },
  {
   "cell_type": "code",
   "execution_count": 38,
   "id": "f9eaddf0",
   "metadata": {},
   "outputs": [
    {
     "name": "stdout",
     "output_type": "stream",
     "text": [
      "Mean Absolute Error :-> 0.5988856865940341\n",
      "Mean Squared Error :-> 0.6338630346133242\n",
      "Root Mean Squared Error :-> 0.7961551573740663\n",
      "R2_Score :-> 0.8812456820746711\n"
     ]
    }
   ],
   "source": [
    "# predicting the test set results\n",
    "y_pred_LR = linear_regression.predict(X_test)\n",
    "mae, mse, rmse, r2 = evaluate(y_test, y_pred_LR)"
   ]
  },
  {
   "cell_type": "code",
   "execution_count": 39,
   "id": "440353f1",
   "metadata": {},
   "outputs": [],
   "source": [
    "# saved calculated score of algorithm\n",
    "algo_score['Linear Regression'] = r2"
   ]
  },
  {
   "cell_type": "markdown",
   "id": "eba65120",
   "metadata": {},
   "source": [
    "## Decision Tree Regressor \n",
    "\n",
    "sklearn.tree.DecisionTreeRegressor\n",
    "\n",
    "you can go through this here: https://scikit-learn.org/stable/modules/generated/sklearn.tree.DecisionTreeRegressor.html"
   ]
  },
  {
   "cell_type": "code",
   "execution_count": 40,
   "id": "739f8131",
   "metadata": {},
   "outputs": [
    {
     "data": {
      "text/plain": [
       "DecisionTreeRegressor()"
      ]
     },
     "execution_count": 40,
     "metadata": {},
     "output_type": "execute_result"
    }
   ],
   "source": [
    "# training the decision tree regressor model on the whole dataset\n",
    "from sklearn.tree import DecisionTreeRegressor\n",
    "DT = DecisionTreeRegressor()\n",
    "DT.fit(X_train, y_train)"
   ]
  },
  {
   "cell_type": "code",
   "execution_count": 41,
   "id": "4e46345d",
   "metadata": {},
   "outputs": [
    {
     "name": "stdout",
     "output_type": "stream",
     "text": [
      "Mean Absolute Error :-> 0.385107543435247\n",
      "Mean Squared Error :-> 0.3580716550839381\n",
      "Root Mean Squared Error :-> 0.5983908882026348\n",
      "R2_Score :-> 0.9402192720134317\n"
     ]
    }
   ],
   "source": [
    "# predicting the test set results\n",
    "y_pred_DT = DT.predict(X_test)\n",
    "mae, mse, rmse, r2 = evaluate(y_test, y_pred_DT)"
   ]
  },
  {
   "cell_type": "code",
   "execution_count": 42,
   "id": "af8a8bc9",
   "metadata": {},
   "outputs": [],
   "source": [
    "# saved calculated score of algorithm\n",
    "algo_score['Decision Tree Regressor'] = r2"
   ]
  },
  {
   "cell_type": "markdown",
   "id": "60a9f1fe",
   "metadata": {},
   "source": [
    "## XG Boost Regressor"
   ]
  },
  {
   "cell_type": "markdown",
   "id": "ebd06bac",
   "metadata": {},
   "source": [
    "You can go through this here: https://xgboost.readthedocs.io/en/stable/tutorials/index.html"
   ]
  },
  {
   "cell_type": "code",
   "execution_count": 43,
   "id": "dfe807ce",
   "metadata": {},
   "outputs": [
    {
     "data": {
      "text/plain": [
       "XGBRegressor(base_score=0.5, booster='gbtree', colsample_bylevel=1,\n",
       "             colsample_bynode=1, colsample_bytree=1, enable_categorical=False,\n",
       "             gamma=0, gpu_id=-1, importance_type=None,\n",
       "             interaction_constraints='', learning_rate=0.300000012,\n",
       "             max_delta_step=0, max_depth=6, min_child_weight=1, missing=nan,\n",
       "             monotone_constraints='()', n_estimators=100, n_jobs=4,\n",
       "             num_parallel_tree=1, predictor='auto', random_state=0, reg_alpha=0,\n",
       "             reg_lambda=1, scale_pos_weight=1, subsample=1, tree_method='exact',\n",
       "             validate_parameters=1, verbosity=None)"
      ]
     },
     "execution_count": 43,
     "metadata": {},
     "output_type": "execute_result"
    }
   ],
   "source": [
    "# training the XG Boost regressor model on the whole dataset\n",
    "from xgboost import XGBRegressor\n",
    "XGB = XGBRegressor()\n",
    "XGB.fit(X_train, y_train)"
   ]
  },
  {
   "cell_type": "code",
   "execution_count": 44,
   "id": "912c29c2",
   "metadata": {},
   "outputs": [
    {
     "name": "stdout",
     "output_type": "stream",
     "text": [
      "Mean Absolute Error :-> 0.275480797861573\n",
      "Mean Squared Error :-> 0.17380856857402793\n",
      "Root Mean Squared Error :-> 0.4169035482866846\n",
      "R2_Score :-> 0.9703281842649443\n"
     ]
    }
   ],
   "source": [
    "# predicting the test set results\n",
    "y_pred_XGB = XGB.predict(X_test)\n",
    "mae, mse, rmse, r2 = evaluate(y_test, y_pred_XGB)"
   ]
  },
  {
   "cell_type": "code",
   "execution_count": 45,
   "id": "4104def4",
   "metadata": {},
   "outputs": [],
   "source": [
    "# saved calculated score of algorithm\n",
    "algo_score['XG Boost Regressor'] = r2"
   ]
  }
 ],
 "metadata": {
  "kernelspec": {
   "display_name": "Python 3 (ipykernel)",
   "language": "python",
   "name": "python3"
  },
  "language_info": {
   "codemirror_mode": {
    "name": "ipython",
    "version": 3
   },
   "file_extension": ".py",
   "mimetype": "text/x-python",
   "name": "python",
   "nbconvert_exporter": "python",
   "pygments_lexer": "ipython3",
   "version": "3.9.7"
  }
 },
 "nbformat": 4,
 "nbformat_minor": 5
}
