{
 "cells": [
  {
   "cell_type": "markdown",
   "id": "90a492fb",
   "metadata": {},
   "source": [
    "# Feature Engineering and Exploratory Data Analysis"
   ]
  },
  {
   "cell_type": "markdown",
   "id": "b5d6995f",
   "metadata": {},
   "source": [
    "## Import Necessary Libraries"
   ]
  },
  {
   "cell_type": "code",
   "execution_count": 2,
   "id": "ea1f583c",
   "metadata": {},
   "outputs": [],
   "source": [
    "# libraries required are imported\n",
    "import pandas as pd\n",
    "import numpy as np\n",
    "import matplotlib.pyplot as plt\n",
    "import seaborn as sns\n",
    "from scipy import stats\n",
    "from random import sample\n",
    "import warnings # alert the user of some condition in program\n",
    "warnings.filterwarnings('ignore') # There is warning if there are some absolete of\n",
    "                                  # certain programming elements such as keywords or class, etc"
   ]
  },
  {
   "cell_type": "code",
   "execution_count": 3,
   "id": "3f3443f2",
   "metadata": {},
   "outputs": [],
   "source": [
    "# To see all the columns of dataset\n",
    "pd.set_option('display.max_columns', 50)"
   ]
  },
  {
   "cell_type": "markdown",
   "id": "93997532",
   "metadata": {},
   "source": [
    "## Dataset "
   ]
  },
  {
   "cell_type": "markdown",
   "id": "732fb185",
   "metadata": {},
   "source": [
    "| VARIABLE NAME  | DESCRIPTION                                      |\n",
    "| :--------------| :------------------------------------------------|\n",
    "| a              | semi-major axis[au]                              |\n",
    "| e              | eccentricity                                     |\n",
    "| i              | inclination wrt x-y ecliptic plane [deg]         |\n",
    "| om             | longitude of the ascending node                  |\n",
    "| w              | argument of perihelion                           |\n",
    "| q              | perihelion distance [au]                         |\n",
    "| ad             | aphelion distance [au]                           |\n",
    "| per_y          | orbital period [years]                           |\n",
    "| data_arc       | data arc-span [d]                                |\n",
    "| condition_code | orbit condition code                             |\n",
    "| n_obs_use      | number of observations used                      |\n",
    "| H              | absolute magnitude parameter                     |\n",
    "| diameter       | diameter of asteroid [km]                        |\n",
    "| extent         | object bi or tri-axial ellipsoid dimensions [km] |\n",
    "| albedo         | geometric albedo                                 |\n",
    "| rot_per        | standard gravitational parameter [$m \\times G$]  |\n",
    "| bv             | color index B-V magnitude difference             |\n",
    "| ub             | color index U-B magnitude difference             |\n",
    "| IR             | color index I-R magnitude difference             |\n",
    "| spec_B         | spectral taxonomic type (SMASSII)                |\n",
    "| spec_T         | spectral taxonomic type (Tholen)                 |\n",
    "| neo            | near earth object                                |\n",
    "| pha            | physically hazardous asteroid                    |\n",
    "| moid           | earth minimum orbit intersection distance [au]   |"
   ]
  },
  {
   "cell_type": "markdown",
   "id": "9c41a374",
   "metadata": {},
   "source": [
    "### Import Dataset "
   ]
  },
  {
   "cell_type": "code",
   "execution_count": 4,
   "id": "c8173c31",
   "metadata": {},
   "outputs": [
    {
     "name": "stdout",
     "output_type": "stream",
     "text": [
      "           name         a         e          i          om           w  \\\n",
      "0         Ceres  2.769165  0.076009  10.594067   80.305532   73.597694   \n",
      "1        Pallas  2.772466  0.230337  34.836234  173.080063  310.048857   \n",
      "2          Juno  2.669150  0.256942  12.988919  169.852760  248.138626   \n",
      "3         Vesta  2.361418  0.088721   7.141771  103.810804  150.728541   \n",
      "4       Astraea  2.574249  0.191095   5.366988  141.576605  358.687607   \n",
      "...         ...       ...       ...        ...         ...         ...   \n",
      "839709      NaN  2.812945  0.664688   4.695700  183.310012  234.618352   \n",
      "839710      NaN  2.645238  0.259376  12.574937    1.620020  339.568072   \n",
      "839711      NaN  2.373137  0.202053   0.732484  176.499082  198.026527   \n",
      "839712      NaN  2.260404  0.258348   9.661947  204.512448  148.496988   \n",
      "839713      NaN  2.546442  0.287672   5.356238   70.709555  273.483265   \n",
      "\n",
      "               q        ad     per_y  data_arc condition_code  n_obs_used  \\\n",
      "0       2.558684  2.979647  4.608202    8822.0              0        1002   \n",
      "1       2.133865  3.411067  4.616444   72318.0              0        8490   \n",
      "2       1.983332  3.354967  4.360814   72684.0              0        7104   \n",
      "3       2.151909  2.570926  3.628837   24288.0              0        9325   \n",
      "4       2.082324  3.066174  4.130323   63507.0              0        2916   \n",
      "...          ...       ...       ...       ...            ...         ...   \n",
      "839709  0.943214  4.682676  4.717914   17298.0              0         118   \n",
      "839710  1.959126  3.331350  4.302346      16.0              9          15   \n",
      "839711  1.893638  2.852636  3.655884       5.0              9           6   \n",
      "839712  1.676433  2.844376  3.398501      10.0              9          13   \n",
      "839713  1.813901  3.278983  4.063580      11.0              9          11   \n",
      "\n",
      "             H neo pha diameter                 extent  albedo    rot_per  \\\n",
      "0        3.340   N   N    939.4  964.4 x 964.2 x 891.8  0.0900   9.074170   \n",
      "1        4.130   N   N      545            582x556x500  0.1010   7.813200   \n",
      "2        5.330   N   N  246.596                    NaN  0.2140   7.210000   \n",
      "3        3.200   N   N    525.4  572.6 x 557.2 x 446.4  0.4228   5.342128   \n",
      "4        6.850   N   N  106.699                    NaN  0.2740  16.806000   \n",
      "...        ...  ..  ..      ...                    ...     ...        ...   \n",
      "839709  20.400   Y   Y      NaN                    NaN     NaN        NaN   \n",
      "839710  17.507   N   N      NaN                    NaN     NaN        NaN   \n",
      "839711  18.071   N   N      NaN                    NaN     NaN        NaN   \n",
      "839712  18.060   N   N      NaN                    NaN     NaN        NaN   \n",
      "839713  17.406   N   N      NaN                    NaN     NaN        NaN   \n",
      "\n",
      "             GM     BV     UB  IR spec_B spec_T     G      moid class  \\\n",
      "0       62.6284  0.713  0.426 NaN      C      G  0.12  1.594780   MBA   \n",
      "1       14.3000  0.635  0.284 NaN      B      B  0.11  1.233240   MBA   \n",
      "2           NaN  0.824  0.433 NaN     Sk      S  0.32  1.034540   MBA   \n",
      "3       17.8000  0.782  0.492 NaN      V      V  0.32  1.139480   MBA   \n",
      "4           NaN  0.826  0.411 NaN      S      S   NaN  1.095890   MBA   \n",
      "...         ...    ...    ...  ..    ...    ...   ...       ...   ...   \n",
      "839709      NaN    NaN    NaN NaN    NaN    NaN   NaN  0.032397   APO   \n",
      "839710      NaN    NaN    NaN NaN    NaN    NaN   NaN  0.956145   MBA   \n",
      "839711      NaN    NaN    NaN NaN    NaN    NaN   NaN  0.893896   MBA   \n",
      "839712      NaN    NaN    NaN NaN    NaN    NaN   NaN  0.680220   MBA   \n",
      "839713      NaN    NaN    NaN NaN    NaN    NaN   NaN  0.815280   MBA   \n",
      "\n",
      "               n          per          ma  \n",
      "0       0.213885  1683.145708   77.372096  \n",
      "1       0.213503  1686.155999   59.699133  \n",
      "2       0.226019  1592.787285   34.925016  \n",
      "3       0.271609  1325.432765   95.861936  \n",
      "4       0.238632  1508.600458  282.366289  \n",
      "...          ...          ...         ...  \n",
      "839709  0.208911  1723.217927  156.905910  \n",
      "839710  0.229090  1571.431965   13.366251  \n",
      "839711  0.269600  1335.311579  355.351127  \n",
      "839712  0.290018  1241.302609   15.320134  \n",
      "839713  0.242551  1484.222588   20.432959  \n",
      "\n",
      "[839714 rows x 31 columns]\n"
     ]
    }
   ],
   "source": [
    "# Read the dataset and as columns have mixed datatype so using \"low_memory = False\"\n",
    "dataset = pd.read_csv('Asteroid_Updated.csv', low_memory = False)\n",
    "print(dataset)"
   ]
  },
  {
   "cell_type": "code",
   "execution_count": 5,
   "id": "768fa63d",
   "metadata": {},
   "outputs": [
    {
     "data": {
      "text/html": [
       "<div>\n",
       "<style scoped>\n",
       "    .dataframe tbody tr th:only-of-type {\n",
       "        vertical-align: middle;\n",
       "    }\n",
       "\n",
       "    .dataframe tbody tr th {\n",
       "        vertical-align: top;\n",
       "    }\n",
       "\n",
       "    .dataframe thead th {\n",
       "        text-align: right;\n",
       "    }\n",
       "</style>\n",
       "<table border=\"1\" class=\"dataframe\">\n",
       "  <thead>\n",
       "    <tr style=\"text-align: right;\">\n",
       "      <th></th>\n",
       "      <th>name</th>\n",
       "      <th>a</th>\n",
       "      <th>e</th>\n",
       "      <th>i</th>\n",
       "      <th>om</th>\n",
       "      <th>w</th>\n",
       "      <th>q</th>\n",
       "      <th>ad</th>\n",
       "      <th>per_y</th>\n",
       "      <th>data_arc</th>\n",
       "      <th>condition_code</th>\n",
       "      <th>n_obs_used</th>\n",
       "      <th>H</th>\n",
       "      <th>neo</th>\n",
       "      <th>pha</th>\n",
       "      <th>diameter</th>\n",
       "      <th>extent</th>\n",
       "      <th>albedo</th>\n",
       "      <th>rot_per</th>\n",
       "      <th>GM</th>\n",
       "      <th>BV</th>\n",
       "      <th>UB</th>\n",
       "      <th>IR</th>\n",
       "      <th>spec_B</th>\n",
       "      <th>spec_T</th>\n",
       "      <th>G</th>\n",
       "      <th>moid</th>\n",
       "      <th>class</th>\n",
       "      <th>n</th>\n",
       "      <th>per</th>\n",
       "      <th>ma</th>\n",
       "    </tr>\n",
       "  </thead>\n",
       "  <tbody>\n",
       "    <tr>\n",
       "      <th>0</th>\n",
       "      <td>Ceres</td>\n",
       "      <td>2.769165</td>\n",
       "      <td>0.076009</td>\n",
       "      <td>10.594067</td>\n",
       "      <td>80.305532</td>\n",
       "      <td>73.597694</td>\n",
       "      <td>2.558684</td>\n",
       "      <td>2.979647</td>\n",
       "      <td>4.608202</td>\n",
       "      <td>8822.0</td>\n",
       "      <td>0</td>\n",
       "      <td>1002</td>\n",
       "      <td>3.34</td>\n",
       "      <td>N</td>\n",
       "      <td>N</td>\n",
       "      <td>939.4</td>\n",
       "      <td>964.4 x 964.2 x 891.8</td>\n",
       "      <td>0.0900</td>\n",
       "      <td>9.074170</td>\n",
       "      <td>62.6284</td>\n",
       "      <td>0.713</td>\n",
       "      <td>0.426</td>\n",
       "      <td>NaN</td>\n",
       "      <td>C</td>\n",
       "      <td>G</td>\n",
       "      <td>0.12</td>\n",
       "      <td>1.59478</td>\n",
       "      <td>MBA</td>\n",
       "      <td>0.213885</td>\n",
       "      <td>1683.145708</td>\n",
       "      <td>77.372096</td>\n",
       "    </tr>\n",
       "    <tr>\n",
       "      <th>1</th>\n",
       "      <td>Pallas</td>\n",
       "      <td>2.772466</td>\n",
       "      <td>0.230337</td>\n",
       "      <td>34.836234</td>\n",
       "      <td>173.080063</td>\n",
       "      <td>310.048857</td>\n",
       "      <td>2.133865</td>\n",
       "      <td>3.411067</td>\n",
       "      <td>4.616444</td>\n",
       "      <td>72318.0</td>\n",
       "      <td>0</td>\n",
       "      <td>8490</td>\n",
       "      <td>4.13</td>\n",
       "      <td>N</td>\n",
       "      <td>N</td>\n",
       "      <td>545</td>\n",
       "      <td>582x556x500</td>\n",
       "      <td>0.1010</td>\n",
       "      <td>7.813200</td>\n",
       "      <td>14.3000</td>\n",
       "      <td>0.635</td>\n",
       "      <td>0.284</td>\n",
       "      <td>NaN</td>\n",
       "      <td>B</td>\n",
       "      <td>B</td>\n",
       "      <td>0.11</td>\n",
       "      <td>1.23324</td>\n",
       "      <td>MBA</td>\n",
       "      <td>0.213503</td>\n",
       "      <td>1686.155999</td>\n",
       "      <td>59.699133</td>\n",
       "    </tr>\n",
       "    <tr>\n",
       "      <th>2</th>\n",
       "      <td>Juno</td>\n",
       "      <td>2.669150</td>\n",
       "      <td>0.256942</td>\n",
       "      <td>12.988919</td>\n",
       "      <td>169.852760</td>\n",
       "      <td>248.138626</td>\n",
       "      <td>1.983332</td>\n",
       "      <td>3.354967</td>\n",
       "      <td>4.360814</td>\n",
       "      <td>72684.0</td>\n",
       "      <td>0</td>\n",
       "      <td>7104</td>\n",
       "      <td>5.33</td>\n",
       "      <td>N</td>\n",
       "      <td>N</td>\n",
       "      <td>246.596</td>\n",
       "      <td>NaN</td>\n",
       "      <td>0.2140</td>\n",
       "      <td>7.210000</td>\n",
       "      <td>NaN</td>\n",
       "      <td>0.824</td>\n",
       "      <td>0.433</td>\n",
       "      <td>NaN</td>\n",
       "      <td>Sk</td>\n",
       "      <td>S</td>\n",
       "      <td>0.32</td>\n",
       "      <td>1.03454</td>\n",
       "      <td>MBA</td>\n",
       "      <td>0.226019</td>\n",
       "      <td>1592.787285</td>\n",
       "      <td>34.925016</td>\n",
       "    </tr>\n",
       "    <tr>\n",
       "      <th>3</th>\n",
       "      <td>Vesta</td>\n",
       "      <td>2.361418</td>\n",
       "      <td>0.088721</td>\n",
       "      <td>7.141771</td>\n",
       "      <td>103.810804</td>\n",
       "      <td>150.728541</td>\n",
       "      <td>2.151909</td>\n",
       "      <td>2.570926</td>\n",
       "      <td>3.628837</td>\n",
       "      <td>24288.0</td>\n",
       "      <td>0</td>\n",
       "      <td>9325</td>\n",
       "      <td>3.20</td>\n",
       "      <td>N</td>\n",
       "      <td>N</td>\n",
       "      <td>525.4</td>\n",
       "      <td>572.6 x 557.2 x 446.4</td>\n",
       "      <td>0.4228</td>\n",
       "      <td>5.342128</td>\n",
       "      <td>17.8000</td>\n",
       "      <td>0.782</td>\n",
       "      <td>0.492</td>\n",
       "      <td>NaN</td>\n",
       "      <td>V</td>\n",
       "      <td>V</td>\n",
       "      <td>0.32</td>\n",
       "      <td>1.13948</td>\n",
       "      <td>MBA</td>\n",
       "      <td>0.271609</td>\n",
       "      <td>1325.432765</td>\n",
       "      <td>95.861936</td>\n",
       "    </tr>\n",
       "    <tr>\n",
       "      <th>4</th>\n",
       "      <td>Astraea</td>\n",
       "      <td>2.574249</td>\n",
       "      <td>0.191095</td>\n",
       "      <td>5.366988</td>\n",
       "      <td>141.576605</td>\n",
       "      <td>358.687607</td>\n",
       "      <td>2.082324</td>\n",
       "      <td>3.066174</td>\n",
       "      <td>4.130323</td>\n",
       "      <td>63507.0</td>\n",
       "      <td>0</td>\n",
       "      <td>2916</td>\n",
       "      <td>6.85</td>\n",
       "      <td>N</td>\n",
       "      <td>N</td>\n",
       "      <td>106.699</td>\n",
       "      <td>NaN</td>\n",
       "      <td>0.2740</td>\n",
       "      <td>16.806000</td>\n",
       "      <td>NaN</td>\n",
       "      <td>0.826</td>\n",
       "      <td>0.411</td>\n",
       "      <td>NaN</td>\n",
       "      <td>S</td>\n",
       "      <td>S</td>\n",
       "      <td>NaN</td>\n",
       "      <td>1.09589</td>\n",
       "      <td>MBA</td>\n",
       "      <td>0.238632</td>\n",
       "      <td>1508.600458</td>\n",
       "      <td>282.366289</td>\n",
       "    </tr>\n",
       "  </tbody>\n",
       "</table>\n",
       "</div>"
      ],
      "text/plain": [
       "      name         a         e          i          om           w         q  \\\n",
       "0    Ceres  2.769165  0.076009  10.594067   80.305532   73.597694  2.558684   \n",
       "1   Pallas  2.772466  0.230337  34.836234  173.080063  310.048857  2.133865   \n",
       "2     Juno  2.669150  0.256942  12.988919  169.852760  248.138626  1.983332   \n",
       "3    Vesta  2.361418  0.088721   7.141771  103.810804  150.728541  2.151909   \n",
       "4  Astraea  2.574249  0.191095   5.366988  141.576605  358.687607  2.082324   \n",
       "\n",
       "         ad     per_y  data_arc condition_code  n_obs_used     H neo pha  \\\n",
       "0  2.979647  4.608202    8822.0              0        1002  3.34   N   N   \n",
       "1  3.411067  4.616444   72318.0              0        8490  4.13   N   N   \n",
       "2  3.354967  4.360814   72684.0              0        7104  5.33   N   N   \n",
       "3  2.570926  3.628837   24288.0              0        9325  3.20   N   N   \n",
       "4  3.066174  4.130323   63507.0              0        2916  6.85   N   N   \n",
       "\n",
       "  diameter                 extent  albedo    rot_per       GM     BV     UB  \\\n",
       "0    939.4  964.4 x 964.2 x 891.8  0.0900   9.074170  62.6284  0.713  0.426   \n",
       "1      545            582x556x500  0.1010   7.813200  14.3000  0.635  0.284   \n",
       "2  246.596                    NaN  0.2140   7.210000      NaN  0.824  0.433   \n",
       "3    525.4  572.6 x 557.2 x 446.4  0.4228   5.342128  17.8000  0.782  0.492   \n",
       "4  106.699                    NaN  0.2740  16.806000      NaN  0.826  0.411   \n",
       "\n",
       "   IR spec_B spec_T     G     moid class         n          per          ma  \n",
       "0 NaN      C      G  0.12  1.59478   MBA  0.213885  1683.145708   77.372096  \n",
       "1 NaN      B      B  0.11  1.23324   MBA  0.213503  1686.155999   59.699133  \n",
       "2 NaN     Sk      S  0.32  1.03454   MBA  0.226019  1592.787285   34.925016  \n",
       "3 NaN      V      V  0.32  1.13948   MBA  0.271609  1325.432765   95.861936  \n",
       "4 NaN      S      S   NaN  1.09589   MBA  0.238632  1508.600458  282.366289  "
      ]
     },
     "execution_count": 5,
     "metadata": {},
     "output_type": "execute_result"
    }
   ],
   "source": [
    "# dataset.head() function prints/show the first 5 rows of dataset\n",
    "dataset.head()"
   ]
  },
  {
   "cell_type": "code",
   "execution_count": 6,
   "id": "976a18e0",
   "metadata": {},
   "outputs": [
    {
     "data": {
      "text/html": [
       "<div>\n",
       "<style scoped>\n",
       "    .dataframe tbody tr th:only-of-type {\n",
       "        vertical-align: middle;\n",
       "    }\n",
       "\n",
       "    .dataframe tbody tr th {\n",
       "        vertical-align: top;\n",
       "    }\n",
       "\n",
       "    .dataframe thead th {\n",
       "        text-align: right;\n",
       "    }\n",
       "</style>\n",
       "<table border=\"1\" class=\"dataframe\">\n",
       "  <thead>\n",
       "    <tr style=\"text-align: right;\">\n",
       "      <th></th>\n",
       "      <th>name</th>\n",
       "      <th>a</th>\n",
       "      <th>e</th>\n",
       "      <th>i</th>\n",
       "      <th>om</th>\n",
       "      <th>w</th>\n",
       "      <th>q</th>\n",
       "      <th>ad</th>\n",
       "      <th>per_y</th>\n",
       "      <th>data_arc</th>\n",
       "      <th>condition_code</th>\n",
       "      <th>n_obs_used</th>\n",
       "      <th>H</th>\n",
       "      <th>neo</th>\n",
       "      <th>pha</th>\n",
       "      <th>diameter</th>\n",
       "      <th>extent</th>\n",
       "      <th>albedo</th>\n",
       "      <th>rot_per</th>\n",
       "      <th>GM</th>\n",
       "      <th>BV</th>\n",
       "      <th>UB</th>\n",
       "      <th>IR</th>\n",
       "      <th>spec_B</th>\n",
       "      <th>spec_T</th>\n",
       "      <th>G</th>\n",
       "      <th>moid</th>\n",
       "      <th>class</th>\n",
       "      <th>n</th>\n",
       "      <th>per</th>\n",
       "      <th>ma</th>\n",
       "    </tr>\n",
       "  </thead>\n",
       "  <tbody>\n",
       "    <tr>\n",
       "      <th>839709</th>\n",
       "      <td>NaN</td>\n",
       "      <td>2.812945</td>\n",
       "      <td>0.664688</td>\n",
       "      <td>4.695700</td>\n",
       "      <td>183.310012</td>\n",
       "      <td>234.618352</td>\n",
       "      <td>0.943214</td>\n",
       "      <td>4.682676</td>\n",
       "      <td>4.717914</td>\n",
       "      <td>17298.0</td>\n",
       "      <td>0</td>\n",
       "      <td>118</td>\n",
       "      <td>20.400</td>\n",
       "      <td>Y</td>\n",
       "      <td>Y</td>\n",
       "      <td>NaN</td>\n",
       "      <td>NaN</td>\n",
       "      <td>NaN</td>\n",
       "      <td>NaN</td>\n",
       "      <td>NaN</td>\n",
       "      <td>NaN</td>\n",
       "      <td>NaN</td>\n",
       "      <td>NaN</td>\n",
       "      <td>NaN</td>\n",
       "      <td>NaN</td>\n",
       "      <td>NaN</td>\n",
       "      <td>0.032397</td>\n",
       "      <td>APO</td>\n",
       "      <td>0.208911</td>\n",
       "      <td>1723.217927</td>\n",
       "      <td>156.905910</td>\n",
       "    </tr>\n",
       "    <tr>\n",
       "      <th>839710</th>\n",
       "      <td>NaN</td>\n",
       "      <td>2.645238</td>\n",
       "      <td>0.259376</td>\n",
       "      <td>12.574937</td>\n",
       "      <td>1.620020</td>\n",
       "      <td>339.568072</td>\n",
       "      <td>1.959126</td>\n",
       "      <td>3.331350</td>\n",
       "      <td>4.302346</td>\n",
       "      <td>16.0</td>\n",
       "      <td>9</td>\n",
       "      <td>15</td>\n",
       "      <td>17.507</td>\n",
       "      <td>N</td>\n",
       "      <td>N</td>\n",
       "      <td>NaN</td>\n",
       "      <td>NaN</td>\n",
       "      <td>NaN</td>\n",
       "      <td>NaN</td>\n",
       "      <td>NaN</td>\n",
       "      <td>NaN</td>\n",
       "      <td>NaN</td>\n",
       "      <td>NaN</td>\n",
       "      <td>NaN</td>\n",
       "      <td>NaN</td>\n",
       "      <td>NaN</td>\n",
       "      <td>0.956145</td>\n",
       "      <td>MBA</td>\n",
       "      <td>0.229090</td>\n",
       "      <td>1571.431965</td>\n",
       "      <td>13.366251</td>\n",
       "    </tr>\n",
       "    <tr>\n",
       "      <th>839711</th>\n",
       "      <td>NaN</td>\n",
       "      <td>2.373137</td>\n",
       "      <td>0.202053</td>\n",
       "      <td>0.732484</td>\n",
       "      <td>176.499082</td>\n",
       "      <td>198.026527</td>\n",
       "      <td>1.893638</td>\n",
       "      <td>2.852636</td>\n",
       "      <td>3.655884</td>\n",
       "      <td>5.0</td>\n",
       "      <td>9</td>\n",
       "      <td>6</td>\n",
       "      <td>18.071</td>\n",
       "      <td>N</td>\n",
       "      <td>N</td>\n",
       "      <td>NaN</td>\n",
       "      <td>NaN</td>\n",
       "      <td>NaN</td>\n",
       "      <td>NaN</td>\n",
       "      <td>NaN</td>\n",
       "      <td>NaN</td>\n",
       "      <td>NaN</td>\n",
       "      <td>NaN</td>\n",
       "      <td>NaN</td>\n",
       "      <td>NaN</td>\n",
       "      <td>NaN</td>\n",
       "      <td>0.893896</td>\n",
       "      <td>MBA</td>\n",
       "      <td>0.269600</td>\n",
       "      <td>1335.311579</td>\n",
       "      <td>355.351127</td>\n",
       "    </tr>\n",
       "    <tr>\n",
       "      <th>839712</th>\n",
       "      <td>NaN</td>\n",
       "      <td>2.260404</td>\n",
       "      <td>0.258348</td>\n",
       "      <td>9.661947</td>\n",
       "      <td>204.512448</td>\n",
       "      <td>148.496988</td>\n",
       "      <td>1.676433</td>\n",
       "      <td>2.844376</td>\n",
       "      <td>3.398501</td>\n",
       "      <td>10.0</td>\n",
       "      <td>9</td>\n",
       "      <td>13</td>\n",
       "      <td>18.060</td>\n",
       "      <td>N</td>\n",
       "      <td>N</td>\n",
       "      <td>NaN</td>\n",
       "      <td>NaN</td>\n",
       "      <td>NaN</td>\n",
       "      <td>NaN</td>\n",
       "      <td>NaN</td>\n",
       "      <td>NaN</td>\n",
       "      <td>NaN</td>\n",
       "      <td>NaN</td>\n",
       "      <td>NaN</td>\n",
       "      <td>NaN</td>\n",
       "      <td>NaN</td>\n",
       "      <td>0.680220</td>\n",
       "      <td>MBA</td>\n",
       "      <td>0.290018</td>\n",
       "      <td>1241.302609</td>\n",
       "      <td>15.320134</td>\n",
       "    </tr>\n",
       "    <tr>\n",
       "      <th>839713</th>\n",
       "      <td>NaN</td>\n",
       "      <td>2.546442</td>\n",
       "      <td>0.287672</td>\n",
       "      <td>5.356238</td>\n",
       "      <td>70.709555</td>\n",
       "      <td>273.483265</td>\n",
       "      <td>1.813901</td>\n",
       "      <td>3.278983</td>\n",
       "      <td>4.063580</td>\n",
       "      <td>11.0</td>\n",
       "      <td>9</td>\n",
       "      <td>11</td>\n",
       "      <td>17.406</td>\n",
       "      <td>N</td>\n",
       "      <td>N</td>\n",
       "      <td>NaN</td>\n",
       "      <td>NaN</td>\n",
       "      <td>NaN</td>\n",
       "      <td>NaN</td>\n",
       "      <td>NaN</td>\n",
       "      <td>NaN</td>\n",
       "      <td>NaN</td>\n",
       "      <td>NaN</td>\n",
       "      <td>NaN</td>\n",
       "      <td>NaN</td>\n",
       "      <td>NaN</td>\n",
       "      <td>0.815280</td>\n",
       "      <td>MBA</td>\n",
       "      <td>0.242551</td>\n",
       "      <td>1484.222588</td>\n",
       "      <td>20.432959</td>\n",
       "    </tr>\n",
       "  </tbody>\n",
       "</table>\n",
       "</div>"
      ],
      "text/plain": [
       "       name         a         e          i          om           w         q  \\\n",
       "839709  NaN  2.812945  0.664688   4.695700  183.310012  234.618352  0.943214   \n",
       "839710  NaN  2.645238  0.259376  12.574937    1.620020  339.568072  1.959126   \n",
       "839711  NaN  2.373137  0.202053   0.732484  176.499082  198.026527  1.893638   \n",
       "839712  NaN  2.260404  0.258348   9.661947  204.512448  148.496988  1.676433   \n",
       "839713  NaN  2.546442  0.287672   5.356238   70.709555  273.483265  1.813901   \n",
       "\n",
       "              ad     per_y  data_arc condition_code  n_obs_used       H neo  \\\n",
       "839709  4.682676  4.717914   17298.0              0         118  20.400   Y   \n",
       "839710  3.331350  4.302346      16.0              9          15  17.507   N   \n",
       "839711  2.852636  3.655884       5.0              9           6  18.071   N   \n",
       "839712  2.844376  3.398501      10.0              9          13  18.060   N   \n",
       "839713  3.278983  4.063580      11.0              9          11  17.406   N   \n",
       "\n",
       "       pha diameter extent  albedo  rot_per  GM  BV  UB  IR spec_B spec_T   G  \\\n",
       "839709   Y      NaN    NaN     NaN      NaN NaN NaN NaN NaN    NaN    NaN NaN   \n",
       "839710   N      NaN    NaN     NaN      NaN NaN NaN NaN NaN    NaN    NaN NaN   \n",
       "839711   N      NaN    NaN     NaN      NaN NaN NaN NaN NaN    NaN    NaN NaN   \n",
       "839712   N      NaN    NaN     NaN      NaN NaN NaN NaN NaN    NaN    NaN NaN   \n",
       "839713   N      NaN    NaN     NaN      NaN NaN NaN NaN NaN    NaN    NaN NaN   \n",
       "\n",
       "            moid class         n          per          ma  \n",
       "839709  0.032397   APO  0.208911  1723.217927  156.905910  \n",
       "839710  0.956145   MBA  0.229090  1571.431965   13.366251  \n",
       "839711  0.893896   MBA  0.269600  1335.311579  355.351127  \n",
       "839712  0.680220   MBA  0.290018  1241.302609   15.320134  \n",
       "839713  0.815280   MBA  0.242551  1484.222588   20.432959  "
      ]
     },
     "execution_count": 6,
     "metadata": {},
     "output_type": "execute_result"
    }
   ],
   "source": [
    "# dataset.tail() function prints/show the last 5 rows of dataset\n",
    "dataset.tail()"
   ]
  },
  {
   "cell_type": "code",
   "execution_count": 7,
   "id": "35a8536d",
   "metadata": {},
   "outputs": [
    {
     "name": "stdout",
     "output_type": "stream",
     "text": [
      "Number of rows :--> 839714\n",
      "Number of columns :--> 31\n"
     ]
    }
   ],
   "source": [
    "# Shape of the dataset\n",
    "print(\"Number of rows :-->\", dataset.shape[0])\n",
    "print(\"Number of columns :-->\", dataset.shape[1])"
   ]
  },
  {
   "cell_type": "code",
   "execution_count": 8,
   "id": "279bc866",
   "metadata": {},
   "outputs": [
    {
     "data": {
      "text/plain": [
       "(839714, 31)"
      ]
     },
     "execution_count": 8,
     "metadata": {},
     "output_type": "execute_result"
    }
   ],
   "source": [
    "# Another way of printing shape of dataset\n",
    "# dataset.shape() function prints the number of rows and columns\n",
    "dataset.shape"
   ]
  },
  {
   "cell_type": "markdown",
   "id": "247be8f0",
   "metadata": {},
   "source": [
    "Next step is to gather information about different columns in DataFrame. we can achive this by using dataset.info() function, which gives the information about the count of rows, columns, column datatype, memory usage   "
   ]
  },
  {
   "cell_type": "code",
   "execution_count": 9,
   "id": "36de1376",
   "metadata": {},
   "outputs": [
    {
     "name": "stdout",
     "output_type": "stream",
     "text": [
      "<class 'pandas.core.frame.DataFrame'>\n",
      "RangeIndex: 839714 entries, 0 to 839713\n",
      "Data columns (total 31 columns):\n",
      " #   Column          Non-Null Count   Dtype  \n",
      "---  ------          --------------   -----  \n",
      " 0   name            21967 non-null   object \n",
      " 1   a               839712 non-null  float64\n",
      " 2   e               839714 non-null  float64\n",
      " 3   i               839714 non-null  float64\n",
      " 4   om              839714 non-null  float64\n",
      " 5   w               839714 non-null  float64\n",
      " 6   q               839714 non-null  float64\n",
      " 7   ad              839708 non-null  float64\n",
      " 8   per_y           839713 non-null  float64\n",
      " 9   data_arc        824240 non-null  float64\n",
      " 10  condition_code  838847 non-null  object \n",
      " 11  n_obs_used      839714 non-null  int64  \n",
      " 12  H               837025 non-null  float64\n",
      " 13  neo             839708 non-null  object \n",
      " 14  pha             823272 non-null  object \n",
      " 15  diameter        137636 non-null  object \n",
      " 16  extent          18 non-null      object \n",
      " 17  albedo          136409 non-null  float64\n",
      " 18  rot_per         18796 non-null   float64\n",
      " 19  GM              14 non-null      float64\n",
      " 20  BV              1021 non-null    float64\n",
      " 21  UB              979 non-null     float64\n",
      " 22  IR              1 non-null       float64\n",
      " 23  spec_B          1666 non-null    object \n",
      " 24  spec_T          980 non-null     object \n",
      " 25  G               119 non-null     float64\n",
      " 26  moid            823272 non-null  float64\n",
      " 27  class           839714 non-null  object \n",
      " 28  n               839712 non-null  float64\n",
      " 29  per             839708 non-null  float64\n",
      " 30  ma              839706 non-null  float64\n",
      "dtypes: float64(21), int64(1), object(9)\n",
      "memory usage: 198.6+ MB\n"
     ]
    }
   ],
   "source": [
    "# print a concise summary of DataFrame\n",
    "dataset.info()"
   ]
  },
  {
   "cell_type": "code",
   "execution_count": 10,
   "id": "b123c4d4",
   "metadata": {},
   "outputs": [
    {
     "data": {
      "text/plain": [
       "Index(['name', 'a', 'e', 'i', 'om', 'w', 'q', 'ad', 'per_y', 'data_arc',\n",
       "       'condition_code', 'n_obs_used', 'H', 'neo', 'pha', 'diameter', 'extent',\n",
       "       'albedo', 'rot_per', 'GM', 'BV', 'UB', 'IR', 'spec_B', 'spec_T', 'G',\n",
       "       'moid', 'class', 'n', 'per', 'ma'],\n",
       "      dtype='object')"
      ]
     },
     "execution_count": 10,
     "metadata": {},
     "output_type": "execute_result"
    }
   ],
   "source": [
    "# print the name of columns\n",
    "# from this we come to know what are the columns present in the used dataset\n",
    "dataset.columns"
   ]
  },
  {
   "cell_type": "code",
   "execution_count": 11,
   "id": "a1eaf3d6",
   "metadata": {},
   "outputs": [
    {
     "name": "stdout",
     "output_type": "stream",
     "text": [
      "Categorical Data :  ['name', 'condition_code', 'neo', 'pha', 'diameter', 'extent', 'spec_B', 'spec_T', 'class']\n",
      "Numeric Data :  ['a', 'e', 'i', 'om', 'w', 'q', 'ad', 'per_y', 'data_arc', 'n_obs_used', 'H', 'albedo', 'rot_per', 'GM', 'BV', 'UB', 'IR', 'G', 'moid', 'n', 'per', 'ma']\n"
     ]
    }
   ],
   "source": [
    "# Segregate/Separate the data into NUmeric and Categorical ones\n",
    "categorical, numeric = [], []\n",
    "for ele in dataset.columns:\n",
    "    if dataset[ele].dtype == 'object':\n",
    "        categorical.append(ele)\n",
    "    else:\n",
    "        numeric.append(ele)\n",
    "print(\"Categorical Data : \", categorical)\n",
    "print(\"Numeric Data : \", numeric)"
   ]
  },
  {
   "cell_type": "code",
   "execution_count": 12,
   "id": "659b8f43",
   "metadata": {},
   "outputs": [],
   "source": [
    "# As diameter is not a categorical varible and is interpreted to be as an categorical so removing diameter from categorical array\n",
    "categorical.remove('diameter')"
   ]
  },
  {
   "cell_type": "code",
   "execution_count": 13,
   "id": "aab47f1b",
   "metadata": {},
   "outputs": [],
   "source": [
    "#dataset.drop(['condition_code', 'neo', 'pha','n_obs_used', 'rot_per', 'GM', 'BV', 'UB', 'IR', 'G', 'data_arc', 'class', 'spec_B', 'spec_T'], axis = 1)"
   ]
  },
  {
   "cell_type": "code",
   "execution_count": 14,
   "id": "36db3a4b",
   "metadata": {},
   "outputs": [
    {
     "data": {
      "text/plain": [
       "name              817747\n",
       "a                      2\n",
       "e                      0\n",
       "i                      0\n",
       "om                     0\n",
       "w                      0\n",
       "q                      0\n",
       "ad                     6\n",
       "per_y                  1\n",
       "data_arc           15474\n",
       "condition_code       867\n",
       "n_obs_used             0\n",
       "H                   2689\n",
       "neo                    6\n",
       "pha                16442\n",
       "diameter          702078\n",
       "extent            839696\n",
       "albedo            703305\n",
       "rot_per           820918\n",
       "GM                839700\n",
       "BV                838693\n",
       "UB                838735\n",
       "IR                839713\n",
       "spec_B            838048\n",
       "spec_T            838734\n",
       "G                 839595\n",
       "moid               16442\n",
       "class                  0\n",
       "n                      2\n",
       "per                    6\n",
       "ma                     8\n",
       "dtype: int64"
      ]
     },
     "execution_count": 14,
     "metadata": {},
     "output_type": "execute_result"
    }
   ],
   "source": [
    "dataset.isna().sum()"
   ]
  },
  {
   "cell_type": "markdown",
   "id": "ef0bd971",
   "metadata": {},
   "source": [
    "## Feature Engineering and EDA "
   ]
  },
  {
   "cell_type": "markdown",
   "id": "0a57215a",
   "metadata": {},
   "source": [
    "### Univariate Feature Analysis\n",
    "\n",
    "### For Numeric data"
   ]
  },
  {
   "cell_type": "markdown",
   "id": "9cfb9c32",
   "metadata": {},
   "source": [
    "Finding the Mean, Standard Deviation, 25th percentile, 75th percentile, etc\n",
    "\n",
    "Describing the data:\n",
    "\n",
    "Here we use dataset.describe() function to get various summary statistics the excluedes NaN values.\n",
    "\n",
    "this function also returns the count, mean, standard deviation, minimum and maximum values and the quantiles of the data"
   ]
  },
  {
   "cell_type": "code",
   "execution_count": 15,
   "id": "75f73471",
   "metadata": {},
   "outputs": [
    {
     "data": {
      "text/html": [
       "<div>\n",
       "<style scoped>\n",
       "    .dataframe tbody tr th:only-of-type {\n",
       "        vertical-align: middle;\n",
       "    }\n",
       "\n",
       "    .dataframe tbody tr th {\n",
       "        vertical-align: top;\n",
       "    }\n",
       "\n",
       "    .dataframe thead th {\n",
       "        text-align: right;\n",
       "    }\n",
       "</style>\n",
       "<table border=\"1\" class=\"dataframe\">\n",
       "  <thead>\n",
       "    <tr style=\"text-align: right;\">\n",
       "      <th></th>\n",
       "      <th>a</th>\n",
       "      <th>e</th>\n",
       "      <th>i</th>\n",
       "      <th>om</th>\n",
       "      <th>w</th>\n",
       "      <th>q</th>\n",
       "      <th>ad</th>\n",
       "      <th>per_y</th>\n",
       "      <th>data_arc</th>\n",
       "      <th>n_obs_used</th>\n",
       "      <th>H</th>\n",
       "      <th>albedo</th>\n",
       "      <th>rot_per</th>\n",
       "      <th>GM</th>\n",
       "      <th>BV</th>\n",
       "      <th>UB</th>\n",
       "      <th>IR</th>\n",
       "      <th>G</th>\n",
       "      <th>moid</th>\n",
       "      <th>n</th>\n",
       "      <th>per</th>\n",
       "      <th>ma</th>\n",
       "    </tr>\n",
       "  </thead>\n",
       "  <tbody>\n",
       "    <tr>\n",
       "      <th>count</th>\n",
       "      <td>839712.000000</td>\n",
       "      <td>839714.000000</td>\n",
       "      <td>839714.000000</td>\n",
       "      <td>839714.000000</td>\n",
       "      <td>839714.000000</td>\n",
       "      <td>839714.000000</td>\n",
       "      <td>839708.000000</td>\n",
       "      <td>839713.000000</td>\n",
       "      <td>824240.000000</td>\n",
       "      <td>839714.000000</td>\n",
       "      <td>837025.000000</td>\n",
       "      <td>136409.000000</td>\n",
       "      <td>18796.000000</td>\n",
       "      <td>1.400000e+01</td>\n",
       "      <td>1021.000000</td>\n",
       "      <td>979.000000</td>\n",
       "      <td>1.00</td>\n",
       "      <td>119.000000</td>\n",
       "      <td>8.232720e+05</td>\n",
       "      <td>8.397120e+05</td>\n",
       "      <td>8.397080e+05</td>\n",
       "      <td>839706.000000</td>\n",
       "    </tr>\n",
       "    <tr>\n",
       "      <th>mean</th>\n",
       "      <td>2.757514</td>\n",
       "      <td>0.155636</td>\n",
       "      <td>8.949826</td>\n",
       "      <td>168.499466</td>\n",
       "      <td>181.075796</td>\n",
       "      <td>2.404728</td>\n",
       "      <td>3.385710</td>\n",
       "      <td>6.859734</td>\n",
       "      <td>5688.422331</td>\n",
       "      <td>259.191837</td>\n",
       "      <td>16.786249</td>\n",
       "      <td>0.130067</td>\n",
       "      <td>21.136772</td>\n",
       "      <td>7.821928e+00</td>\n",
       "      <td>0.769212</td>\n",
       "      <td>0.364396</td>\n",
       "      <td>-0.33</td>\n",
       "      <td>0.178739</td>\n",
       "      <td>1.423371e+00</td>\n",
       "      <td>2.374145e-01</td>\n",
       "      <td>2.505533e+03</td>\n",
       "      <td>180.659892</td>\n",
       "    </tr>\n",
       "    <tr>\n",
       "      <th>std</th>\n",
       "      <td>114.384959</td>\n",
       "      <td>0.093897</td>\n",
       "      <td>6.666087</td>\n",
       "      <td>103.096307</td>\n",
       "      <td>104.023854</td>\n",
       "      <td>2.233172</td>\n",
       "      <td>12.748733</td>\n",
       "      <td>252.264249</td>\n",
       "      <td>4208.177231</td>\n",
       "      <td>371.759667</td>\n",
       "      <td>1.821574</td>\n",
       "      <td>0.109994</td>\n",
       "      <td>73.131751</td>\n",
       "      <td>1.678880e+01</td>\n",
       "      <td>0.088625</td>\n",
       "      <td>0.095780</td>\n",
       "      <td>NaN</td>\n",
       "      <td>0.134603</td>\n",
       "      <td>2.250450e+00</td>\n",
       "      <td>8.095014e-02</td>\n",
       "      <td>9.213979e+04</td>\n",
       "      <td>106.562235</td>\n",
       "    </tr>\n",
       "    <tr>\n",
       "      <th>min</th>\n",
       "      <td>-104279.220927</td>\n",
       "      <td>0.000000</td>\n",
       "      <td>0.007546</td>\n",
       "      <td>0.000388</td>\n",
       "      <td>0.001666</td>\n",
       "      <td>0.070511</td>\n",
       "      <td>0.773684</td>\n",
       "      <td>0.000000</td>\n",
       "      <td>0.000000</td>\n",
       "      <td>2.000000</td>\n",
       "      <td>-1.100000</td>\n",
       "      <td>0.001000</td>\n",
       "      <td>0.004389</td>\n",
       "      <td>2.100000e-09</td>\n",
       "      <td>0.580000</td>\n",
       "      <td>0.120000</td>\n",
       "      <td>-0.33</td>\n",
       "      <td>-0.250000</td>\n",
       "      <td>3.437640e-07</td>\n",
       "      <td>2.926897e-08</td>\n",
       "      <td>1.511339e+02</td>\n",
       "      <td>-67.136826</td>\n",
       "    </tr>\n",
       "    <tr>\n",
       "      <th>25%</th>\n",
       "      <td>2.385258</td>\n",
       "      <td>0.091454</td>\n",
       "      <td>4.069077</td>\n",
       "      <td>80.211400</td>\n",
       "      <td>91.041603</td>\n",
       "      <td>1.971941</td>\n",
       "      <td>2.775350</td>\n",
       "      <td>3.683928</td>\n",
       "      <td>3608.000000</td>\n",
       "      <td>50.000000</td>\n",
       "      <td>15.900000</td>\n",
       "      <td>0.053000</td>\n",
       "      <td>4.210000</td>\n",
       "      <td>1.022225e-03</td>\n",
       "      <td>0.700000</td>\n",
       "      <td>0.289000</td>\n",
       "      <td>-0.33</td>\n",
       "      <td>0.100000</td>\n",
       "      <td>9.784998e-01</td>\n",
       "      <td>1.900553e-01</td>\n",
       "      <td>1.345555e+03</td>\n",
       "      <td>86.642618</td>\n",
       "    </tr>\n",
       "    <tr>\n",
       "      <th>50%</th>\n",
       "      <td>2.644219</td>\n",
       "      <td>0.143655</td>\n",
       "      <td>7.257101</td>\n",
       "      <td>160.294860</td>\n",
       "      <td>181.669478</td>\n",
       "      <td>2.225510</td>\n",
       "      <td>3.037761</td>\n",
       "      <td>4.299859</td>\n",
       "      <td>5806.000000</td>\n",
       "      <td>118.000000</td>\n",
       "      <td>16.800000</td>\n",
       "      <td>0.078000</td>\n",
       "      <td>6.653000</td>\n",
       "      <td>6.192500e-01</td>\n",
       "      <td>0.743000</td>\n",
       "      <td>0.360000</td>\n",
       "      <td>-0.33</td>\n",
       "      <td>0.190000</td>\n",
       "      <td>1.237810e+00</td>\n",
       "      <td>2.292228e-01</td>\n",
       "      <td>1.570524e+03</td>\n",
       "      <td>181.517775</td>\n",
       "    </tr>\n",
       "    <tr>\n",
       "      <th>75%</th>\n",
       "      <td>2.996048</td>\n",
       "      <td>0.199400</td>\n",
       "      <td>12.255653</td>\n",
       "      <td>252.201519</td>\n",
       "      <td>271.521717</td>\n",
       "      <td>2.578162</td>\n",
       "      <td>3.357967</td>\n",
       "      <td>5.185985</td>\n",
       "      <td>7270.000000</td>\n",
       "      <td>296.000000</td>\n",
       "      <td>17.600000</td>\n",
       "      <td>0.188000</td>\n",
       "      <td>12.624250</td>\n",
       "      <td>6.500000e+00</td>\n",
       "      <td>0.850000</td>\n",
       "      <td>0.439000</td>\n",
       "      <td>-0.33</td>\n",
       "      <td>0.250000</td>\n",
       "      <td>1.590560e+00</td>\n",
       "      <td>2.675475e-01</td>\n",
       "      <td>1.894184e+03</td>\n",
       "      <td>274.301731</td>\n",
       "    </tr>\n",
       "    <tr>\n",
       "      <th>max</th>\n",
       "      <td>3043.149073</td>\n",
       "      <td>1.201134</td>\n",
       "      <td>175.188725</td>\n",
       "      <td>359.999800</td>\n",
       "      <td>359.999833</td>\n",
       "      <td>80.424175</td>\n",
       "      <td>6081.841956</td>\n",
       "      <td>167877.712688</td>\n",
       "      <td>72684.000000</td>\n",
       "      <td>9325.000000</td>\n",
       "      <td>33.200000</td>\n",
       "      <td>1.000000</td>\n",
       "      <td>3240.000000</td>\n",
       "      <td>6.262840e+01</td>\n",
       "      <td>1.077000</td>\n",
       "      <td>0.655000</td>\n",
       "      <td>-0.33</td>\n",
       "      <td>0.600000</td>\n",
       "      <td>7.950130e+01</td>\n",
       "      <td>2.381994e+00</td>\n",
       "      <td>6.131733e+07</td>\n",
       "      <td>491.618014</td>\n",
       "    </tr>\n",
       "  </tbody>\n",
       "</table>\n",
       "</div>"
      ],
      "text/plain": [
       "                   a              e              i             om  \\\n",
       "count  839712.000000  839714.000000  839714.000000  839714.000000   \n",
       "mean        2.757514       0.155636       8.949826     168.499466   \n",
       "std       114.384959       0.093897       6.666087     103.096307   \n",
       "min   -104279.220927       0.000000       0.007546       0.000388   \n",
       "25%         2.385258       0.091454       4.069077      80.211400   \n",
       "50%         2.644219       0.143655       7.257101     160.294860   \n",
       "75%         2.996048       0.199400      12.255653     252.201519   \n",
       "max      3043.149073       1.201134     175.188725     359.999800   \n",
       "\n",
       "                   w              q             ad          per_y  \\\n",
       "count  839714.000000  839714.000000  839708.000000  839713.000000   \n",
       "mean      181.075796       2.404728       3.385710       6.859734   \n",
       "std       104.023854       2.233172      12.748733     252.264249   \n",
       "min         0.001666       0.070511       0.773684       0.000000   \n",
       "25%        91.041603       1.971941       2.775350       3.683928   \n",
       "50%       181.669478       2.225510       3.037761       4.299859   \n",
       "75%       271.521717       2.578162       3.357967       5.185985   \n",
       "max       359.999833      80.424175    6081.841956  167877.712688   \n",
       "\n",
       "            data_arc     n_obs_used              H         albedo  \\\n",
       "count  824240.000000  839714.000000  837025.000000  136409.000000   \n",
       "mean     5688.422331     259.191837      16.786249       0.130067   \n",
       "std      4208.177231     371.759667       1.821574       0.109994   \n",
       "min         0.000000       2.000000      -1.100000       0.001000   \n",
       "25%      3608.000000      50.000000      15.900000       0.053000   \n",
       "50%      5806.000000     118.000000      16.800000       0.078000   \n",
       "75%      7270.000000     296.000000      17.600000       0.188000   \n",
       "max     72684.000000    9325.000000      33.200000       1.000000   \n",
       "\n",
       "            rot_per            GM           BV          UB    IR           G  \\\n",
       "count  18796.000000  1.400000e+01  1021.000000  979.000000  1.00  119.000000   \n",
       "mean      21.136772  7.821928e+00     0.769212    0.364396 -0.33    0.178739   \n",
       "std       73.131751  1.678880e+01     0.088625    0.095780   NaN    0.134603   \n",
       "min        0.004389  2.100000e-09     0.580000    0.120000 -0.33   -0.250000   \n",
       "25%        4.210000  1.022225e-03     0.700000    0.289000 -0.33    0.100000   \n",
       "50%        6.653000  6.192500e-01     0.743000    0.360000 -0.33    0.190000   \n",
       "75%       12.624250  6.500000e+00     0.850000    0.439000 -0.33    0.250000   \n",
       "max     3240.000000  6.262840e+01     1.077000    0.655000 -0.33    0.600000   \n",
       "\n",
       "               moid             n           per             ma  \n",
       "count  8.232720e+05  8.397120e+05  8.397080e+05  839706.000000  \n",
       "mean   1.423371e+00  2.374145e-01  2.505533e+03     180.659892  \n",
       "std    2.250450e+00  8.095014e-02  9.213979e+04     106.562235  \n",
       "min    3.437640e-07  2.926897e-08  1.511339e+02     -67.136826  \n",
       "25%    9.784998e-01  1.900553e-01  1.345555e+03      86.642618  \n",
       "50%    1.237810e+00  2.292228e-01  1.570524e+03     181.517775  \n",
       "75%    1.590560e+00  2.675475e-01  1.894184e+03     274.301731  \n",
       "max    7.950130e+01  2.381994e+00  6.131733e+07     491.618014  "
      ]
     },
     "execution_count": 15,
     "metadata": {},
     "output_type": "execute_result"
    }
   ],
   "source": [
    "# Shows the Count, Mean, SD, 25th, 75th percentiles, minimum, maximum values\n",
    "dataset.describe()"
   ]
  },
  {
   "cell_type": "markdown",
   "id": "4526133f",
   "metadata": {},
   "source": [
    "## For Categorical Data\n",
    "\n",
    "Made a frequency graph of variables and colcluded its outcome.\n",
    "\n",
    "The method .value_counts() in code below returns the frequency distribution of each category in the feature and then selects the top category, which is the mode, with the .index attribute."
   ]
  },
  {
   "cell_type": "markdown",
   "id": "b80bcb79",
   "metadata": {},
   "source": [
    "The plot below is a barplot of the frequency distribution of a categorical feature using the seaborn package which shows the frequency distribution of the 'condtion_code' column."
   ]
  },
  {
   "cell_type": "code",
   "execution_count": 16,
   "id": "63c252ab",
   "metadata": {},
   "outputs": [
    {
     "data": {
      "image/png": "[encoded data removed]",
      "text/plain": [
       "<Figure size 432x288 with 1 Axes>"
      ]
     },
     "metadata": {
      "needs_background": "light"
     },
     "output_type": "display_data"
    }
   ],
   "source": [
    "# value_counts :--> returns the count of unique items in s pandas dataframe\n",
    "# \"condition_code\" is a categorical feature with values 1,2,3,4,5,6,7,8,9,E,D\n",
    "condition_code = dataset['condition_code'].value_counts()\n",
    "condition_code = pd.DataFrame({\"Frequency\":condition_code})\n",
    "condition_code['Condition_code'] = condition_code.index\n",
    "condition_code.plot.bar(x='Condition_code', y='Frequency', rot=0)\n",
    "plt.show()"
   ]
  },
  {
   "cell_type": "code",
   "execution_count": 17,
   "id": "1cec75ec",
   "metadata": {},
   "outputs": [
    {
     "data": {
      "image/png": "[encoded data removed]",
      "text/plain": [
       "<Figure size 432x288 with 1 Axes>"
      ]
     },
     "metadata": {
      "needs_background": "light"
     },
     "output_type": "display_data"
    }
   ],
   "source": [
    "neo = dataset['neo'].value_counts()\n",
    "neo = pd.DataFrame({\"Frequency\":neo})\n",
    "neo['neo'] = neo.index\n",
    "neo.plot.bar(x='neo', y='Frequency', rot=0)\n",
    "plt.show()"
   ]
  },
  {
   "cell_type": "markdown",
   "id": "53d0e861",
   "metadata": {},
   "source": [
    "Majority values are 'N'"
   ]
  },
  {
   "cell_type": "code",
   "execution_count": 18,
   "id": "ecc82850",
   "metadata": {},
   "outputs": [
    {
     "data": {
      "image/png": "[encoded data removed]",
      "text/plain": [
       "<Figure size 432x288 with 1 Axes>"
      ]
     },
     "metadata": {
      "needs_background": "light"
     },
     "output_type": "display_data"
    }
   ],
   "source": [
    "pha = dataset['pha'].value_counts()\n",
    "pha = pd.DataFrame({\"Frequency\":pha})\n",
    "pha['pha'] = pha.index\n",
    "pha.plot.bar(x='pha', y='Frequency', rot=0)\n",
    "plt.show()"
   ]
  },
  {
   "cell_type": "markdown",
   "id": "9a38ebfb",
   "metadata": {},
   "source": [
    "'Y' is almost nil as compared to 'N'"
   ]
  },
  {
   "cell_type": "code",
   "execution_count": 19,
   "id": "21319804",
   "metadata": {},
   "outputs": [
    {
     "data": {
      "text/plain": [
       "<Figure size 864x576 with 0 Axes>"
      ]
     },
     "metadata": {},
     "output_type": "display_data"
    },
    {
     "data": {
      "image/png": "[encoded data removed]",
      "text/plain": [
       "<Figure size 432x288 with 1 Axes>"
      ]
     },
     "metadata": {
      "needs_background": "light"
     },
     "output_type": "display_data"
    }
   ],
   "source": [
    "plt.figure(figsize=(12, 8))\n",
    "spec_B = dataset['spec_B'].value_counts()\n",
    "spec_B = pd.DataFrame({\"Frequency\":spec_B})\n",
    "spec_B['spec_B'] = spec_B.index\n",
    "spec_B.plot.bar(x='spec_B', y='Frequency', rot=0)\n",
    "plt.show()"
   ]
  },
  {
   "cell_type": "code",
   "execution_count": 20,
   "id": "dd167eee",
   "metadata": {},
   "outputs": [
    {
     "data": {
      "image/png": "[encoded data removed]",
      "text/plain": [
       "<Figure size 432x288 with 1 Axes>"
      ]
     },
     "metadata": {
      "needs_background": "light"
     },
     "output_type": "display_data"
    }
   ],
   "source": [
    "spec_T = dataset['spec_T'].value_counts()[:5]\n",
    "spec_T = pd.DataFrame({\"Frequency\":spec_T})\n",
    "spec_T['spec_T'] = spec_T.index\n",
    "spec_T.plot.bar(x='spec_T', y='Frequency', rot=0)\n",
    "plt.show()"
   ]
  },
  {
   "cell_type": "markdown",
   "id": "5ed84cc9",
   "metadata": {},
   "source": [
    "## Bivariate Feature Analysis "
   ]
  },
  {
   "cell_type": "markdown",
   "id": "ae9b4886",
   "metadata": {},
   "source": [
    "### Bivariate Analysis for Numeric Data \n",
    "\n",
    "Finding Correlation between features using heatmap and some functions"
   ]
  },
  {
   "cell_type": "code",
   "execution_count": 21,
   "id": "fe30b882",
   "metadata": {},
   "outputs": [
    {
     "data": {
      "image/png": "[encoded data removed]",
      "text/plain": [
       "<Figure size 1008x1008 with 2 Axes>"
      ]
     },
     "metadata": {
      "needs_background": "light"
     },
     "output_type": "display_data"
    }
   ],
   "source": [
    "# A Heatmap is a two-dimensional graphical representation of data\n",
    "# where the individual values that are contained in a matrix are represented as colors.\n",
    "plt.figure(figsize=(14,14)) # customize the plot\n",
    "sns.heatmap(dataset.corr()) # exploring correlation between the attributes of data\n",
    "plt.show()"
   ]
  },
  {
   "cell_type": "code",
   "execution_count": 22,
   "id": "4a7a5739",
   "metadata": {},
   "outputs": [],
   "source": [
    "num_corr = {}"
   ]
  },
  {
   "cell_type": "markdown",
   "id": "ce7ceeb9",
   "metadata": {},
   "source": [
    "The correlation matrix can be used to estimate the linear historical relationship between the returns of multiple assets.\n",
    "\n",
    "we can use built-in .corr() method on a pandas dataframe to easily calculate the correlation matrix."
   ]
  },
  {
   "cell_type": "code",
   "execution_count": 23,
   "id": "bc82c9f8",
   "metadata": {},
   "outputs": [],
   "source": [
    "# A correlation matrix is simply a table which dispays the correlation.\n",
    "# This measure is used to demonstrate a linear relationship between two variables.\n",
    "# Here we used corr_max() function to find maximum/heavy correlations between features.\n",
    "\n",
    "def corr_max(feature):\n",
    "    dicto = dict(dataset.corrwith(dataset[feature]))\n",
    "    \n",
    "    for key, val in dicto.items():\n",
    "        if (val > 0.97 or val < -0.97) and (feature != key):\n",
    "            num_corr[feature] = key\n",
    "            print(feature, \"------>\", key)"
   ]
  },
  {
   "cell_type": "code",
   "execution_count": 24,
   "id": "6d2da6a0",
   "metadata": {},
   "outputs": [
    {
     "name": "stdout",
     "output_type": "stream",
     "text": [
      "Heavy Correlation is between: \n",
      "a ------> ad\n",
      "q ------> moid\n",
      "ad ------> a\n",
      "per_y ------> per\n",
      "moid ------> q\n",
      "per ------> per_y\n"
     ]
    }
   ],
   "source": [
    "# Prints columns with maximum correlation\n",
    "print(\"Heavy Correlation is between: \")\n",
    "for col in numeric:\n",
    "    corr_max(col)"
   ]
  },
  {
   "cell_type": "markdown",
   "id": "589968c7",
   "metadata": {},
   "source": [
    "Outcome: features are found to be havily correlated with pearson coefficient greater than 0.97 or less than -0.97"
   ]
  },
  {
   "cell_type": "markdown",
   "id": "289e1896",
   "metadata": {},
   "source": [
    "Pearson Correlation Coefficient: is a measure of linear correlation between two sets of data. \n",
    "\n",
    "It is the ratio between the covariance of two variables and the product of their standard deviations; thus it is essentially a normalised measurement of the covariance, such that the result always has a value between −1 and 1."
   ]
  },
  {
   "cell_type": "markdown",
   "id": "02b48696",
   "metadata": {},
   "source": [
    "## Bivariate Analysis of Categorical Data "
   ]
  },
  {
   "cell_type": "markdown",
   "id": "531819ec",
   "metadata": {},
   "source": [
    "Bivariate Analysis invloves the analysis of two variables, for the purpose of determining the empirical relationship between them."
   ]
  },
  {
   "cell_type": "markdown",
   "id": "32a1a9b5",
   "metadata": {},
   "source": [
    "### Chi-Squared Test for relationship between categorical data \n",
    "\n",
    "A Chi-squared test (also chi-square or χ2 test) is a statistical hypothesis test that is valid to perform  when the test statistic is chi-squared distributed under null hypothesis(no difference between two possibilities)."
   ]
  },
  {
   "cell_type": "code",
   "execution_count": 25,
   "id": "c2564973",
   "metadata": {},
   "outputs": [
    {
     "name": "stdout",
     "output_type": "stream",
     "text": [
      " Categorical Data : ['name', 'condition_code', 'neo', 'pha', 'extent', 'spec_B', 'spec_T', 'class']\n"
     ]
    }
   ],
   "source": [
    "# Categorical data\n",
    "print(\" Categorical Data :\", categorical)"
   ]
  },
  {
   "cell_type": "markdown",
   "id": "20f4e98f",
   "metadata": {},
   "source": [
    "The method .copy() is used here so that any changes made in new DataFrame don't get reflected in the original one."
   ]
  },
  {
   "cell_type": "code",
   "execution_count": 26,
   "id": "22a898a7",
   "metadata": {},
   "outputs": [
    {
     "name": "stdout",
     "output_type": "stream",
     "text": [
      "categories for correlation test : ['condition_code', 'neo', 'pha', 'extent', 'spec_B', 'spec_T', 'class']\n"
     ]
    }
   ],
   "source": [
    "# categories for correlation test\n",
    "# this .copy() method returns the name of categories for correlation test\n",
    "test_corr_cat = categorical.copy()\n",
    "test_corr_cat.remove('name')\n",
    "print('categories for correlation test :', test_corr_cat)"
   ]
  },
  {
   "cell_type": "code",
   "execution_count": 27,
   "id": "5bd0cb93",
   "metadata": {},
   "outputs": [],
   "source": [
    "cat_corr = {}"
   ]
  },
  {
   "cell_type": "code",
   "execution_count": 28,
   "id": "b6420669",
   "metadata": {},
   "outputs": [],
   "source": [
    "# (Scipy function)chi2_contingency: comparison of two groups with dichotomous dependant variable\n",
    "# to determine whether there is statistically significant difference between expected and observed frequencies in one or\n",
    "# more categories of contingency table.\n",
    "\n",
    "# crosstab: a table showing relationship between two or more variables\n",
    "def cat_correlation(feature1, feature2):\n",
    "    crosstab = pd.crosstab(dataset[feature1], dataset[feature2])\n",
    "    p_value = stats.chi2_contingency(crosstab)[1]\n",
    "    \n",
    "    if p_value < 0.05:\n",
    "        cat_corr[feature1] = feature2\n",
    "        print(feature1, \"is Related to \", feature2, \"with p-value :\", p_value)"
   ]
  },
  {
   "cell_type": "code",
   "execution_count": 29,
   "id": "73232ff5",
   "metadata": {},
   "outputs": [
    {
     "name": "stdout",
     "output_type": "stream",
     "text": [
      "condition_code is Related to  neo with p-value : 0.0\n",
      "condition_code is Related to  pha with p-value : 1.0312155367979149e-199\n",
      "condition_code is Related to  spec_B with p-value : 1.5849916756916413e-96\n",
      "condition_code is Related to  spec_T with p-value : 2.8792242695344553e-43\n",
      "condition_code is Related to  class with p-value : 0.0\n",
      "neo is Related to  pha with p-value : 0.0\n",
      "neo is Related to  spec_B with p-value : 1.0784031329999345e-66\n",
      "neo is Related to  spec_T with p-value : 1.0549449724674979e-13\n",
      "neo is Related to  class with p-value : 0.0\n",
      "pha is Related to  spec_B with p-value : 1.3109230338722967e-22\n",
      "pha is Related to  spec_T with p-value : 9.1499734851376e-05\n",
      "pha is Related to  class with p-value : 0.0\n",
      "spec_B is Related to  spec_T with p-value : 1.331145733430803e-216\n",
      "spec_B is Related to  class with p-value : 2.0145187772655847e-99\n",
      "spec_T is Related to  class with p-value : 4.3217214624777004e-72\n"
     ]
    }
   ],
   "source": [
    "for ind1 in range(len(test_corr_cat)):\n",
    "    for ind2 in range(ind1+1, len(test_corr_cat)):\n",
    "        cat_correlation(test_corr_cat[ind1], test_corr_cat[ind2])"
   ]
  },
  {
   "cell_type": "markdown",
   "id": "04cb60d5",
   "metadata": {},
   "source": [
    "### Handling missing values "
   ]
  },
  {
   "cell_type": "markdown",
   "id": "58902321",
   "metadata": {},
   "source": [
    "One of the most common data pre-processing steps is to checek for null values in the dataset. we can get the total number of msiing values in the dataframe by the following line of code. "
   ]
  },
  {
   "cell_type": "code",
   "execution_count": 30,
   "id": "4418b46f",
   "metadata": {},
   "outputs": [
    {
     "data": {
      "text/plain": [
       "name              121302\n",
       "a                      0\n",
       "e                      0\n",
       "i                      0\n",
       "om                     0\n",
       "w                      0\n",
       "q                      0\n",
       "ad                     0\n",
       "per_y                  0\n",
       "data_arc               0\n",
       "condition_code         0\n",
       "n_obs_used             0\n",
       "H                    273\n",
       "neo                    0\n",
       "pha                    0\n",
       "diameter               0\n",
       "extent            136394\n",
       "albedo                 0\n",
       "rot_per           125252\n",
       "GM                136394\n",
       "BV                135408\n",
       "UB                135448\n",
       "IR                136405\n",
       "spec_B            135048\n",
       "spec_T            135448\n",
       "G                 136289\n",
       "moid                   0\n",
       "class                  0\n",
       "n                      0\n",
       "per                    0\n",
       "ma                     0\n",
       "dtype: int64"
      ]
     },
     "execution_count": 30,
     "metadata": {},
     "output_type": "execute_result"
    }
   ],
   "source": [
    "dataset = dataset[pd.notnull(dataset['diameter'])]\n",
    "dataset = dataset[pd.notnull(dataset['albedo'])]\n",
    "dataset['data_arc'].fillna(1,inplace=True)\n",
    "\n",
    "dataset.isnull().sum()"
   ]
  },
  {
   "cell_type": "markdown",
   "id": "163168c2",
   "metadata": {},
   "source": [
    "### Treating Categorical missing values "
   ]
  },
  {
   "cell_type": "code",
   "execution_count": 31,
   "id": "a74c7430",
   "metadata": {},
   "outputs": [
    {
     "name": "stdout",
     "output_type": "stream",
     "text": [
      "name ----> 121302\n",
      "extent ----> 136394\n",
      "spec_B ----> 135048\n",
      "spec_T ----> 135448\n"
     ]
    }
   ],
   "source": [
    "# Categorical Missing Values\n",
    "# returns Nan values for categorical features\n",
    "for feature in categorical:\n",
    "    missing = dataset[feature].isnull().sum()\n",
    "    if missing > 0:\n",
    "        print(feature, \"---->\", missing)"
   ]
  },
  {
   "cell_type": "code",
   "execution_count": 32,
   "id": "19aae702",
   "metadata": {},
   "outputs": [
    {
     "name": "stdout",
     "output_type": "stream",
     "text": [
      "Percentage of NaN values for name  :  88 %\n",
      "Percentage of NaN values for extent  :  99 %\n",
      "Percentage of NaN values for spec_B  :  99 %\n",
      "Percentage of NaN values for spec_T  :  99 %\n"
     ]
    }
   ],
   "source": [
    "# categories with more NaN values than Non-NaN values\n",
    "# calculating the percentage of NaN values in categorical features\n",
    "remove_cat = []\n",
    "max_len = dataset.shape[0]\n",
    "\n",
    "for ele in categorical:\n",
    "    null = len(dataset[ele][dataset[ele].isnull()==True])\n",
    "    not_null = len(dataset[ele][dataset[ele].isnull()==False])\n",
    "    \n",
    "    if null > not_null:\n",
    "        print(\"Percentage of NaN values for\", ele, \" : \", null*100//max_len, \"%\")\n",
    "        remove_cat.append(ele)    "
   ]
  },
  {
   "cell_type": "code",
   "execution_count": 33,
   "id": "8c7baaa1",
   "metadata": {},
   "outputs": [],
   "source": [
    "dataset.drop(remove_cat, axis=1, inplace=True)"
   ]
  },
  {
   "cell_type": "markdown",
   "id": "aa62b2a6",
   "metadata": {},
   "source": [
    "Let's also check the column-wise distribution of null values:"
   ]
  },
  {
   "cell_type": "code",
   "execution_count": 34,
   "id": "afaede06",
   "metadata": {},
   "outputs": [],
   "source": [
    "# Filing missing values of remaining categories with mode\n",
    "dataset['condition_code'].fillna(dataset['condition_code'].mode()[0], inplace=True)\n",
    "dataset['neo'].fillna(dataset['neo'].mode()[0], inplace=True)\n",
    "dataset['pha'].fillna(dataset['pha'].mode()[0], inplace=True)"
   ]
  },
  {
   "cell_type": "markdown",
   "id": "694f6ea2",
   "metadata": {},
   "source": [
    "### Treating Numeric Missing values "
   ]
  },
  {
   "cell_type": "code",
   "execution_count": 35,
   "id": "a2bc4585",
   "metadata": {},
   "outputs": [
    {
     "name": "stdout",
     "output_type": "stream",
     "text": [
      "H ----> 273\n",
      "rot_per ----> 125252\n",
      "GM ----> 136394\n",
      "BV ----> 135408\n",
      "UB ----> 135448\n",
      "IR ----> 136405\n",
      "G ----> 136289\n"
     ]
    }
   ],
   "source": [
    "# numeric missing values\n",
    "\n",
    "missing_num = []\n",
    "for feature in numeric:\n",
    "    missing = dataset[feature].isnull().sum()\n",
    "    if missing > 0:\n",
    "        print(feature, \"---->\", missing)\n",
    "        missing_num.append(feature)"
   ]
  },
  {
   "cell_type": "code",
   "execution_count": 36,
   "id": "20680950",
   "metadata": {},
   "outputs": [
    {
     "name": "stdout",
     "output_type": "stream",
     "text": [
      "Percentage of NaN values for rot_per  :  91 %\n",
      "Percentage of NaN values for GM  :  99 %\n",
      "Percentage of NaN values for BV  :  99 %\n",
      "Percentage of NaN values for UB  :  99 %\n",
      "Percentage of NaN values for IR  :  99 %\n",
      "Percentage of NaN values for G  :  99 %\n"
     ]
    }
   ],
   "source": [
    "# Numeric with more NaN values than Non-NaN values\n",
    "\n",
    "remove_num = []\n",
    "max_len = dataset.shape[0]\n",
    "\n",
    "for ele in numeric:\n",
    "    null = len(dataset[ele][dataset[ele].isnull()==True])\n",
    "    not_null = len(dataset[ele][dataset[ele].isnull()==False])\n",
    "    \n",
    "    if null > not_null:\n",
    "        print(\"Percentage of NaN values for\", ele, \" : \", null*100//max_len, \"%\")\n",
    "        remove_num.append(ele)    "
   ]
  },
  {
   "cell_type": "code",
   "execution_count": 37,
   "id": "e61ba46c",
   "metadata": {},
   "outputs": [
    {
     "data": {
      "text/html": [
       "<div>\n",
       "<style scoped>\n",
       "    .dataframe tbody tr th:only-of-type {\n",
       "        vertical-align: middle;\n",
       "    }\n",
       "\n",
       "    .dataframe tbody tr th {\n",
       "        vertical-align: top;\n",
       "    }\n",
       "\n",
       "    .dataframe thead th {\n",
       "        text-align: right;\n",
       "    }\n",
       "</style>\n",
       "<table border=\"1\" class=\"dataframe\">\n",
       "  <thead>\n",
       "    <tr style=\"text-align: right;\">\n",
       "      <th></th>\n",
       "      <th>a</th>\n",
       "      <th>e</th>\n",
       "      <th>i</th>\n",
       "      <th>om</th>\n",
       "      <th>w</th>\n",
       "      <th>q</th>\n",
       "      <th>ad</th>\n",
       "      <th>per_y</th>\n",
       "      <th>data_arc</th>\n",
       "      <th>condition_code</th>\n",
       "      <th>n_obs_used</th>\n",
       "      <th>H</th>\n",
       "      <th>neo</th>\n",
       "      <th>pha</th>\n",
       "      <th>diameter</th>\n",
       "      <th>rot_per</th>\n",
       "      <th>GM</th>\n",
       "      <th>BV</th>\n",
       "      <th>UB</th>\n",
       "      <th>IR</th>\n",
       "      <th>G</th>\n",
       "      <th>moid</th>\n",
       "      <th>class</th>\n",
       "      <th>n</th>\n",
       "      <th>per</th>\n",
       "      <th>ma</th>\n",
       "    </tr>\n",
       "  </thead>\n",
       "  <tbody>\n",
       "    <tr>\n",
       "      <th>0</th>\n",
       "      <td>2.769165</td>\n",
       "      <td>0.076009</td>\n",
       "      <td>10.594067</td>\n",
       "      <td>80.305532</td>\n",
       "      <td>73.597694</td>\n",
       "      <td>2.558684</td>\n",
       "      <td>2.979647</td>\n",
       "      <td>4.608202</td>\n",
       "      <td>8822.0</td>\n",
       "      <td>0</td>\n",
       "      <td>1002</td>\n",
       "      <td>3.34</td>\n",
       "      <td>N</td>\n",
       "      <td>N</td>\n",
       "      <td>939.4</td>\n",
       "      <td>9.074170</td>\n",
       "      <td>62.6284</td>\n",
       "      <td>0.713</td>\n",
       "      <td>0.426</td>\n",
       "      <td>NaN</td>\n",
       "      <td>0.12</td>\n",
       "      <td>1.594780</td>\n",
       "      <td>MBA</td>\n",
       "      <td>0.213885</td>\n",
       "      <td>1683.145708</td>\n",
       "      <td>77.372096</td>\n",
       "    </tr>\n",
       "    <tr>\n",
       "      <th>1</th>\n",
       "      <td>2.772466</td>\n",
       "      <td>0.230337</td>\n",
       "      <td>34.836234</td>\n",
       "      <td>173.080063</td>\n",
       "      <td>310.048857</td>\n",
       "      <td>2.133865</td>\n",
       "      <td>3.411067</td>\n",
       "      <td>4.616444</td>\n",
       "      <td>72318.0</td>\n",
       "      <td>0</td>\n",
       "      <td>8490</td>\n",
       "      <td>4.13</td>\n",
       "      <td>N</td>\n",
       "      <td>N</td>\n",
       "      <td>545</td>\n",
       "      <td>7.813200</td>\n",
       "      <td>14.3000</td>\n",
       "      <td>0.635</td>\n",
       "      <td>0.284</td>\n",
       "      <td>NaN</td>\n",
       "      <td>0.11</td>\n",
       "      <td>1.233240</td>\n",
       "      <td>MBA</td>\n",
       "      <td>0.213503</td>\n",
       "      <td>1686.155999</td>\n",
       "      <td>59.699133</td>\n",
       "    </tr>\n",
       "    <tr>\n",
       "      <th>2</th>\n",
       "      <td>2.669150</td>\n",
       "      <td>0.256942</td>\n",
       "      <td>12.988919</td>\n",
       "      <td>169.852760</td>\n",
       "      <td>248.138626</td>\n",
       "      <td>1.983332</td>\n",
       "      <td>3.354967</td>\n",
       "      <td>4.360814</td>\n",
       "      <td>72684.0</td>\n",
       "      <td>0</td>\n",
       "      <td>7104</td>\n",
       "      <td>5.33</td>\n",
       "      <td>N</td>\n",
       "      <td>N</td>\n",
       "      <td>246.596</td>\n",
       "      <td>7.210000</td>\n",
       "      <td>NaN</td>\n",
       "      <td>0.824</td>\n",
       "      <td>0.433</td>\n",
       "      <td>NaN</td>\n",
       "      <td>0.32</td>\n",
       "      <td>1.034540</td>\n",
       "      <td>MBA</td>\n",
       "      <td>0.226019</td>\n",
       "      <td>1592.787285</td>\n",
       "      <td>34.925016</td>\n",
       "    </tr>\n",
       "    <tr>\n",
       "      <th>3</th>\n",
       "      <td>2.361418</td>\n",
       "      <td>0.088721</td>\n",
       "      <td>7.141771</td>\n",
       "      <td>103.810804</td>\n",
       "      <td>150.728541</td>\n",
       "      <td>2.151909</td>\n",
       "      <td>2.570926</td>\n",
       "      <td>3.628837</td>\n",
       "      <td>24288.0</td>\n",
       "      <td>0</td>\n",
       "      <td>9325</td>\n",
       "      <td>3.20</td>\n",
       "      <td>N</td>\n",
       "      <td>N</td>\n",
       "      <td>525.4</td>\n",
       "      <td>5.342128</td>\n",
       "      <td>17.8000</td>\n",
       "      <td>0.782</td>\n",
       "      <td>0.492</td>\n",
       "      <td>NaN</td>\n",
       "      <td>0.32</td>\n",
       "      <td>1.139480</td>\n",
       "      <td>MBA</td>\n",
       "      <td>0.271609</td>\n",
       "      <td>1325.432765</td>\n",
       "      <td>95.861936</td>\n",
       "    </tr>\n",
       "    <tr>\n",
       "      <th>4</th>\n",
       "      <td>2.574249</td>\n",
       "      <td>0.191095</td>\n",
       "      <td>5.366988</td>\n",
       "      <td>141.576605</td>\n",
       "      <td>358.687607</td>\n",
       "      <td>2.082324</td>\n",
       "      <td>3.066174</td>\n",
       "      <td>4.130323</td>\n",
       "      <td>63507.0</td>\n",
       "      <td>0</td>\n",
       "      <td>2916</td>\n",
       "      <td>6.85</td>\n",
       "      <td>N</td>\n",
       "      <td>N</td>\n",
       "      <td>106.699</td>\n",
       "      <td>16.806000</td>\n",
       "      <td>NaN</td>\n",
       "      <td>0.826</td>\n",
       "      <td>0.411</td>\n",
       "      <td>NaN</td>\n",
       "      <td>NaN</td>\n",
       "      <td>1.095890</td>\n",
       "      <td>MBA</td>\n",
       "      <td>0.238632</td>\n",
       "      <td>1508.600458</td>\n",
       "      <td>282.366289</td>\n",
       "    </tr>\n",
       "    <tr>\n",
       "      <th>...</th>\n",
       "      <td>...</td>\n",
       "      <td>...</td>\n",
       "      <td>...</td>\n",
       "      <td>...</td>\n",
       "      <td>...</td>\n",
       "      <td>...</td>\n",
       "      <td>...</td>\n",
       "      <td>...</td>\n",
       "      <td>...</td>\n",
       "      <td>...</td>\n",
       "      <td>...</td>\n",
       "      <td>...</td>\n",
       "      <td>...</td>\n",
       "      <td>...</td>\n",
       "      <td>...</td>\n",
       "      <td>...</td>\n",
       "      <td>...</td>\n",
       "      <td>...</td>\n",
       "      <td>...</td>\n",
       "      <td>...</td>\n",
       "      <td>...</td>\n",
       "      <td>...</td>\n",
       "      <td>...</td>\n",
       "      <td>...</td>\n",
       "      <td>...</td>\n",
       "      <td>...</td>\n",
       "    </tr>\n",
       "    <tr>\n",
       "      <th>797835</th>\n",
       "      <td>3.155975</td>\n",
       "      <td>0.430349</td>\n",
       "      <td>28.718353</td>\n",
       "      <td>115.532995</td>\n",
       "      <td>136.849398</td>\n",
       "      <td>1.797805</td>\n",
       "      <td>4.514145</td>\n",
       "      <td>5.606716</td>\n",
       "      <td>2250.0</td>\n",
       "      <td>2</td>\n",
       "      <td>47</td>\n",
       "      <td>18.20</td>\n",
       "      <td>N</td>\n",
       "      <td>N</td>\n",
       "      <td>1.077</td>\n",
       "      <td>NaN</td>\n",
       "      <td>NaN</td>\n",
       "      <td>NaN</td>\n",
       "      <td>NaN</td>\n",
       "      <td>NaN</td>\n",
       "      <td>NaN</td>\n",
       "      <td>0.854315</td>\n",
       "      <td>MBA</td>\n",
       "      <td>0.175794</td>\n",
       "      <td>2047.852953</td>\n",
       "      <td>195.737632</td>\n",
       "    </tr>\n",
       "    <tr>\n",
       "      <th>797860</th>\n",
       "      <td>3.171225</td>\n",
       "      <td>0.159119</td>\n",
       "      <td>27.098625</td>\n",
       "      <td>309.036573</td>\n",
       "      <td>19.746812</td>\n",
       "      <td>2.666623</td>\n",
       "      <td>3.675826</td>\n",
       "      <td>5.647402</td>\n",
       "      <td>2373.0</td>\n",
       "      <td>1</td>\n",
       "      <td>50</td>\n",
       "      <td>16.20</td>\n",
       "      <td>N</td>\n",
       "      <td>N</td>\n",
       "      <td>3.793</td>\n",
       "      <td>NaN</td>\n",
       "      <td>NaN</td>\n",
       "      <td>NaN</td>\n",
       "      <td>NaN</td>\n",
       "      <td>NaN</td>\n",
       "      <td>NaN</td>\n",
       "      <td>1.663010</td>\n",
       "      <td>MBA</td>\n",
       "      <td>0.174527</td>\n",
       "      <td>2062.713583</td>\n",
       "      <td>164.999439</td>\n",
       "    </tr>\n",
       "    <tr>\n",
       "      <th>798077</th>\n",
       "      <td>2.548410</td>\n",
       "      <td>0.076071</td>\n",
       "      <td>11.593237</td>\n",
       "      <td>246.298656</td>\n",
       "      <td>170.090810</td>\n",
       "      <td>2.354549</td>\n",
       "      <td>2.742270</td>\n",
       "      <td>4.068291</td>\n",
       "      <td>3297.0</td>\n",
       "      <td>2</td>\n",
       "      <td>33</td>\n",
       "      <td>17.30</td>\n",
       "      <td>N</td>\n",
       "      <td>N</td>\n",
       "      <td>2.696</td>\n",
       "      <td>NaN</td>\n",
       "      <td>NaN</td>\n",
       "      <td>NaN</td>\n",
       "      <td>NaN</td>\n",
       "      <td>NaN</td>\n",
       "      <td>NaN</td>\n",
       "      <td>1.367330</td>\n",
       "      <td>MBA</td>\n",
       "      <td>0.242270</td>\n",
       "      <td>1485.943371</td>\n",
       "      <td>145.319581</td>\n",
       "    </tr>\n",
       "    <tr>\n",
       "      <th>799752</th>\n",
       "      <td>3.051336</td>\n",
       "      <td>0.287449</td>\n",
       "      <td>14.456779</td>\n",
       "      <td>343.917822</td>\n",
       "      <td>342.614839</td>\n",
       "      <td>2.174231</td>\n",
       "      <td>3.928440</td>\n",
       "      <td>5.330196</td>\n",
       "      <td>2208.0</td>\n",
       "      <td>2</td>\n",
       "      <td>27</td>\n",
       "      <td>17.20</td>\n",
       "      <td>N</td>\n",
       "      <td>N</td>\n",
       "      <td>3.271</td>\n",
       "      <td>NaN</td>\n",
       "      <td>NaN</td>\n",
       "      <td>NaN</td>\n",
       "      <td>NaN</td>\n",
       "      <td>NaN</td>\n",
       "      <td>NaN</td>\n",
       "      <td>1.166840</td>\n",
       "      <td>MBA</td>\n",
       "      <td>0.184914</td>\n",
       "      <td>1946.853973</td>\n",
       "      <td>175.708508</td>\n",
       "    </tr>\n",
       "    <tr>\n",
       "      <th>810375</th>\n",
       "      <td>2.417477</td>\n",
       "      <td>0.109001</td>\n",
       "      <td>4.525668</td>\n",
       "      <td>148.244819</td>\n",
       "      <td>31.949854</td>\n",
       "      <td>2.153970</td>\n",
       "      <td>2.680984</td>\n",
       "      <td>3.758822</td>\n",
       "      <td>3458.0</td>\n",
       "      <td>3</td>\n",
       "      <td>25</td>\n",
       "      <td>18.40</td>\n",
       "      <td>N</td>\n",
       "      <td>N</td>\n",
       "      <td>1.600</td>\n",
       "      <td>NaN</td>\n",
       "      <td>NaN</td>\n",
       "      <td>NaN</td>\n",
       "      <td>NaN</td>\n",
       "      <td>NaN</td>\n",
       "      <td>NaN</td>\n",
       "      <td>1.159420</td>\n",
       "      <td>MBA</td>\n",
       "      <td>0.262217</td>\n",
       "      <td>1372.909600</td>\n",
       "      <td>170.888415</td>\n",
       "    </tr>\n",
       "  </tbody>\n",
       "</table>\n",
       "<p>136406 rows × 26 columns</p>\n",
       "</div>"
      ],
      "text/plain": [
       "               a         e          i          om           w         q  \\\n",
       "0       2.769165  0.076009  10.594067   80.305532   73.597694  2.558684   \n",
       "1       2.772466  0.230337  34.836234  173.080063  310.048857  2.133865   \n",
       "2       2.669150  0.256942  12.988919  169.852760  248.138626  1.983332   \n",
       "3       2.361418  0.088721   7.141771  103.810804  150.728541  2.151909   \n",
       "4       2.574249  0.191095   5.366988  141.576605  358.687607  2.082324   \n",
       "...          ...       ...        ...         ...         ...       ...   \n",
       "797835  3.155975  0.430349  28.718353  115.532995  136.849398  1.797805   \n",
       "797860  3.171225  0.159119  27.098625  309.036573   19.746812  2.666623   \n",
       "798077  2.548410  0.076071  11.593237  246.298656  170.090810  2.354549   \n",
       "799752  3.051336  0.287449  14.456779  343.917822  342.614839  2.174231   \n",
       "810375  2.417477  0.109001   4.525668  148.244819   31.949854  2.153970   \n",
       "\n",
       "              ad     per_y  data_arc condition_code  n_obs_used      H neo  \\\n",
       "0       2.979647  4.608202    8822.0              0        1002   3.34   N   \n",
       "1       3.411067  4.616444   72318.0              0        8490   4.13   N   \n",
       "2       3.354967  4.360814   72684.0              0        7104   5.33   N   \n",
       "3       2.570926  3.628837   24288.0              0        9325   3.20   N   \n",
       "4       3.066174  4.130323   63507.0              0        2916   6.85   N   \n",
       "...          ...       ...       ...            ...         ...    ...  ..   \n",
       "797835  4.514145  5.606716    2250.0              2          47  18.20   N   \n",
       "797860  3.675826  5.647402    2373.0              1          50  16.20   N   \n",
       "798077  2.742270  4.068291    3297.0              2          33  17.30   N   \n",
       "799752  3.928440  5.330196    2208.0              2          27  17.20   N   \n",
       "810375  2.680984  3.758822    3458.0              3          25  18.40   N   \n",
       "\n",
       "       pha diameter    rot_per       GM     BV     UB  IR     G      moid  \\\n",
       "0        N    939.4   9.074170  62.6284  0.713  0.426 NaN  0.12  1.594780   \n",
       "1        N      545   7.813200  14.3000  0.635  0.284 NaN  0.11  1.233240   \n",
       "2        N  246.596   7.210000      NaN  0.824  0.433 NaN  0.32  1.034540   \n",
       "3        N    525.4   5.342128  17.8000  0.782  0.492 NaN  0.32  1.139480   \n",
       "4        N  106.699  16.806000      NaN  0.826  0.411 NaN   NaN  1.095890   \n",
       "...     ..      ...        ...      ...    ...    ...  ..   ...       ...   \n",
       "797835   N    1.077        NaN      NaN    NaN    NaN NaN   NaN  0.854315   \n",
       "797860   N    3.793        NaN      NaN    NaN    NaN NaN   NaN  1.663010   \n",
       "798077   N    2.696        NaN      NaN    NaN    NaN NaN   NaN  1.367330   \n",
       "799752   N    3.271        NaN      NaN    NaN    NaN NaN   NaN  1.166840   \n",
       "810375   N    1.600        NaN      NaN    NaN    NaN NaN   NaN  1.159420   \n",
       "\n",
       "       class         n          per          ma  \n",
       "0        MBA  0.213885  1683.145708   77.372096  \n",
       "1        MBA  0.213503  1686.155999   59.699133  \n",
       "2        MBA  0.226019  1592.787285   34.925016  \n",
       "3        MBA  0.271609  1325.432765   95.861936  \n",
       "4        MBA  0.238632  1508.600458  282.366289  \n",
       "...      ...       ...          ...         ...  \n",
       "797835   MBA  0.175794  2047.852953  195.737632  \n",
       "797860   MBA  0.174527  2062.713583  164.999439  \n",
       "798077   MBA  0.242270  1485.943371  145.319581  \n",
       "799752   MBA  0.184914  1946.853973  175.708508  \n",
       "810375   MBA  0.262217  1372.909600  170.888415  \n",
       "\n",
       "[136406 rows x 26 columns]"
      ]
     },
     "execution_count": 37,
     "metadata": {},
     "output_type": "execute_result"
    }
   ],
   "source": [
    "dataset.loc[:, dataset. columns != 'albedo']"
   ]
  },
  {
   "cell_type": "code",
   "execution_count": 38,
   "id": "a947d146",
   "metadata": {},
   "outputs": [],
   "source": [
    "dataset.drop(remove_num, axis=1, inplace=True)"
   ]
  },
  {
   "cell_type": "code",
   "execution_count": 39,
   "id": "b5bb63bb",
   "metadata": {},
   "outputs": [
    {
     "name": "stdout",
     "output_type": "stream",
     "text": [
      "Remaining Row with missing values ['H']\n"
     ]
    }
   ],
   "source": [
    "remain_miss_num = [x for x in missing_num if x not in remove_num]\n",
    "print(\"Remaining Row with missing values\", remain_miss_num)"
   ]
  },
  {
   "cell_type": "code",
   "execution_count": 40,
   "id": "c130f5b5",
   "metadata": {},
   "outputs": [
    {
     "data": {
      "text/plain": [
       "1.0        4036\n",
       "2.0        1658\n",
       "7150.0      143\n",
       "7626.0      142\n",
       "7623.0      128\n",
       "           ... \n",
       "10268.0      11\n",
       "5862.0       11\n",
       "7886.0       11\n",
       "6571.0       11\n",
       "10.0         11\n",
       "Name: data_arc, Length: 3465, dtype: int64"
      ]
     },
     "execution_count": 40,
     "metadata": {},
     "output_type": "execute_result"
    }
   ],
   "source": [
    "dataset['data_arc'].value_counts()[:10]"
   ]
  },
  {
   "cell_type": "code",
   "execution_count": 41,
   "id": "827a86bf",
   "metadata": {},
   "outputs": [
    {
     "data": {
      "text/plain": [
       "15.2    4619\n",
       "15.4    4526\n",
       "15.5    4511\n",
       "15.3    4472\n",
       "15.1    4455\n",
       "        ... \n",
       "10.6      46\n",
       "10.1      42\n",
       "10.4      41\n",
       "10.5      41\n",
       "10.0      40\n",
       "Name: H, Length: 85, dtype: int64"
      ]
     },
     "execution_count": 41,
     "metadata": {},
     "output_type": "execute_result"
    }
   ],
   "source": [
    "dataset['H'].value_counts()[:10]"
   ]
  },
  {
   "cell_type": "markdown",
   "id": "47ff9c9b",
   "metadata": {},
   "source": [
    "Some values are very common in 'data_arc' and 'H' so treat the missing values of this two columns with mean of the 10 most occuring values."
   ]
  },
  {
   "cell_type": "markdown",
   "id": "4d36222d",
   "metadata": {},
   "source": [
    "### Filling(replacing) Missing Values "
   ]
  },
  {
   "cell_type": "markdown",
   "id": "a94beb5a",
   "metadata": {},
   "source": [
    "Use the mean to fill the values."
   ]
  },
  {
   "cell_type": "code",
   "execution_count": 42,
   "id": "e6b4492d",
   "metadata": {},
   "outputs": [],
   "source": [
    "def fill_na(feature):\n",
    "    dataset[feature].fillna(dataset[feature].mean(), inplace=True)        "
   ]
  },
  {
   "cell_type": "code",
   "execution_count": 43,
   "id": "81bcd7a6",
   "metadata": {},
   "outputs": [],
   "source": [
    "for ele in remain_miss_num:\n",
    "    if ele not in ['data_arc', 'H', 'albedo']:\n",
    "        fill_na(ele)"
   ]
  },
  {
   "cell_type": "code",
   "execution_count": 64,
   "id": "18d4e4d2",
   "metadata": {},
   "outputs": [
    {
     "name": "stdout",
     "output_type": "stream",
     "text": [
      "Top 10 most occuring values of feature 'data_arc' :  dict_keys([1.0, 2.0, 7150.0, 7626.0, 7623.0, 5.0, 21586.0, 7175.0, 7625.0, 4.0, 7179.0, 8037.0, 7149.0, 7151.0, 7146.0, 7148.0, 7173.0, 7624.0, 6735.0, 7147.0, 21413.0, 7708.0, 6765.0, 7176.0, 7621.0, 6736.0, 7174.0, 7181.0, 8036.0, 7180.0, 7177.0, 7154.0, 7656.0, 7566.0, 7116.0, 7152.0, 7118.0, 6761.0, 6737.0, 7182.0, 7560.0, 6792.0, 7144.0, 6794.0, 7743.0, 6795.0, 7120.0, 7142.0, 7155.0, 7178.0, 7562.0, 7233.0, 7622.0, 7143.0, 7529.0, 7183.0, 7153.0, 7647.0, 7659.0, 6791.0, 6796.0, 6766.0, 7618.0, 6762.0, 7617.0, 7145.0, 6260.0, 7530.0, 7211.0, 6294.0, 7207.0, 7619.0, 7595.0, 8006.0, 7125.0, 7690.0, 6732.0, 7651.0, 6764.0, 7745.0, 7710.0, 6789.0, 7113.0, 7681.0, 6323.0, 6289.0, 7141.0, 7208.0, 7655.0, 7591.0, 6760.0, 7170.0, 7206.0, 7717.0, 6733.0, 6758.0, 7653.0, 7657.0, 6731.0, 7528.0, 7706.0, 6763.0, 7268.0, 6231.0, 6705.0, 6800.0, 7172.0, 6798.0, 7119.0, 6237.0, 7124.0, 6672.0, 17753.0, 6739.0, 7126.0, 7650.0, 7567.0, 7616.0, 7531.0, 7117.0, 7652.0, 7645.0, 7683.0, 7689.0, 6699.0, 6734.0, 6730.0, 7594.0, 7115.0, 6702.0, 7184.0, 7185.0, 7680.0, 6258.0, 7123.0, 6729.0, 7212.0, 7712.0, 7705.0, 6286.0, 7239.0, 7620.0, 6793.0, 7561.0, 7565.0, 16843.0, 7735.0, 6319.0, 6704.0, 6706.0, 7587.0, 6314.0, 7684.0, 6801.0, 7140.0, 7687.0, 6708.0, 6707.0, 6771.0, 6262.0, 6344.0, 6797.0, 6790.0, 7205.0, 6770.0, 6265.0, 7627.0, 6261.0, 6264.0, 7204.0, 6257.0, 6822.0, 6234.0, 7094.0, 6236.0, 7713.0, 6787.0, 6320.0, 7654.0, 6812.0, 6701.0, 7563.0, 7658.0, 6285.0, 7114.0, 7568.0, 7158.0, 7702.0, 7586.0, 7093.0, 6788.0, 6698.0, 7238.0, 6669.0, 7646.0, 7679.0, 6318.0, 7649.0, 7210.0, 6316.0, 6348.0, 6709.0, 6700.0, 7209.0, 7711.0, 7685.0, 7171.0, 6759.0, 6679.0, 7232.0, 6799.0, 7199.0, 7709.0, 6232.0, 6288.0, 6291.0, 7156.0, 6644.0, 6239.0, 6768.0, 6678.0, 6670.0, 6712.0, 6767.0, 7090.0, 7707.0, 7112.0, 6673.0, 6824.0, 7202.0, 7234.0, 6740.0, 7558.0, 7263.0, 6680.0, 6816.0, 6292.0, 6647.0, 7590.0, 7122.0, 7111.0, 7159.0, 7266.0, 7168.0, 7088.0, 6703.0, 7127.0, 7237.0, 6697.0, 7095.0, 6642.0, 6756.0, 8035.0, 6819.0, 6643.0, 7556.0, 6728.0, 7201.0, 9518.0, 7715.0, 6321.0, 6817.0, 7241.0, 6315.0, 6322.0, 6229.0, 7510.0, 6677.0, 6711.0, 7742.0, 6204.0, 6820.0, 8038.0, 7536.0, 6814.0, 6823.0, 6343.0, 7714.0, 7701.0, 9396.0, 6296.0, 7596.0, 7269.0, 7592.0, 6741.0, 6351.0, 7678.0, 7091.0, 6317.0, 6611.0, 8421.0, 7703.0, 7096.0, 6641.0, 8446.0, 6738.0, 7139.0, 6671.0, 6263.0, 7736.0, 6802.0, 6755.0, 6259.0, 7673.0, 6757.0, 6269.0, 7648.0, 7615.0, 6266.0, 6235.0, 7569.0, 8061.0, 7534.0, 7167.0, 6646.0, 6350.0, 7157.0, 7203.0, 7738.0, 5820.0, 8033.0, 7087.0, 7688.0, 6345.0, 7086.0, 6668.0, 7186.0, 7240.0, 7527.0, 6648.0, 7629.0, 7593.0, 6675.0, 21584.0, 7559.0, 6815.0, 6681.0, 6772.0, 7564.0, 6818.0, 6290.0, 6616.0, 6803.0, 6267.0, 7065.0, 7677.0, 6238.0, 7169.0, 7200.0, 7630.0, 6617.0, 7584.0, 6.0, 6207.0, 6615.0, 6769.0, 7525.0, 7324.0, 6284.0, 6347.0, 6230.0, 6299.0, 6324.0, 7644.0, 6355.0, 7165.0, 6821.0, 7262.0, 6743.0, 8029.0, 6715.0, 7265.0, 7588.0, 6619.0, 6804.0, 7121.0, 7089.0, 7270.0, 6295.0, 6349.0, 6742.0, 7213.0, 6268.0, 7236.0, 6645.0, 7198.0, 7505.0, 7532.0, 7230.0, 6297.0, 7686.0, 5819.0, 6727.0, 7160.0, 6287.0, 6618.0, 6853.0, 6610.0, 6371.0, 9425.0, 6825.0, 6828.0, 7716.0, 7682.0, 7322.0, 7261.0, 6786.0, 6410.0, 6710.0, 6725.0, 15364.0, 6849.0, 7500.0, 8007.0, 7062.0, 7058.0, 7642.0, 6682.0, 5843.0, 6846.0, 7353.0, 6754.0, 7084.0, 7229.0, 7302.0, 6650.0, 7540.0, 7063.0, 9547.0, 9515.0, 7166.0, 5377.0, 6638.0, 6270.0, 7572.0, 7628.0, 6353.0, 8034.0, 6282.0, 6293.0, 7356.0, 7863.0, 6674.0, 7739.0, 9366.0, 6233.0, 5374.0, 6379.0, 8477.0, 8066.0, 7137.0, 6622.0, 7643.0, 6654.0, 7267.0, 6783.0, 7675.0, 6240.0, 7231.0, 7028.0, 7533.0, 7526.0, 9892.0, 16840.0, 21583.0, 7138.0, 8063.0, 8532.0, 7235.0, 6303.0, 7264.0, 7242.0, 6352.0, 6346.0, 21582.0, 8068.0, 7614.0, 7080.0, 7297.0, 5814.0, 6591.0, 6256.0, 9837.0, 9423.0, 9540.0, 8448.0, 7509.0, 6310.0, 6676.0, 10273.0, 6378.0, 7537.0, 8094.0, 7676.0, 8625.0, 8057.0, 8064.0, 8423.0, 6813.0, 7060.0, 8450.0, 6649.0, 8097.0, 8030.0, 7301.0, 6714.0, 9722.0, 8445.0, 7746.0, 7053.0, 6745.0, 7541.0, 7097.0, 9720.0, 7535.0, 5874.0, 7557.0, 7670.0, 7130.0, 7506.0, 7718.0, 7589.0, 6382.0, 7479.0, 6655.0, 8594.0, 7129.0, 6713.0, 6747.0, 9539.0, 7083.0, 8116.0, 8506.0, 10274.0, 9718.0, 8032.0, 6827.0, 7507.0, 6826.0, 6852.0, 6560.0, 7085.0, 8451.0, 6652.0, 7672.0, 6313.0, 8419.0, 6785.0, 6773.0, 6228.0, 4962.0, 7600.0, 7737.0, 7059.0, 6252.0, 9342.0, 6377.0, 10253.0, 8002.0, 6608.0, 8418.0, 6726.0, 7061.0, 6614.0, 6550.0, 6716.0, 5380.0, 8507.0, 7057.0, 6312.0, 5346.0, 6325.0, 7733.0, 5875.0, 6341.0, 8449.0, 5846.0, 9332.0, 7734.0, 6272.0, 6595.0, 7299.0, 8060.0, 7555.0, 7861.0, 7599.0, 8535.0, 7196.0, 7704.0, 8502.0, 7538.0, 8593.0, 7443.0, 7215.0, 7691.0, 7110.0, 5847.0, 9369.0, 8508.0, 7891.0, 6251.0, 6283.0, 6623.0, 6717.0, 7832.0, 4969.0, 5813.0, 5822.0, 8474.0, 6227.0, 8974.0, 6851.0, 7007.0, 6223.0, 21410.0, 5818.0, 8120.0, 7034.0, 6684.0, 8561.0, 6651.0, 8001.0, 7476.0, 8124.0, 6408.0, 6225.0, 8569.0, 7539.0, 7580.0, 6829.0, 6211.0, 7508.0, 5821.0, 6206.0, 6624.0, 8056.0, 6587.0, 9898.0, 9424.0, 4929.0, 6330.0, 6354.0, 6356.0, 6635.0, 6254.0, 10106.0, 7271.0, 7729.0, 7296.0, 7601.0, 8040.0, 6209.0, 7214.0, 6329.0, 8567.0, 7740.0, 6280.0, 9422.0, 6620.0, 9367.0, 7128.0, 6696.0, 6784.0, 6843.0, 7544.0, 8008.0, 7978.0, 5810.0, 6210.0, 7797.0, 6342.0, 7744.0, 7772.0, 6653.0, 6406.0, 10104.0, 8062.0, 9360.0, 6298.0, 6205.0, 6340.0, 8004.0, 6380.0, 6200.0, 6744.0, 6693.0, 6375.0, 7732.0, 6746.0, 10398.0, 7448.0, 10431.0, 8128.0, 5370.0, 9010.0, 9535.0, 7289.0, 9339.0, 6848.0, 7163.0, 7197.0, 6830.0, 7325.0, 8481.0, 10254.0, 7354.0, 4959.0, 6609.0, 8058.0, 9038.0, 6665.0, 9888.0, 6691.0, 5817.0, 6253.0, 6589.0, 7513.0, 8005.0, 7571.0, 6613.0, 6176.0, 10276.0, 8422.0, 9516.0, 5344.0, 7570.0, 9519.0, 6434.0, 10221.0, 6361.0, 6311.0, 9895.0, 9511.0, 7327.0, 6226.0, 8619.0, 6326.0, 7187.0, 7359.0, 8919.0, 6685.0, 8092.0, 7762.0, 5345.0, 7977.0, 10219.0, 7671.0, 7503.0, 7890.0, 7052.0, 7054.0, 5789.0, 6201.0, 7032.0, 7585.0, 8562.0, 10103.0, 10278.0, 9035.0, 5826.0, 8980.0, 9512.0, 6255.0, 7326.0, 7188.0, 5851.0, 8090.0, 8093.0, 5322.0, 15191.0, 9343.0, 6203.0, 10279.0, 6370.0, 9388.0, 7320.0, 7475.0, 9039.0, 8622.0, 9421.0, 7452.0, 10255.0, 7669.0, 10277.0, 8009.0, 7598.0, 5872.0, 9867.0, 6621.0, 6401.0, 6332.0, 6751.0, 8452.0, 7660.0, 6337.0, 4968.0, 7700.0, 7608.0, 6776.0, 4939.0, 9891.0, 7295.0, 8596.0, 9037.0, 6374.0, 7291.0, 6695.0, 8000.0, 8984.0, 8595.0, 5871.0, 6381.0, 7640.0, 6590.0, 7355.0, 5823.0, 6202.0, 7292.0, 9344.0, 8571.0, 7029.0, 7246.0, 5348.0, 7523.0, 9363.0, 8541.0, 6811.0, 5786.0, 5758.0, 6724.0, 6384.0, 6372.0, 9426.0, 6582.0, 6278.0, 5354.0, 7474.0, 5845.0, 8590.0, 8574.0, 8067.0, 8981.0, 6612.0, 6339.0, 10078.0, 6639.0, 14946.0, 6365.0, 23718.0, 5349.0, 8564.0, 9545.0, 7066.0, 10222.0, 9033.0, 8602.0, 10281.0, 6667.0, 6844.0, 6166.0, 6245.0, 8426.0, 8568.0, 10396.0, 8441.0, 10102.0, 9899.0, 6805.0, 6409.0, 6778.0, 8628.0, 8096.0, 9418.0, 7064.0, 5881.0, 7499.0, 8391.0, 7101.0, 7290.0, 7161.0, 6411.0, 10105.0, 6373.0, 8428.0, 8570.0, 8157.0, 7741.0, 8862.0, 8599.0, 8563.0, 8091.0, 7774.0, 7999.0, 8542.0, 8444.0, 8043.0, 7998.0, 7860.0, 7799.0, 8118.0, 8447.0, 7031.0, 6180.0, 10098.0, 10251.0, 6636.0, 6376.0, 9983.0, 8484.0, 8216.0, 6168.0, 6578.0, 6402.0, 9340.0, 6694.0, 8414.0, 7698.0, 5840.0, 9893.0, 7328.0, 16839.0, 6752.0, 9394.0, 8623.0, 7831.0, 6246.0, 7722.0, 7164.0, 9328.0, 8597.0, 21411.0, 5787.0, 21412.0, 6554.0, 5404.0, 8424.0, 6683.0, 9362.0, 8160.0, 6806.0, 5408.0, 6723.0, 4961.0, 7256.0, 7300.0, 5783.0, 7352.0, 8427.0, 7763.0, 6580.0, 8534.0, 7078.0, 6841.0, 4967.0, 7321.0, 7323.0, 6809.0, 6387.0, 8145.0, 6195.0, 8411.0, 5828.0, 4906.0, 7357.0, 8071.0, 9397.0, 15714.0, 6999.0, 8975.0, 7195.0, 7552.0, 6718.0, 4987.0, 9400.0, 9932.0, 8180.0, 6198.0, 8027.0, 6847.0, 6466.0, 8121.0, 8240.0, 9368.0, 6301.0, 7361.0, 7631.0, 9390.0, 7000.0, 9188.0, 7260.0, 7611.0, 5378.0, 9393.0, 9334.0, 21563.0, 6241.0, 6383.0, 9311.0, 5880.0, 7473.0, 8086.0, 6640.0, 8626.0, 7055.0, 7259.0, 8087.0, 9067.0, 8472.0, 7830.0, 7769.0, 6170.0, 8530.0, 7636.0, 10312.0, 7024.0, 6810.0, 5409.0, 5382.0, 9869.0, 5375.0, 9866.0, 5788.0, 9419.0, 9417.0, 4997.0, 6385.0, 7004.0, 7972.0, 8069.0, 8238.0, 9896.0, 7973.0, 9007.0, 7950.0, 7317.0, 7051.0, 6666.0, 8098.0, 10247.0, 6879.0, 6327.0, 6208.0, 7828.0, 5351.0, 4963.0, 8948.0, 8156.0, 8483.0, 8538.0, 7255.0, 5879.0, 8065.0, 8059.0, 7823.0, 9542.0, 7597.0, 5873.0, 8420.0, 7699.0, 9036.0, 5352.0, 8476.0, 7329.0, 5855.0, 5383.0, 5376.0, 5350.0, 6244.0, 9958.0, 5761.0, 7333.0, 6856.0, 7025.0, 7131.0, 8103.0, 8123.0, 6242.0, 5824.0, 8242.0, 9476.0, 6358.0, 9548.0, 6842.0, 5792.0, 7610.0, 7859.0, 10252.0, 6175.0, 5852.0, 9838.0, 7512.0, 6412.0, 8509.0, 10272.0, 10101.0, 7796.0, 6328.0, 7304.0, 7554.0, 7632.0, 10428.0, 7553.0, 8566.0, 9517.0, 8503.0, 7228.0, 4938.0, 7979.0, 9870.0, 7345.0, 9484.0, 8119.0, 7135.0, 21587.0, 6531.0, 8089.0, 9445.0, 6637.0, 8154.0, 10433.0, 10399.0, 6559.0, 9391.0, 6583.0, 6141.0, 6782.0, 8591.0, 9098.0, 8010.0, 9335.0, 8126.0, 9398.0, 7082.0, 4940.0, 9541.0, 6338.0, 5907.0, 8442.0, 6721.0, 9933.0, 5785.0, 8425.0, 7036.0, 9006.0, 9544.0, 6748.0, 8217.0, 8429.0, 8237.0, 7573.0, 13886.0, 6224.0, 6281.0, 6779.0, 5700.0, 5371.0, 5876.0, 5791.0, 9345.0, 6562.0, 10257.0, 6087.0, 7477.0, 16670.0, 7006.0, 10400.0, 7037.0, 5756.0, 6774.0, 9213.0, 10429.0, 9688.0, 7449.0, 7501.0, 6363.0, 4937.0, 10070.0, 8417.0, 5877.0, 5381.0, 7504.0, 8916.0, 10246.0, 7731.0, 9920.0, 6302.0, 4965.0, 7273.0, 7948.0, 5373.0, 6850.0, 7770.0, 8480.0, 6199.0, 9843.0, 6367.0, 7798.0, 8979.0, 6174.0, 4909.0, 7331.0, 7498.0, 10242.0, 7003.0, 9330.0, 4958.0, 8088.0, 10077.0, 9361.0, 4932.0, 5339.0, 7257.0, 6116.0, 7949.0, 9514.0, 8243.0, 6781.0, 9341.0, 5850.0, 7251.0, 7293.0, 8003.0, 7583.0, 9538.0, 6905.0, 8453.0, 9778.0, 7471.0, 7472.0, 8149.0, 8150.0, 10250.0, 9416.0, 9359.0, 8973.0, 9034.0, 8478.0, 8479.0, 9928.0, 9395.0, 7758.0, 9453.0, 10046.0, 7612.0, 9014.0, 7026.0, 8045.0, 9002.0, 7190.0, 8148.0, 9830.0, 8589.0, 4930.0, 8624.0, 7613.0, 7227.0, 7481.0, 9543.0, 8926.0, 7719.0, 6845.0, 6585.0, 7162.0, 10284.0, 9889.0, 8656.0, 9211.0, 8218.0, 7132.0, 9452.0, 8392.0, 5347.0, 6881.0, 8972.0, 5764.0, 5816.0, 7633.0, 9392.0, 7524.0, 9126.0, 6584.0, 6858.0, 21403.0, 6973.0, 9894.0, 9507.0, 7191.0, 9716.0, 8215.0, 4966.0, 7287.0, 7027.0, 7258.0, 9454.0, 7243.0, 7445.0, 4960.0, 8536.0, 4942.0, 8412.0, 7077.0, 9834.0, 9365.0, 7216.0, 6390.0, 8598.0, 7795.0, 6336.0, 6212.0, 14773.0, 8147.0, 6179.0, 7800.0, 9840.0, 9040.0, 7826.0, 6307.0, 6386.0, 6221.0, 6626.0, 5844.0, 6404.0, 6775.0, 6306.0, 6389.0, 8925.0, 8395.0, 6558.0, 6664.0, 7946.0, 7773.0, 6607.0, 6146.0, 7767.0, 5906.0, 6177.0, 8605.0, 6493.0, 8014.0, 8978.0, 8454.0, 8012.0, 6250.0, 5883.0, 8152.0, 6553.0, 6633.0, 6249.0, 6364.0, 8187.0, 6625.0, 10408.0, 8505.0, 4964.0, 10311.0, 9008.0, 8890.0, 5342.0, 9486.0, 7730.0, 5878.0, 5677.0, 6720.0, 7005.0, 6114.0, 7674.0, 8951.0, 6115.0, 7976.0, 7298.0, 8099.0, 9274.0, 7049.0, 6359.0, 10097.0, 8540.0, 8954.0, 9181.0, 9598.0, 8604.0, 5410.0, 9657.0, 10313.0, 8185.0, 7802.0, 4936.0, 7306.0, 5755.0, 6273.0, 6196.0, 9841.0, 8413.0, 4957.0, 6722.0, 6855.0, 9073.0, 7068.0, 9992.0, 7997.0, 8270.0, 8983.0, 7067.0, 7001.0, 9864.0, 7109.0, 7641.0, 10227.0, 8486.0, 9091.0, 9900.0, 7975.0, 5848.0, 6360.0, 7245.0, 5315.0, 5825.0, 8183.0, 7551.0, 7638.0, 6527.0, 6808.0, 10371.0, 10256.0, 10426.0, 10248.0, 8921.0, 6546.0, 10317.0, 8430.0, 8621.0, 8573.0, 5728.0, 6565.0, 6436.0, 9573.0, 6692.0, 8399.0, 7092.0, 9455.0, 8560.0, 6080.0, 7048.0, 4985.0, 10047.0, 6405.0, 9278.0, 14709.0, 9157.0, 9537.0, 8070.0, 6753.0, 8510.0, 9513.0, 6369.0, 8885.0, 8629.0, 5802.0, 7106.0, 5790.0, 5841.0, 6593.0, 10071.0, 9427.0, 7668.0, 10271.0, 7478.0, 6145.0, 8544.0, 9370.0, 4956.0, 7056.0, 6555.0, 6432.0, 6248.0, 7720.0, 8600.0, 9184.0, 6912.0, 15360.0, 9901.0, 4993.0, 7947.0, 8459.0, 7193.0, 9568.0, 8543.0, 7072.0, 7761.0, 8301.0, 8527.0, 5407.0, 7288.0, 10461.0, 6525.0, 6403.0, 6686.0, 6222.0, 5703.0, 7038.0, 8942.0, 7319.0, 7050.0, 7294.0, 4954.0, 4935.0, 9546.0, 8046.0, 6440.0, 10072.0, 7244.0, 5780.0, 7253.0, 8592.0, 8927.0, 9364.0, 8928.0, 7276.0, 10339.0, 4981.0, 9214.0, 7081.0, 4990.0, 6998.0, 15361.0, 10275.0, 7854.0, 7272.0, 6749.0, 10045.0, 5853.0, 6173.0, 9599.0, 6556.0, 6400.0, 10282.0, 6634.0, 8191.0, 9656.0, 6467.0, 7286.0, 5811.0, 7912.0, 7794.0, 7226.0, 4872.0, 8982.0, 8482.0, 7348.0, 8095.0, 6051.0, 5884.0, 6197.0, 7099.0, 7862.0, 6433.0, 5815.0, 5670.0, 9836.0, 7889.0, 9868.0, 10080.0, 5341.0, 6860.0, 10100.0, 5411.0, 7497.0, 8918.0, 9331.0, 5369.0, 7382.0, 10069.0, 7385.0, 8151.0, 7303.0, 7447.0, 6557.0, 5793.0, 6777.0, 6416.0, 8601.0, 9457.0, 13967.0, 7543.0, 6190.0, 8922.0, 5759.0, 5812.0, 8269.0, 9692.0, 4943.0, 7951.0, 8923.0, 6140.0, 7663.0, 6750.0, 5795.0, 5384.0, 8131.0, 9723.0, 8072.0, 9536.0, 8393.0, 5930.0, 9387.0, 8246.0, 9460.0, 7136.0, 6660.0, 7070.0, 8526.0, 6437.0, 6831.0, 5887.0, 7379.0, 9721.0, 6807.0, 10305.0, 13880.0, 8471.0, 9420.0, 7801.0, 10258.0, 7318.0, 8013.0, 9926.0, 8155.0, 6468.0, 8239.0, 8122.0, 21321.0, 9927.0, 5412.0, 8047.0, 4910.0, 6368.0, 6148.0, 6563.0, 7768.0, 10425.0, 8031.0, 7225.0, 8511.0, 10601.0, 6109.0, 9689.0, 6586.0, 6972.0, 7994.0, 6854.0, 8986.0, 6859.0, 9446.0, 8860.0, 8073.0, 7021.0, 10668.0, 7821.0, 10110.0, 8827.0, 6169.0, 10041.0, 8443.0, 10421.0, 6857.0, 8565.0, 6113.0, 9096.0, 5913.0, 8688.0, 7582.0, 8504.0, 7285.0, 7335.0, 9310.0, 8234.0, 6309.0, 8539.0, 10216.0, 8044.0, 9835.0, 6247.0, 8473.0, 10427.0, 15595.0, 7194.0, 10224.0, 8859.0, 6661.0, 6598.0, 5367.0, 10194.0, 10108.0, 10081.0, 6357.0, 10310.0, 6561.0, 6530.0, 7895.0, 7046.0, 6108.0, 4928.0, 4992.0, 7637.0, 7511.0, 7224.0, 7882.0, 7517.0, 9071.0, 9890.0, 6629.0, 9358.0, 7520.0, 6052.0, 25163.0, 7305.0, 7692.0, 9962.0, 7316.0, 7247.0, 7040.0, 7984.0, 10314.0, 4902.0, 7022.0, 7756.0, 9952.0, 6690.0, 7218.0, 8179.0, 15712.0, 7351.0, 10189.0, 23689.0, 9931.0, 6529.0, 8537.0, 7390.0, 7918.0, 9874.0, 7069.0, 10190.0, 7853.0, 7008.0, 5838.0, 5904.0, 7482.0, 5733.0, 6057.0, 10244.0, 7002.0, 21580.0, 5666.0, 8828.0, 5735.0, 24829.0, 5439.0, 15355.0, 5437.0, 5798.0, 9489.0, 7342.0, 7829.0, 6470.0, 8778.0, 6839.0, 10459.0, 8680.0, 7330.0, 9807.0, 8709.0, 4933.0, 8394.0, 8241.0, 7974.0, 6279.0, 16841.0, 5638.0, 16844.0, 6271.0, 14945.0, 9596.0, 5760.0, 8267.0, 5699.0, 6688.0, 7888.0, 10183.0, 7378.0, 10049.0, 9567.0, 6974.0, 5908.0, 9414.0, 7079.0, 5885.0, 6552.0, 5379.0, 5800.0, 5854.0, 7249.0, 8143.0, 5765.0, 9041.0, 8985.0, 8132.0, 9719.0, 8630.0, 10423.0, 5429.0, 6968.0, 7217.0, 7827.0, 7495.0, 6780.0, 9456.0, 10397.0, 24806.0, 4934.0, 7480.0, 8207.0, 9479.0, 7696.0, 8416.0, 7192.0, 9842.0, 9694.0, 8977.0, 4931.0, 10458.0, 6439.0, 9572.0, 4988.0, 9013.0, 5610.0, 4907.0, 5839.0, 8513.0, 6414.0, 7108.0, 7413.0, 6084.0, 8174.0, 6976.0, 9389.0, 9277.0, 8208.0, 9715.0, 5827.0, 5903.0, 9725.0, 9336.0, 7030.0, 6092.0, 7035.0, 8396.0, 9861.0, 10051.0, 8387.0, 6300.0, 10340.0, 9159.0, 21408.0, 6588.0, 25106.0, 9982.0, 9865.0, 6656.0, 6214.0, 24745.0, 9101.0, 21404.0, 8475.0, 6496.0, 6581.0, 6308.0, 4989.0, 7883.0, 8081.0, 7579.0, 7825.0, 6662.0, 9743.0, 9428.0, 7966.0, 4950.0, 7805.0, 7748.0, 5782.0, 6832.0, 5637.0, 10607.0, 6413.0, 10422.0, 10050.0, 8041.0, 17750.0, 6871.0, 17751.0, 7819.0, 6304.0, 5403.0, 6085.0, 6397.0, 17752.0, 5830.0, 5763.0, 5443.0, 5434.0, 8858.0, 17577.0, 6138.0, 10042.0, 5834.0, 5799.0, 10048.0, 5318.0, 5869.0, 6719.0, 8028.0, 6534.0, 6869.0, 6564.0, 16669.0, 6111.0, 21558.0, 5640.0, 5649.0, 5784.0, 5829.0, 15594.0, 5731.0, 5870.0, 7922.0, 5386.0, 9100.0, 6837.0, 5910.0, 6218.0, 10403.0, 7252.0, 7791.0, 5353.0, 8722.0, 4899.0, 8501.0, 5319.0, 8957.0, 9131.0, 6213.0, 10609.0, 6882.0, 6596.0, 8457.0, 9279.0, 6461.0, 10191.0, 7411.0, 4925.0, 8950.0, 8467.0, 9354.0, 6331.0, 10067.0, 5340.0, 9776.0, 6908.0, 6078.0, 4896.0, 9872.0, 8888.0, 7803.0, 6150.0, 9179.0, 7502.0, 8654.0, 9275.0, 6090.0, 6243.0, 7916.0, 8533.0, 7134.0, 23690.0, 4577.0, 9923.0, 6520.0, 4944.0, 4869.0, 6475.0, 4900.0, 9474.0, 4901.0, 8055.0, 7667.0, 8587.0, 8206.0, 8176.0, 8617.0, 8808.0, 7792.0, 9779.0, 9897.0, 23516.0, 8863.0, 9132.0, 7450.0, 8358.0, 8742.0, 4874.0, 7693.0, 10198.0, 7515.0, 7340.0, 7884.0, 9570.0, 9068.0, 9329.0, 9092.0, 8153.0, 9187.0, 7098.0, 9775.0, 9503.0, 7542.0, 9244.0, 7470.0, 9549.0, 7634.0, 7496.0, 8603.0, 8854.0, 9268.0, 9919.0, 7522.0, 7578.0, 9485.0, 8307.0, 7605.0, 9627.0, 8864.0, 7971.0, 21348.0, 9481.0, 5696.0, 7274.0, 6049.0, 5644.0, 9693.0, 9356.0, 9483.0, 4983.0, 7023.0, 8658.0, 7759.0, 5316.0, 5730.0, 9571.0, 10220.0, 6687.0, 9127.0, 7387.0, 8958.0, 7603.0, 8657.0, 8945.0, 6215.0, 4926.0, 5905.0, 7606.0, 10215.0, 5944.0, 21347.0, 5849.0, 10223.0, 170.0, 8324.0, 5794.0, 9313.0, 9447.0, 5801.0, 10009.0, 5989.0, 8829.0, 6117.0, 4493.0, 7275.0, 8720.0, 5900.0, 10037.0, 4877.0, 5797.0, 9069.0, 5650.0, 10137.0, 9009.0, 10249.0, 7446.0, 4941.0, 7406.0, 4973.0, 7469.0, 7576.0, 7133.0, 5435.0, 10212.0, 5642.0, 5697.0, 4986.0, 10463.0, 8388.0, 9831.0, 9314.0, 5441.0, 9930.0, 8547.0, 9153.0, 8745.0, 7760.0, 5372.0, 5284.0, 8798.0, 10136.0, 5289.0, 10628.0, 9510.0, 7189.0, 9569.0, 9533.0, 5295.0, 8366.0, 9031.0, 5405.0, 5320.0, 7777.0, 8866.0, 9190.0, 8801.0, 8273.0, 10165.0, 4995.0, 10372.0, 8144.0, 8458.0, 7858.0, 10245.0, 6216.0, 9813.0, 7727.0, 5702.0, 8518.0, 5805.0, 7728.0, 7033.0, 4047.0, 9312.0, 8142.0, 7635.0, 8499.0, 7757.0, 8917.0, 9925.0, 9954.0, 7982.0, 15887.0, 7467.0, 9217.0, 5698.0, 14141.0, 4924.0, 8497.0, 23597.0, 14740.0, 7415.0, 7721.0, 6521.0, 7887.0, 9246.0, 9152.0, 9105.0, 9302.0, 6497.0, 21383.0, 5645.0, 6181.0, 8272.0, 9180.0, 9717.0, 7864.0, 6079.0, 9129.0, 9480.0, 7970.0, 6431.0, 6392.0, 6441.0, 7416.0, 8498.0, 4905.0, 9431.0, 10466.0, 8531.0, 5882.0, 23574.0, 6219.0, 10577.0, 8826.0, 6362.0, 17580.0, 9154.0, 5757.0, 9097.0, 6438.0, 8236.0, 6499.0, 8987.0, 11226.0, 6627.0, 10217.0, 5671.0, 10243.0, 6605.0, 6333.0, 8803.0, 6277.0, 8129.0, 8053.0, 7893.0, 4971.0, 5338.0, 10465.0, 5406.0, 5935.0, 9777.0, 23836.0, 21322.0, 9103.0, 14473.0, 10407.0, 10392.0, 9873.0, 16842.0, 5667.0, 7766.0, 8857.0, 9955.0, 8711.0, 6165.0, 7391.0, 9450.0, 6992.0, 5357.0, 6182.0, 8117.0, 9102.0, 6388.0, 6391.0, 5796.0, 9475.0, 5888.0, 6144.0, 10457.0, 8884.0, 8915.0, 9218.0, 9832.0, 8651.0, 8867.0, 6498.0, 5734.0, 9245.0, 4044.0, 6971.0, 7892.0, 10280.0, 8026.0, 8181.0, 5886.0, 8687.0, 14474.0, 10044.0, 8039.0, 5326.0, 8559.0, 8953.0, 10068.0, 6597.0, 5704.0, 10074.0, 15541.0, 8620.0, 8075.0, 7790.0, 9508.0, 10424.0, 7516.0, 4991.0, 8528.0, 10374.0, 8572.0, 10259.0, 9125.0, 5863.0, 8736.0, 5402.0, 6334.0, 10337.0, 8886.0, 9595.0, 5901.0, 9015.0, 5902.0, 5613.0, 7350.0, 6904.0, 7412.0, 9488.0, 9550.0, 9959.0, 4903.0, 7439.0, 14140.0, 10096.0, 9502.0, 7833.0, 9981.0, 10395.0, 6217.0, 6663.0, 7921.0, 6088.0, 10432.0, 8627.0, 8952.0, 8170.0, 8127.0, 8247.0, 8655.0, 10604.0, 9150.0, 10455.0, 4459.0, 10362.0, 6112.0, 9032.0, 5400.0, 6050.0, 6838.0, 8025.0, 7358.0, 6993.0, 6464.0, 7312.0, 6975.0, 8460.0, 8042.0, 14150.0, 7881.0, 9155.0, 8244.0, 6592.0, 9713.0, 9886.0, 9216.0, 4955.0, 10454.0, 7765.0, 8212.0, 6055.0, 8588.0, 10487.0, 6147.0, 10393.0, 5665.0, 6105.0, 6081.0, 7919.0, 8398.0, 8771.0, 9724.0, 9709.0, 8976.0, 6490.0, 6415.0, 6883.0, 9833.0, 10099.0, 4904.0, 10075.0, 9304.0, 9003.0, 4927.0, 6167.0, 15030.0, 6335.0, 8924.0, 8389.0, 10308.0, 7039.0, 5929.0, 8525.0, 10333.0, 9124.0, 10039.0, 10135.0, 8946.0, 5899.0, 17578.0, 8102.0, 6083.0, 10363.0, 5614.0, 7344.0, 6506.0, 4545.0, 7103.0, 8016.0, 8220.0, 9338.0, 6876.0, 6873.0, 5335.0, 8161.0, 8861.0, 8855.0, 7383.0, 7521.0, 10283.0, 5842.0, 7764.0, 9094.0, 9371.0, 9210.0, 8616.0, 8869.0, 5321.0, 4998.0, 9844.0, 5736.0, 8158.0, 7444.0, 9383.0, 9654.0, 6528.0, 8455.0, 6878.0, 8052.0, 6459.0, 4549.0, 7865.0, 14796.0, 10479.0, 8943.0, 9012.0, 9964.0, 6877.0, 9825.0, 7920.0, 6946.0, 10076.0, 8947.0, 4952.0, 5323.0, 5432.0, 8772.0, 9326.0, 14947.0, 5365.0, 8115.0, 10434.0, 6443.0, 9863.0, 9324.0, 10405.0, 8440.0, 8802.0, 7.0, 6503.0, 7664.0, 7771.0, 8894.0, 5895.0, 7602.0, 6870.0, 6866.0, 7789.0, 6601.0, 8681.0, 10193.0, 10574.0, 5770.0, 5732.0, 8831.0, 9509.0, 6065.0, 6106.0, 6536.0, 9662.0, 10073.0, 9197.0, 6059.0, 8556.0, 9239.0, 9714.0, 5914.0, 6569.0, 9386.0, 3.0, 9871.0, 21554.0, 7985.0, 6093.0, 14143.0, 6549.0, 9276.0, 6276.0, 5727.0, 8577.0, 8135.0, 6604.0, 7995.0, 9916.0, 6178.0, 5682.0, 8514.0, 14772.0, 9355.0, 10062.0, 6502.0, 6689.0, 9430.0, 5807.0, 9449.0, 6029.0, 6395.0, 14970.0, 5993.0, 8171.0, 8213.0, 15180.0, 9565.0, 8959.0, 13887.0, 5724.0, 9308.0, 7941.0, 9828.0, 7755.0, 6861.0, 8686.0, 8211.0, 8770.0, 8114.0, 5440.0, 6979.0, 8529.0, 6567.0, 7793.0, 6594.0, 5678.0, 9065.0, 7250.0, 23570.0, 7380.0, 7980.0, 8955.0, 6834.0, 10602.0, 5707.0, 10164.0, 8991.0, 8684.0, 5679.0, 7968.0, 9687.0, 9061.0, 7483.0, 6120.0, 5762.0, 5833.0, 6171.0, 7043.0, 9093.0, 9004.0, 6526.0, 9062.0, 7100.0, 15392.0, 6435.0, 5359.0, 5804.0, 8386.0, 5909.0, 5328.0, 10480.0, 8896.0, 8804.0, 6833.0, 9072.0, 21397.0, 9120.0, 8456.0, 10285.0, 8162.0, 9978.0, 7337.0, 4516.0, 5355.0, 7107.0, 9333.0, 9478.0, 7442.0, 6997.0, 7248.0, 8524.0, 15214.0, 8998.0, 9951.0, 9805.0, 10043.0, 8500.0, 9690.0, 9604.0, 8415.0, 4548.0, 9949.0, 4876.0, 23598.0, 8545.0, 25426.0, 9185.0, 8209.0, 9862.0, 8271.0, 4817.0, 9625.0, 4947.0, 8653.0, 8134.0, 8891.0, 10486.0, 9016.0, 9994.0, 4996.0, 10460.0, 25280.0, 4908.0, 8769.0, 10377.0, 9297.0, 8405.0, 8011.0, 5708.0, 5643.0, 10338.0, 4979.0, 6938.0, 8971.0, 8402.0, 8199.0, 10456.0, 8659.0, 9691.0, 6909.0, 5668.0, 5937.0, 9070.0, 9243.0, 9936.0, 9965.0, 8887.0, 4994.0, 7403.0, 6139.0, 9306.0, 10452.0, 6913.0, 9963.0, 6193.0, 9133.0, 5911.0, 9066.0, 10131.0, 10218.0, 10600.0, 5990.0, 6172.0, 8084.0, 14770.0, 6058.0, 8647.0, 6060.0, 8214.0, 5806.0, 9607.0, 6275.0, 10389.0, 5864.0, 7462.0, 9875.0, 8177.0, 5023.0, 5711.0, 5399.0, 23864.0, 5358.0, 8164.0, 9768.0, 7981.0, 21560.0, 5615.0, 10011.0, 5940.0, 10394.0, 7280.0, 10319.0, 7943.0, 9810.0, 9660.0, 6939.0, 7465.0, 5635.0, 5722.0, 10315.0, 7662.0, 5694.0, 10332.0, 5866.0, 5856.0, 9458.0, 8780.0, 8085.0, 5438.0, 8517.0, 21578.0, 10361.0, 8685.0, 7666.0, 9357.0, 4045.0, 8824.0, 5388.0, 10419.0, 10373.0, 7856.0, 7420.0, 9189.0, 8710.0, 6867.0, 5738.0, 4489.0, 13855.0, 5725.0, 5968.0, 4972.0, 5691.0, 7514.0, 9249.0, 8354.0, 8438.0, 5445.0, 9696.0, 9001.0, 5313.0, 7047.0, 10402.0, 8897.0, 5401.0, 10420.0, 7041.0, 6507.0, 10451.0, 5621.0, 6143.0, 8930.0, 5361.0, 9046.0, 5865.0, 8738.0, 5325.0, 6548.0, 8520.0, 6964.0, 7485.0, 9956.0, 4051.0, 7011.0, 9744.0, 7105.0, 6575.0, 9801.0, 10141.0, 8133.0, 9186.0, 7309.0, 7389.0, 24807.0, 6460.0, 8618.0, 6995.0, 8961.0, 10430.0, 9401.0, 8912.0, 6274.0, 6192.0, 4073.0, 9505.0, 10036.0, 6840.0, 8704.0, 5939.0, 8178.0, 10138.0, 5934.0, 6417.0, 6429.0, 10225.0, 8397.0, 5549.0, 7549.0, 4870.0, 6519.0, 5781.0, 8914.0, 8750.0, 6516.0, 6524.0, 9943.0, 9305.0, 7453.0, 8390.0, 9299.0, 10515.0, 6118.0, 8250.0, 6874.0, 8575.0, 6053.0, 6566.0, 5831.0, 6579.0, 8743.0, 9953.0, 8633.0, 9346.0, 8632.0, 15862.0, 6394.0, 9123.0, 9772.0, 9415.0, 7394.0, 9747.0, 6523.0, 4546.0, 9209.0, 8795.0, 7486.0, 8678.0, 8079.0, 9827.0, 10260.0, 4911.0, 8832.0, 4523.0, 6463.0, 7388.0, 8776.0, 10599.0, 10304.0, 10603.0, 6533.0, 7223.0, 8660.0, 9473.0, 9934.0, 7917.0, 5387.0, 10636.0, 10835.0, 7747.0, 9652.0, 9402.0, 9099.0, 6539.0, 7661.0, 14794.0, 6632.0, 8512.0, 5588.0, 6628.0, 9680.0, 10241.0, 6884.0, 7996.0, 10516.0, 9029.0, 15393.0, 10286.0, 5442.0, 14943.0, 6398.0, 10608.0, 7574.0, 9487.0, 8186.0, 6953.0, 8302.0, 8495.0, 8516.0, 8188.0, 4048.0, 9770.0, 6887.0, 9183.0, 5225.0, 9707.0, 14979.0, 9315.0, 8797.0, 9561.0, 9208.0, 17754.0, 8351.0, 7045.0, 5310.0, 5254.0, 9661.0, 10367.0, 8938.0, 7944.0, 9011.0, 8929.0, 9563.0, 15034.0, 5258.0, 5654.0, 9651.0, 24809.0, 9988.0, 4518.0, 5612.0, 8677.0, 10570.0, 15219.0, 6900.0, 8296.0, 7965.0, 8799.0, 9247.0, 8015.0, 9212.0, 9979.0, 6430.0, 5752.0, 8748.0, 8956.0, 8100.0, 7609.0, 8274.0, 7878.0, 5768.0, 8519.0, 7284.0, 9887.0, 6658.0, 8805.0, 8548.0, 8431.0, 9601.0, 7723.0, 6449.0, 15573.0, 21564.0, 9996.0, 8356.0, 7314.0, 5999.0, 7804.0, 7547.0, 6522.0, 5837.0, 7993.0, 8432.0, 13617.0, 11193.0, 7254.0, 9811.0, 7915.0, 9413.0, 8101.0, 6134.0, 5858.0, 6094.0, 6366.0, 6603.0, 8172.0, 8364.0, 9272.0, 10343.0, 15365.0, 5915.0, 9574.0, 25376.0, 4866.0, 9960.0, 9594.0, 10334.0, 10307.0, 8775.0, 7519.0, 5674.0, 6426.0, 9160.0, 9156.0, 24305.0, 9922.0, 9327.0, 7639.0, 109.0, 10575.0, 8749.0, 10008.0, 9042.0, 4953.0, 9534.0, 7346.0, 5646.0, 5729.0, 10015.0, 4071.0, 10666.0, 4970.0, 10639.0, 7451.0, 7725.0, 10610.0, 8487.0, 5997.0, 6462.0, 7410.0, 5723.0, 8024.0, 6935.0, 5672.0, 10368.0, 7945.0, 9771.0, 8893.0, 4462.0, 8635.0, 10139.0, 9974.0, 8017.0, 4070.0, 5343.0, 7855.0, 8865.0, 6880.0, 15915.0, 8125.0, 10038.0, 9399.0, 6107.0, 9270.0, 13970.0, 6064.0, 9106.0, 10109.0, 13500.0, 8607.0, 8175.0, 4053.0, 6056.0, 11195.0, 6966.0, 5675.0, 6505.0, 6017.0, 5676.0, 9975.0, 5228.0, 11200.0, 23806.0, 13788.0, 9697.0, 8299.0, 5385.0, 10513.0, 7075.0, 5737.0, 4522.0, 5616.0, 9821.0, 8811.0, 8910.0, 7824.0, 9128.0, 6970.0, 5414.0, 8054.0, 5252.0, 23988.0, 9839.0, 7665.0, 5464.0, 10010.0, 5291.0, 9224.0, 10318.0, 9755.0, 5416.0, 10390.0, 7360.0, 8554.0, 8022.0, 5317.0, 9802.0, 5701.0, 21390.0, 4912.0, 14799.0, 5433.0, 7414.0, 5330.0, 9628.0, 7349.0, 7604.0, 8400.0, 7343.0, 7283.0, 10184.0, 10569.0, 17579.0, 10401.0, 8074.0, 8380.0, 7104.0, 9353.0, 5769.0, 5457.0, 8232.0, 7438.0, 10993.0, 8615.0, 9603.0, 7487.0, 5233.0, 5250.0, 10517.0, 5336.0, 8800.0, 107.0, 8189.0, 6945.0, 7407.0, 6427.0, 7042.0, 7726.0, 6102.0, 4488.0, 7988.0, 9005.0, 5312.0, 13524.0, 9809.0, 8692.0, 8184.0, 5754.0, 9605.0, 7986.0, 6025.0, 5617.0, 6937.0, 9163.0, 6061.0, 5398.0, 9653.0, 14710.0, 9149.0, 9845.0, 8610.0, 9746.0, 5223.0, 8949.0, 7434.0, 10091.0, 7775.0, 8082.0, 7778.0, 9441.0, 8205.0, 5928.0, 6110.0, 8384.0, 10092.0, 8715.0, 9808.0, 10662.0, 5747.0, 9451.0, 6657.0, 10450.0, 6864.0, 6220.0, 6967.0, 21379.0, 9854.0, 8266.0, 7896.0, 8275.0, 9745.0, 9803.0, 8842.0, 9774.0, 8383.0, 6442.0, 88.0, 9294.0, 8485.0, 10578.0, 7418.0, 5324.0, 4018.0, 15187.0, 9921.0, 4579.0, 9151.0, 6101.0, 10316.0, 5809.0, 7466.0, 6399.0, 21317.0, 5767.0, 7954.0, 9504.0, 21579.0, 5889.0, 5286.0, 14707.0, 8739.0, 9178.0, 10303.0, 8159.0, 14562.0, 9499.0, 3133.0, 8683.0, 14649.0, 13881.0, 6054.0, 8578.0, 7754.0, 8130.0, 6030.0, 6872.0, 9248.0, 5890.0, 7822.0, 6137.0, 6889.0, 25544.0, 4578.0, 5498.0, 10478.0, 9685.0, 5992.0, 10370.0, 8113.0, 7376.0, 5860.0, 5961.0, 6062.0, 10094.0, 5314.0, 9929.0, 9161.0, 4049.0, 10016.0, 119.0, 9472.0, 8468.0, 10630.0, 9711.0, 6875.0, 10404.0, 8489.0, 4984.0, 14739.0, 7695.0, 15182.0, 9429.0, 8768.0, 5608.0, 7575.0, 6305.0, 4102.0, 7219.0, 9773.0, 4490.0, 5859.0, 9924.0, 6599.0, 7909.0, 6494.0, 3595.0, 10192.0, 8960.0, 9437.0, 6980.0, 6164.0, 5396.0, 9597.0, 4517.0, 8716.0, 7964.0, 5462.0, 9551.0, 8823.0, 9018.0, 25546.0, 10130.0, 5170.0, 9682.0, 9917.0, 7009.0, 5172.0, 10032.0, 8203.0, 9749.0, 15443.0, 9104.0, 10059.0, 7983.0, 8461.0, 5936.0, 7396.0, 9444.0, 6903.0, 6001.0, 9300.0, 10778.0, 6919.0, 10214.0, 3606.0, 8435.0, 8265.0, 6185.0, 9804.0, 6152.0, 21303.0, 8841.0, 4818.0, 10095.0, 7851.0, 7020.0, 5415.0, 8989.0, 6982.0, 6104.0, 7697.0, 16667.0, 9017.0, 10605.0, 7942.0, 8182.0, 7952.0, 8717.0, 5018.0, 4572.0, 6491.0, 5474.0, 9240.0, 5196.0, 6885.0, 6906.0, 6469.0, 10066.0, 8737.0, 8490.0, 15358.0, 15356.0, 7969.0, 6445.0, 6407.0, 5808.0, 8767.0, 7435.0, 8911.0, 9337.0, 5175.0, 10226.0, 9938.0, 5109.0, 9997.0, 9164.0, 4495.0, 8328.0, 5293.0, 5285.0, 7940.0, 8586.0, 6132.0, 6538.0, 7018.0, 8652.0, 7836.0, 23834.0, 6000.0, 9957.0, 8970.0, 8304.0, 8546.0, 9282.0, 9273.0, 4554.0, 8210.0, 5360.0, 5283.0, 5942.0, 6183.0, 11196.0, 4945.0, 5647.0, 9307.0, 5428.0, 10230.0, 9655.0, 8889.0, 7364.0, 6471.0, 5803.0, 5753.0, 6075.0, 8385.0, 8327.0, 8836.0, 4873.0, 5589.0, 10199.0, 6994.0, 8276.0, 7384.0, 6135.0, 9626.0, 9293.0, 5586.0, 6036.0, 7484.0, 11228.0, 8264.0, 8721.0, 5296.0, 14566.0, 11319.0, 6476.0, 6456.0, 6487.0, 9030.0, 4898.0, 10268.0, 5862.0, 7886.0, 6571.0, 10.0])\n"
     ]
    }
   ],
   "source": [
    "# Top 10 most occuring values of feature 'data_arc'\n",
    "most_data_arc = dict(dataset['data_arc'].value_counts()[:10])\n",
    "print(\"Top 10 most occuring values of feature 'data_arc' : \", most_data_arc.keys())"
   ]
  },
  {
   "cell_type": "code",
   "execution_count": 45,
   "id": "3e84ce5d",
   "metadata": {},
   "outputs": [],
   "source": [
    "mean = sum(list(most_data_arc.keys())) // 10\n",
    "dataset['data_arc'].fillna(mean, inplace=True)"
   ]
  },
  {
   "cell_type": "code",
   "execution_count": 46,
   "id": "6dde90c4",
   "metadata": {},
   "outputs": [
    {
     "name": "stdout",
     "output_type": "stream",
     "text": [
      "Top 10 most occuring values of feature 'data_arc' :  [15.2, 15.4, 15.5, 15.3, 15.1, 15.7, 15.6, 14.9, 15.0, 15.9]\n"
     ]
    }
   ],
   "source": [
    "# Top 10 most occuring values of feature 'data_arc'\n",
    "H_list = list(dict(dataset['H'].value_counts().sort_values(ascending=False)).keys())\n",
    "print(\"Top 10 most occuring values of feature 'data_arc' : \", H_list[:10])"
   ]
  },
  {
   "cell_type": "code",
   "execution_count": 47,
   "id": "9b1f4181",
   "metadata": {},
   "outputs": [],
   "source": [
    "mean_H = sum(H_list[:10])//10\n",
    "dataset['H'].fillna(mean_H, inplace=True)"
   ]
  },
  {
   "cell_type": "code",
   "execution_count": 48,
   "id": "d036d7b4",
   "metadata": {},
   "outputs": [
    {
     "data": {
      "text/plain": [
       "a                 0\n",
       "e                 0\n",
       "i                 0\n",
       "om                0\n",
       "w                 0\n",
       "q                 0\n",
       "ad                0\n",
       "per_y             0\n",
       "data_arc          0\n",
       "condition_code    0\n",
       "n_obs_used        0\n",
       "H                 0\n",
       "neo               0\n",
       "pha               0\n",
       "diameter          0\n",
       "albedo            0\n",
       "moid              0\n",
       "class             0\n",
       "n                 0\n",
       "per               0\n",
       "ma                0\n",
       "dtype: int64"
      ]
     },
     "execution_count": 48,
     "metadata": {},
     "output_type": "execute_result"
    }
   ],
   "source": [
    "dataset.isnull().sum()"
   ]
  },
  {
   "cell_type": "markdown",
   "id": "fb65c264",
   "metadata": {},
   "source": [
    "As 'diameter' is target variable its missing values needs to be dropped"
   ]
  },
  {
   "cell_type": "code",
   "execution_count": 49,
   "id": "474b4315",
   "metadata": {},
   "outputs": [
    {
     "name": "stdout",
     "output_type": "stream",
     "text": [
      "Number of Non-Null values in diameter :->  136406\n",
      "Number of Null values in diameter :->  0\n",
      "Percentage of missing values in target variable :  0 %\n"
     ]
    }
   ],
   "source": [
    "# Print's count of all Non-Null values in target variable and percentage of missing values of target variables\n",
    "print('Number of Non-Null values in diameter :-> ', len(dataset['diameter'][dataset['diameter'].isnull() == False]))\n",
    "print('Number of Null values in diameter :-> ', len(dataset['diameter'][dataset['diameter'].isnull() == True]))\n",
    "print(\"Percentage of missing values in target variable : \", round(len(dataset['diameter'][dataset['diameter'].isnull() == True])*100/max_len), \"%\")"
   ]
  },
  {
   "cell_type": "markdown",
   "id": "27bb3b56",
   "metadata": {},
   "source": [
    "### Drop labels with mising values\n",
    "\n",
    "To exclude columns or rows that contain missing values, we can make use pandas dropna() function."
   ]
  },
  {
   "cell_type": "code",
   "execution_count": 50,
   "id": "3be0e718",
   "metadata": {},
   "outputs": [
    {
     "data": {
      "text/html": [
       "<div>\n",
       "<style scoped>\n",
       "    .dataframe tbody tr th:only-of-type {\n",
       "        vertical-align: middle;\n",
       "    }\n",
       "\n",
       "    .dataframe tbody tr th {\n",
       "        vertical-align: top;\n",
       "    }\n",
       "\n",
       "    .dataframe thead th {\n",
       "        text-align: right;\n",
       "    }\n",
       "</style>\n",
       "<table border=\"1\" class=\"dataframe\">\n",
       "  <thead>\n",
       "    <tr style=\"text-align: right;\">\n",
       "      <th></th>\n",
       "      <th>a</th>\n",
       "      <th>e</th>\n",
       "      <th>i</th>\n",
       "      <th>om</th>\n",
       "      <th>w</th>\n",
       "      <th>q</th>\n",
       "      <th>ad</th>\n",
       "      <th>per_y</th>\n",
       "      <th>data_arc</th>\n",
       "      <th>condition_code</th>\n",
       "      <th>n_obs_used</th>\n",
       "      <th>H</th>\n",
       "      <th>neo</th>\n",
       "      <th>pha</th>\n",
       "      <th>diameter</th>\n",
       "      <th>albedo</th>\n",
       "      <th>moid</th>\n",
       "      <th>class</th>\n",
       "      <th>n</th>\n",
       "      <th>per</th>\n",
       "      <th>ma</th>\n",
       "    </tr>\n",
       "  </thead>\n",
       "  <tbody>\n",
       "    <tr>\n",
       "      <th>0</th>\n",
       "      <td>2.769165</td>\n",
       "      <td>0.076009</td>\n",
       "      <td>10.594067</td>\n",
       "      <td>80.305532</td>\n",
       "      <td>73.597694</td>\n",
       "      <td>2.558684</td>\n",
       "      <td>2.979647</td>\n",
       "      <td>4.608202</td>\n",
       "      <td>8822.0</td>\n",
       "      <td>0</td>\n",
       "      <td>1002</td>\n",
       "      <td>3.34</td>\n",
       "      <td>N</td>\n",
       "      <td>N</td>\n",
       "      <td>939.4</td>\n",
       "      <td>0.0900</td>\n",
       "      <td>1.59478</td>\n",
       "      <td>MBA</td>\n",
       "      <td>0.213885</td>\n",
       "      <td>1683.145708</td>\n",
       "      <td>77.372096</td>\n",
       "    </tr>\n",
       "    <tr>\n",
       "      <th>1</th>\n",
       "      <td>2.772466</td>\n",
       "      <td>0.230337</td>\n",
       "      <td>34.836234</td>\n",
       "      <td>173.080063</td>\n",
       "      <td>310.048857</td>\n",
       "      <td>2.133865</td>\n",
       "      <td>3.411067</td>\n",
       "      <td>4.616444</td>\n",
       "      <td>72318.0</td>\n",
       "      <td>0</td>\n",
       "      <td>8490</td>\n",
       "      <td>4.13</td>\n",
       "      <td>N</td>\n",
       "      <td>N</td>\n",
       "      <td>545</td>\n",
       "      <td>0.1010</td>\n",
       "      <td>1.23324</td>\n",
       "      <td>MBA</td>\n",
       "      <td>0.213503</td>\n",
       "      <td>1686.155999</td>\n",
       "      <td>59.699133</td>\n",
       "    </tr>\n",
       "    <tr>\n",
       "      <th>2</th>\n",
       "      <td>2.669150</td>\n",
       "      <td>0.256942</td>\n",
       "      <td>12.988919</td>\n",
       "      <td>169.852760</td>\n",
       "      <td>248.138626</td>\n",
       "      <td>1.983332</td>\n",
       "      <td>3.354967</td>\n",
       "      <td>4.360814</td>\n",
       "      <td>72684.0</td>\n",
       "      <td>0</td>\n",
       "      <td>7104</td>\n",
       "      <td>5.33</td>\n",
       "      <td>N</td>\n",
       "      <td>N</td>\n",
       "      <td>246.596</td>\n",
       "      <td>0.2140</td>\n",
       "      <td>1.03454</td>\n",
       "      <td>MBA</td>\n",
       "      <td>0.226019</td>\n",
       "      <td>1592.787285</td>\n",
       "      <td>34.925016</td>\n",
       "    </tr>\n",
       "    <tr>\n",
       "      <th>3</th>\n",
       "      <td>2.361418</td>\n",
       "      <td>0.088721</td>\n",
       "      <td>7.141771</td>\n",
       "      <td>103.810804</td>\n",
       "      <td>150.728541</td>\n",
       "      <td>2.151909</td>\n",
       "      <td>2.570926</td>\n",
       "      <td>3.628837</td>\n",
       "      <td>24288.0</td>\n",
       "      <td>0</td>\n",
       "      <td>9325</td>\n",
       "      <td>3.20</td>\n",
       "      <td>N</td>\n",
       "      <td>N</td>\n",
       "      <td>525.4</td>\n",
       "      <td>0.4228</td>\n",
       "      <td>1.13948</td>\n",
       "      <td>MBA</td>\n",
       "      <td>0.271609</td>\n",
       "      <td>1325.432765</td>\n",
       "      <td>95.861936</td>\n",
       "    </tr>\n",
       "    <tr>\n",
       "      <th>4</th>\n",
       "      <td>2.574249</td>\n",
       "      <td>0.191095</td>\n",
       "      <td>5.366988</td>\n",
       "      <td>141.576605</td>\n",
       "      <td>358.687607</td>\n",
       "      <td>2.082324</td>\n",
       "      <td>3.066174</td>\n",
       "      <td>4.130323</td>\n",
       "      <td>63507.0</td>\n",
       "      <td>0</td>\n",
       "      <td>2916</td>\n",
       "      <td>6.85</td>\n",
       "      <td>N</td>\n",
       "      <td>N</td>\n",
       "      <td>106.699</td>\n",
       "      <td>0.2740</td>\n",
       "      <td>1.09589</td>\n",
       "      <td>MBA</td>\n",
       "      <td>0.238632</td>\n",
       "      <td>1508.600458</td>\n",
       "      <td>282.366289</td>\n",
       "    </tr>\n",
       "  </tbody>\n",
       "</table>\n",
       "</div>"
      ],
      "text/plain": [
       "          a         e          i          om           w         q        ad  \\\n",
       "0  2.769165  0.076009  10.594067   80.305532   73.597694  2.558684  2.979647   \n",
       "1  2.772466  0.230337  34.836234  173.080063  310.048857  2.133865  3.411067   \n",
       "2  2.669150  0.256942  12.988919  169.852760  248.138626  1.983332  3.354967   \n",
       "3  2.361418  0.088721   7.141771  103.810804  150.728541  2.151909  2.570926   \n",
       "4  2.574249  0.191095   5.366988  141.576605  358.687607  2.082324  3.066174   \n",
       "\n",
       "      per_y  data_arc condition_code  n_obs_used     H neo pha diameter  \\\n",
       "0  4.608202    8822.0              0        1002  3.34   N   N    939.4   \n",
       "1  4.616444   72318.0              0        8490  4.13   N   N      545   \n",
       "2  4.360814   72684.0              0        7104  5.33   N   N  246.596   \n",
       "3  3.628837   24288.0              0        9325  3.20   N   N    525.4   \n",
       "4  4.130323   63507.0              0        2916  6.85   N   N  106.699   \n",
       "\n",
       "   albedo     moid class         n          per          ma  \n",
       "0  0.0900  1.59478   MBA  0.213885  1683.145708   77.372096  \n",
       "1  0.1010  1.23324   MBA  0.213503  1686.155999   59.699133  \n",
       "2  0.2140  1.03454   MBA  0.226019  1592.787285   34.925016  \n",
       "3  0.4228  1.13948   MBA  0.271609  1325.432765   95.861936  \n",
       "4  0.2740  1.09589   MBA  0.238632  1508.600458  282.366289  "
      ]
     },
     "execution_count": 50,
     "metadata": {},
     "output_type": "execute_result"
    }
   ],
   "source": [
    "# dropna() function is used to remove rows and columns with Null/NaN values\n",
    "clean_dataset = dataset.dropna()\n",
    "clean_dataset.head()"
   ]
  },
  {
   "cell_type": "code",
   "execution_count": 51,
   "id": "af5ee1d8",
   "metadata": {},
   "outputs": [
    {
     "data": {
      "text/plain": [
       "(136406, 21)"
      ]
     },
     "execution_count": 51,
     "metadata": {},
     "output_type": "execute_result"
    }
   ],
   "source": [
    "clean_dataset.shape"
   ]
  },
  {
   "cell_type": "code",
   "execution_count": 52,
   "id": "69b306c2",
   "metadata": {},
   "outputs": [],
   "source": [
    "# Converting 'diameter' to continuous datatype\n",
    "clean_dataset['Diameter'] = clean_dataset['diameter'].apply(lambda x: float(x))"
   ]
  },
  {
   "cell_type": "code",
   "execution_count": 53,
   "id": "e0a85b07",
   "metadata": {},
   "outputs": [],
   "source": [
    "# axis = 1 --> columns\n",
    "clean_dataset.drop('diameter', axis=1, inplace=True) #drops 'diameter' column from clean_dataset"
   ]
  },
  {
   "cell_type": "code",
   "execution_count": 54,
   "id": "6d148486",
   "metadata": {},
   "outputs": [
    {
     "data": {
      "text/html": [
       "<div>\n",
       "<style scoped>\n",
       "    .dataframe tbody tr th:only-of-type {\n",
       "        vertical-align: middle;\n",
       "    }\n",
       "\n",
       "    .dataframe tbody tr th {\n",
       "        vertical-align: top;\n",
       "    }\n",
       "\n",
       "    .dataframe thead th {\n",
       "        text-align: right;\n",
       "    }\n",
       "</style>\n",
       "<table border=\"1\" class=\"dataframe\">\n",
       "  <thead>\n",
       "    <tr style=\"text-align: right;\">\n",
       "      <th></th>\n",
       "      <th>a</th>\n",
       "      <th>e</th>\n",
       "      <th>i</th>\n",
       "      <th>om</th>\n",
       "      <th>w</th>\n",
       "      <th>q</th>\n",
       "      <th>ad</th>\n",
       "      <th>per_y</th>\n",
       "      <th>H</th>\n",
       "      <th>diameter</th>\n",
       "      <th>albedo</th>\n",
       "      <th>moid</th>\n",
       "      <th>n</th>\n",
       "      <th>per</th>\n",
       "      <th>ma</th>\n",
       "    </tr>\n",
       "  </thead>\n",
       "  <tbody>\n",
       "    <tr>\n",
       "      <th>0</th>\n",
       "      <td>2.769165</td>\n",
       "      <td>0.076009</td>\n",
       "      <td>10.594067</td>\n",
       "      <td>80.305532</td>\n",
       "      <td>73.597694</td>\n",
       "      <td>2.558684</td>\n",
       "      <td>2.979647</td>\n",
       "      <td>4.608202</td>\n",
       "      <td>3.34</td>\n",
       "      <td>939.4</td>\n",
       "      <td>0.0900</td>\n",
       "      <td>1.594780</td>\n",
       "      <td>0.213885</td>\n",
       "      <td>1683.145708</td>\n",
       "      <td>77.372096</td>\n",
       "    </tr>\n",
       "    <tr>\n",
       "      <th>1</th>\n",
       "      <td>2.772466</td>\n",
       "      <td>0.230337</td>\n",
       "      <td>34.836234</td>\n",
       "      <td>173.080063</td>\n",
       "      <td>310.048857</td>\n",
       "      <td>2.133865</td>\n",
       "      <td>3.411067</td>\n",
       "      <td>4.616444</td>\n",
       "      <td>4.13</td>\n",
       "      <td>545</td>\n",
       "      <td>0.1010</td>\n",
       "      <td>1.233240</td>\n",
       "      <td>0.213503</td>\n",
       "      <td>1686.155999</td>\n",
       "      <td>59.699133</td>\n",
       "    </tr>\n",
       "    <tr>\n",
       "      <th>2</th>\n",
       "      <td>2.669150</td>\n",
       "      <td>0.256942</td>\n",
       "      <td>12.988919</td>\n",
       "      <td>169.852760</td>\n",
       "      <td>248.138626</td>\n",
       "      <td>1.983332</td>\n",
       "      <td>3.354967</td>\n",
       "      <td>4.360814</td>\n",
       "      <td>5.33</td>\n",
       "      <td>246.596</td>\n",
       "      <td>0.2140</td>\n",
       "      <td>1.034540</td>\n",
       "      <td>0.226019</td>\n",
       "      <td>1592.787285</td>\n",
       "      <td>34.925016</td>\n",
       "    </tr>\n",
       "    <tr>\n",
       "      <th>3</th>\n",
       "      <td>2.361418</td>\n",
       "      <td>0.088721</td>\n",
       "      <td>7.141771</td>\n",
       "      <td>103.810804</td>\n",
       "      <td>150.728541</td>\n",
       "      <td>2.151909</td>\n",
       "      <td>2.570926</td>\n",
       "      <td>3.628837</td>\n",
       "      <td>3.20</td>\n",
       "      <td>525.4</td>\n",
       "      <td>0.4228</td>\n",
       "      <td>1.139480</td>\n",
       "      <td>0.271609</td>\n",
       "      <td>1325.432765</td>\n",
       "      <td>95.861936</td>\n",
       "    </tr>\n",
       "    <tr>\n",
       "      <th>4</th>\n",
       "      <td>2.574249</td>\n",
       "      <td>0.191095</td>\n",
       "      <td>5.366988</td>\n",
       "      <td>141.576605</td>\n",
       "      <td>358.687607</td>\n",
       "      <td>2.082324</td>\n",
       "      <td>3.066174</td>\n",
       "      <td>4.130323</td>\n",
       "      <td>6.85</td>\n",
       "      <td>106.699</td>\n",
       "      <td>0.2740</td>\n",
       "      <td>1.095890</td>\n",
       "      <td>0.238632</td>\n",
       "      <td>1508.600458</td>\n",
       "      <td>282.366289</td>\n",
       "    </tr>\n",
       "    <tr>\n",
       "      <th>...</th>\n",
       "      <td>...</td>\n",
       "      <td>...</td>\n",
       "      <td>...</td>\n",
       "      <td>...</td>\n",
       "      <td>...</td>\n",
       "      <td>...</td>\n",
       "      <td>...</td>\n",
       "      <td>...</td>\n",
       "      <td>...</td>\n",
       "      <td>...</td>\n",
       "      <td>...</td>\n",
       "      <td>...</td>\n",
       "      <td>...</td>\n",
       "      <td>...</td>\n",
       "      <td>...</td>\n",
       "    </tr>\n",
       "    <tr>\n",
       "      <th>797835</th>\n",
       "      <td>3.155975</td>\n",
       "      <td>0.430349</td>\n",
       "      <td>28.718353</td>\n",
       "      <td>115.532995</td>\n",
       "      <td>136.849398</td>\n",
       "      <td>1.797805</td>\n",
       "      <td>4.514145</td>\n",
       "      <td>5.606716</td>\n",
       "      <td>18.20</td>\n",
       "      <td>1.077</td>\n",
       "      <td>0.1160</td>\n",
       "      <td>0.854315</td>\n",
       "      <td>0.175794</td>\n",
       "      <td>2047.852953</td>\n",
       "      <td>195.737632</td>\n",
       "    </tr>\n",
       "    <tr>\n",
       "      <th>797860</th>\n",
       "      <td>3.171225</td>\n",
       "      <td>0.159119</td>\n",
       "      <td>27.098625</td>\n",
       "      <td>309.036573</td>\n",
       "      <td>19.746812</td>\n",
       "      <td>2.666623</td>\n",
       "      <td>3.675826</td>\n",
       "      <td>5.647402</td>\n",
       "      <td>16.20</td>\n",
       "      <td>3.793</td>\n",
       "      <td>0.0210</td>\n",
       "      <td>1.663010</td>\n",
       "      <td>0.174527</td>\n",
       "      <td>2062.713583</td>\n",
       "      <td>164.999439</td>\n",
       "    </tr>\n",
       "    <tr>\n",
       "      <th>798077</th>\n",
       "      <td>2.548410</td>\n",
       "      <td>0.076071</td>\n",
       "      <td>11.593237</td>\n",
       "      <td>246.298656</td>\n",
       "      <td>170.090810</td>\n",
       "      <td>2.354549</td>\n",
       "      <td>2.742270</td>\n",
       "      <td>4.068291</td>\n",
       "      <td>17.30</td>\n",
       "      <td>2.696</td>\n",
       "      <td>0.0610</td>\n",
       "      <td>1.367330</td>\n",
       "      <td>0.242270</td>\n",
       "      <td>1485.943371</td>\n",
       "      <td>145.319581</td>\n",
       "    </tr>\n",
       "    <tr>\n",
       "      <th>799752</th>\n",
       "      <td>3.051336</td>\n",
       "      <td>0.287449</td>\n",
       "      <td>14.456779</td>\n",
       "      <td>343.917822</td>\n",
       "      <td>342.614839</td>\n",
       "      <td>2.174231</td>\n",
       "      <td>3.928440</td>\n",
       "      <td>5.330196</td>\n",
       "      <td>17.20</td>\n",
       "      <td>3.271</td>\n",
       "      <td>0.0720</td>\n",
       "      <td>1.166840</td>\n",
       "      <td>0.184914</td>\n",
       "      <td>1946.853973</td>\n",
       "      <td>175.708508</td>\n",
       "    </tr>\n",
       "    <tr>\n",
       "      <th>810375</th>\n",
       "      <td>2.417477</td>\n",
       "      <td>0.109001</td>\n",
       "      <td>4.525668</td>\n",
       "      <td>148.244819</td>\n",
       "      <td>31.949854</td>\n",
       "      <td>2.153970</td>\n",
       "      <td>2.680984</td>\n",
       "      <td>3.758822</td>\n",
       "      <td>18.40</td>\n",
       "      <td>1.600</td>\n",
       "      <td>0.0230</td>\n",
       "      <td>1.159420</td>\n",
       "      <td>0.262217</td>\n",
       "      <td>1372.909600</td>\n",
       "      <td>170.888415</td>\n",
       "    </tr>\n",
       "  </tbody>\n",
       "</table>\n",
       "<p>136406 rows × 15 columns</p>\n",
       "</div>"
      ],
      "text/plain": [
       "               a         e          i          om           w         q  \\\n",
       "0       2.769165  0.076009  10.594067   80.305532   73.597694  2.558684   \n",
       "1       2.772466  0.230337  34.836234  173.080063  310.048857  2.133865   \n",
       "2       2.669150  0.256942  12.988919  169.852760  248.138626  1.983332   \n",
       "3       2.361418  0.088721   7.141771  103.810804  150.728541  2.151909   \n",
       "4       2.574249  0.191095   5.366988  141.576605  358.687607  2.082324   \n",
       "...          ...       ...        ...         ...         ...       ...   \n",
       "797835  3.155975  0.430349  28.718353  115.532995  136.849398  1.797805   \n",
       "797860  3.171225  0.159119  27.098625  309.036573   19.746812  2.666623   \n",
       "798077  2.548410  0.076071  11.593237  246.298656  170.090810  2.354549   \n",
       "799752  3.051336  0.287449  14.456779  343.917822  342.614839  2.174231   \n",
       "810375  2.417477  0.109001   4.525668  148.244819   31.949854  2.153970   \n",
       "\n",
       "              ad     per_y      H diameter  albedo      moid         n  \\\n",
       "0       2.979647  4.608202   3.34    939.4  0.0900  1.594780  0.213885   \n",
       "1       3.411067  4.616444   4.13      545  0.1010  1.233240  0.213503   \n",
       "2       3.354967  4.360814   5.33  246.596  0.2140  1.034540  0.226019   \n",
       "3       2.570926  3.628837   3.20    525.4  0.4228  1.139480  0.271609   \n",
       "4       3.066174  4.130323   6.85  106.699  0.2740  1.095890  0.238632   \n",
       "...          ...       ...    ...      ...     ...       ...       ...   \n",
       "797835  4.514145  5.606716  18.20    1.077  0.1160  0.854315  0.175794   \n",
       "797860  3.675826  5.647402  16.20    3.793  0.0210  1.663010  0.174527   \n",
       "798077  2.742270  4.068291  17.30    2.696  0.0610  1.367330  0.242270   \n",
       "799752  3.928440  5.330196  17.20    3.271  0.0720  1.166840  0.184914   \n",
       "810375  2.680984  3.758822  18.40    1.600  0.0230  1.159420  0.262217   \n",
       "\n",
       "                per          ma  \n",
       "0       1683.145708   77.372096  \n",
       "1       1686.155999   59.699133  \n",
       "2       1592.787285   34.925016  \n",
       "3       1325.432765   95.861936  \n",
       "4       1508.600458  282.366289  \n",
       "...             ...         ...  \n",
       "797835  2047.852953  195.737632  \n",
       "797860  2062.713583  164.999439  \n",
       "798077  1485.943371  145.319581  \n",
       "799752  1946.853973  175.708508  \n",
       "810375  1372.909600  170.888415  \n",
       "\n",
       "[136406 rows x 15 columns]"
      ]
     },
     "execution_count": 54,
     "metadata": {},
     "output_type": "execute_result"
    }
   ],
   "source": [
    "dataset.drop(['condition_code', 'neo', 'pha','n_obs_used', 'data_arc', 'class'], axis = 1)"
   ]
  },
  {
   "cell_type": "code",
   "execution_count": 55,
   "id": "dd5a451c",
   "metadata": {},
   "outputs": [
    {
     "data": {
      "text/plain": [
       "Index(['a', 'e', 'i', 'om', 'w', 'q', 'ad', 'per_y', 'data_arc',\n",
       "       'condition_code', 'n_obs_used', 'H', 'neo', 'pha', 'albedo', 'moid',\n",
       "       'class', 'n', 'per', 'ma', 'Diameter'],\n",
       "      dtype='object')"
      ]
     },
     "execution_count": 55,
     "metadata": {},
     "output_type": "execute_result"
    }
   ],
   "source": [
    "# clean_dataset columns\n",
    "clean_dataset.columns"
   ]
  },
  {
   "cell_type": "markdown",
   "id": "62c7fbee",
   "metadata": {},
   "source": [
    "## Outlier Detection"
   ]
  },
  {
   "cell_type": "markdown",
   "id": "92ea6a4d",
   "metadata": {},
   "source": [
    "Outliers are extreme values that deviate from other observations on data."
   ]
  },
  {
   "cell_type": "markdown",
   "id": "a3cd1cc3",
   "metadata": {},
   "source": [
    "### detecting Outlier using Box Plot"
   ]
  },
  {
   "cell_type": "markdown",
   "id": "792a2d33",
   "metadata": {},
   "source": [
    "Box plot is a method for graphically demonstrating the locality, spread and skewness groups of numerical data through their quartiles."
   ]
  },
  {
   "cell_type": "code",
   "execution_count": 56,
   "id": "536f2f28",
   "metadata": {},
   "outputs": [
    {
     "data": {
      "image/png": "[encoded data removed]",
      "text/plain": [
       "<Figure size 1080x576 with 1 Axes>"
      ]
     },
     "metadata": {
      "needs_background": "light"
     },
     "output_type": "display_data"
    }
   ],
   "source": [
    "# plotting Box-plot to detect outliers\n",
    "plt.figure(figsize=(15, 8)) # customize the data\n",
    "clean_dataset.boxplot()\n",
    "plt.show()"
   ]
  },
  {
   "cell_type": "markdown",
   "id": "ca0a4e62",
   "metadata": {},
   "source": [
    "The feature 'per' contains very large outliers"
   ]
  },
  {
   "cell_type": "markdown",
   "id": "055260ce",
   "metadata": {},
   "source": [
    "### Detecting Outlier using Z-Score  "
   ]
  },
  {
   "cell_type": "markdown",
   "id": "79b82f73",
   "metadata": {},
   "source": [
    "Z score is also called standard score.\n",
    "\n",
    "This score helps to understand if a data value is greater or smaller than mean and how far away it is from the mean. More specially, Z score tells how many standard deviations away a data point is from the mean.\n",
    "\n",
    "Z score = (x - mean) / std.deviation"
   ]
  },
  {
   "cell_type": "code",
   "execution_count": 57,
   "id": "cd7d4e7a",
   "metadata": {},
   "outputs": [],
   "source": [
    "outliers = []\n",
    "def detect_outliers(data):\n",
    "    \n",
    "    threshold = 4\n",
    "    mean = np.mean(data) # compute mean of data\n",
    "    std = np.std(data) # compute standard deviation of data\n",
    "    \n",
    "    for i in data:\n",
    "        # compute z_score --> z = ((x - mu) / σ)\n",
    "        z_score = (i - mean) / std\n",
    "        if np.abs(z_score) > threshold: # threshold = Q3 + 1.5 * IQR\n",
    "            outliers.append(i)\n",
    "    return outliers"
   ]
  },
  {
   "cell_type": "code",
   "execution_count": 58,
   "id": "f888ca9a",
   "metadata": {},
   "outputs": [
    {
     "name": "stdout",
     "output_type": "stream",
     "text": [
      "Numeric Data :-->  ['a', 'e', 'i', 'om', 'w', 'q', 'ad', 'per_y', 'data_arc', 'n_obs_used', 'H', 'albedo', 'moid', 'n', 'per', 'ma', 'Diameter']\n"
     ]
    }
   ],
   "source": [
    "num_data = [] # array of numeric data\n",
    "for ele in clean_dataset.columns:\n",
    "    if clean_dataset[ele].dtype != 'object':\n",
    "        num_data.append(ele)\n",
    "print(\"Numeric Data :--> \", num_data)"
   ]
  },
  {
   "cell_type": "code",
   "execution_count": 59,
   "id": "a59e26e5",
   "metadata": {},
   "outputs": [
    {
     "name": "stdout",
     "output_type": "stream",
     "text": [
      "Numer of outliers for a --> 50\n",
      "Numer of outliers for e --> 625\n",
      "Numer of outliers for i --> 770\n",
      "Numer of outliers for om --> 770\n",
      "Numer of outliers for w --> 770\n",
      "Numer of outliers for q --> 2601\n",
      "Numer of outliers for ad --> 2650\n",
      "Numer of outliers for per_y --> 2670\n",
      "Numer of outliers for data_arc --> 4040\n",
      "Numer of outliers for n_obs_used --> 4232\n",
      "Numer of outliers for H --> 4987\n",
      "Numer of outliers for albedo --> 5459\n",
      "Numer of outliers for moid --> 7262\n",
      "Numer of outliers for n --> 7653\n",
      "Numer of outliers for per --> 7673\n",
      "Numer of outliers for ma --> 7673\n",
      "Numer of outliers for Diameter --> 8581\n"
     ]
    }
   ],
   "source": [
    "# Number of outliers from each section\n",
    "for ele in num_data:\n",
    "    outlier = detect_outliers(clean_dataset[ele])\n",
    "    if len(outlier) > 0:\n",
    "        print(\"Numer of outliers for\", ele, \"-->\", len(outlier))"
   ]
  },
  {
   "cell_type": "markdown",
   "id": "df978f70",
   "metadata": {},
   "source": [
    "## Detecting and treating outlier using IQR "
   ]
  },
  {
   "cell_type": "markdown",
   "id": "72ad87cc",
   "metadata": {},
   "source": [
    "IQR is used to measure variabilty by dividing a data set into quartiles.\n",
    "\n",
    "The data is sorted in ascending order and split into 4 equal parts. Q1, q2, Q3 called first, second and third quartiles are the values which separate the 4 equal parts.\n",
    "\n",
    "Q1 represents the 25th percentile of the data.\n",
    "\n",
    "Q2 represnts the 50th percentile of the data.\n",
    "\n",
    "Q3 represents the 75th percentile of the data."
   ]
  },
  {
   "cell_type": "code",
   "execution_count": 60,
   "id": "9d0348b0",
   "metadata": {},
   "outputs": [],
   "source": [
    "# Replace the outlier value using the IQR\n",
    "# Function to find upper and lower limit\n",
    "def outlier_limits(col):\n",
    "    Q3, Q1 = np.percentile(col, [75, 25]) # upper and lower limits\n",
    "    IQR = Q3 - Q1 # Interquartile range \n",
    "    UL = Q3 + 1.5 * IQR # upper limit\n",
    "    LL = Q1 - 1.5 * IQR # Lower limit\n",
    "    return UL, LL"
   ]
  },
  {
   "cell_type": "markdown",
   "id": "c1a28f23",
   "metadata": {},
   "source": [
    "## Treating outliers using capping method \n",
    "\n",
    "Capping: In this technique, we cap the outliers data and make the limit i.e, above a particular value or less than that value, all the values willa be considered as outliers, and the numebr of outliers in the dataset gives that capping number."
   ]
  },
  {
   "cell_type": "code",
   "execution_count": 61,
   "id": "58b1b091",
   "metadata": {},
   "outputs": [],
   "source": [
    "new_df = pd.DataFrame()"
   ]
  },
  {
   "cell_type": "code",
   "execution_count": 62,
   "id": "12d904de",
   "metadata": {},
   "outputs": [
    {
     "name": "stdout",
     "output_type": "stream",
     "text": [
      "a --> Lower Limit :  2  |  Upper Limit : 4\n",
      "e --> Lower Limit :  0  |  Upper Limit : 0\n",
      "i --> Lower Limit :  -8  |  Upper Limit : 27\n",
      "om --> Lower Limit :  -179  |  Upper Limit : 517\n",
      "w --> Lower Limit :  -178  |  Upper Limit : 541\n",
      "q --> Lower Limit :  1  |  Upper Limit : 4\n",
      "ad --> Lower Limit :  2  |  Upper Limit : 4\n",
      "per_y --> Lower Limit :  2  |  Upper Limit : 8\n",
      "data_arc --> Lower Limit :  1128  |  Upper Limit : 14948\n",
      "n_obs_used --> Lower Limit :  -935  |  Upper Limit : 2145\n",
      "H --> Lower Limit :  12  |  Upper Limit : 19\n",
      "albedo --> Lower Limit :  0  |  Upper Limit : 0\n",
      "moid --> Lower Limit :  0  |  Upper Limit : 3\n",
      "n --> Lower Limit :  0  |  Upper Limit : 0\n",
      "per --> Lower Limit :  711  |  Upper Limit : 2751\n",
      "ma --> Lower Limit :  -171  |  Upper Limit : 537\n",
      "Diameter --> Lower Limit :  -2  |  Upper Limit : 10\n"
     ]
    }
   ],
   "source": [
    "for ele in num_data:\n",
    "    UL, LL = outlier_limits(clean_dataset[ele])\n",
    "    print(ele, \"-->\", \"Lower Limit : \", round(LL), \" | \", \"Upper Limit :\", round(UL)) # print UL and LL variable\n",
    "    clean_dataset[ele] = np.where(clean_dataset[ele]>UL,\n",
    "                                 UL, np.where\n",
    "                                 (clean_dataset[ele]<LL,\n",
    "                                 LL, clean_dataset[ele]))"
   ]
  },
  {
   "cell_type": "code",
   "execution_count": 63,
   "id": "a262d5d6",
   "metadata": {},
   "outputs": [],
   "source": [
    "# save the Clean Dataset\n",
    "clean_dataset.to_csv('Clean_Dataset.csv')"
   ]
  },
  {
   "cell_type": "code",
   "execution_count": null,
   "id": "dca3986d",
   "metadata": {},
   "outputs": [],
   "source": []
  }
 ],
 "metadata": {
  "kernelspec": {
   "display_name": "Python 3 (ipykernel)",
   "language": "python",
   "name": "python3"
  },
  "language_info": {
   "codemirror_mode": {
    "name": "ipython",
    "version": 3
   },
   "file_extension": ".py",
   "mimetype": "text/x-python",
   "name": "python",
   "nbconvert_exporter": "python",
   "pygments_lexer": "ipython3",
   "version": "3.9.7"
  }
 },
 "nbformat": 4,
 "nbformat_minor": 5
}
